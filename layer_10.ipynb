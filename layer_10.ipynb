{
  "cells": [
    {
      "cell_type": "markdown",
      "metadata": {},
      "source": [
        "# Layer 9"
      ]
    },
    {
      "cell_type": "code",
      "execution_count": 1,
      "metadata": {
        "colab": {
          "base_uri": "https://localhost:8080/"
        },
        "id": "_lb_YDijM8zS",
        "outputId": "9ee8d167-935e-47ec-d96f-8cd65af24715"
      },
      "outputs": [],
      "source": [
        "import pandas as pd\n",
        "import numpy as np\n",
        "\n",
        "# from google.colab import drive\n",
        "# drive.mount('/content/drive')\n",
        "\n",
        "# DATASET_PATH = \"/content/drive/MyDrive/ML Project/layer 9\"\n",
        "DATASET_PATH = \"layer 10\""
      ]
    },
    {
      "cell_type": "code",
      "execution_count": 2,
      "metadata": {
        "id": "-fmzxIArNja4"
      },
      "outputs": [],
      "source": [
        "# CSV files into Pandas DataFrames\n",
        "train_df = pd.read_csv(f\"{DATASET_PATH}/train.csv\")\n",
        "valid_df = pd.read_csv(f\"{DATASET_PATH}/valid.csv\")\n",
        "test_df = pd.read_csv(f\"{DATASET_PATH}/test.csv\")"
      ]
    },
    {
      "cell_type": "markdown",
      "metadata": {},
      "source": [
        "### Preprocess"
      ]
    },
    {
      "cell_type": "code",
      "execution_count": 3,
      "metadata": {
        "id": "VUVoO3KlOQ3T"
      },
      "outputs": [],
      "source": [
        "temp = list(train_df.columns)\n",
        "\n",
        "FEATURES = temp[:-4]\n",
        "LABELS = temp[-4:]"
      ]
    },
    {
      "cell_type": "code",
      "execution_count": 4,
      "metadata": {
        "colab": {
          "base_uri": "https://localhost:8080/",
          "height": 256
        },
        "id": "k9RXSp5jQ9HL",
        "outputId": "9cb6f512-eb01-43a1-9a98-9de7a26c1e89"
      },
      "outputs": [
        {
          "data": {
            "text/html": [
              "<div>\n",
              "<style scoped>\n",
              "    .dataframe tbody tr th:only-of-type {\n",
              "        vertical-align: middle;\n",
              "    }\n",
              "\n",
              "    .dataframe tbody tr th {\n",
              "        vertical-align: top;\n",
              "    }\n",
              "\n",
              "    .dataframe thead th {\n",
              "        text-align: right;\n",
              "    }\n",
              "</style>\n",
              "<table border=\"1\" class=\"dataframe\">\n",
              "  <thead>\n",
              "    <tr style=\"text-align: right;\">\n",
              "      <th></th>\n",
              "      <th>feature_1</th>\n",
              "      <th>feature_2</th>\n",
              "      <th>feature_3</th>\n",
              "      <th>feature_4</th>\n",
              "      <th>feature_5</th>\n",
              "      <th>feature_6</th>\n",
              "      <th>feature_7</th>\n",
              "      <th>feature_8</th>\n",
              "      <th>feature_9</th>\n",
              "      <th>feature_10</th>\n",
              "      <th>...</th>\n",
              "      <th>feature_759</th>\n",
              "      <th>feature_760</th>\n",
              "      <th>feature_761</th>\n",
              "      <th>feature_762</th>\n",
              "      <th>feature_763</th>\n",
              "      <th>feature_764</th>\n",
              "      <th>feature_765</th>\n",
              "      <th>feature_766</th>\n",
              "      <th>feature_767</th>\n",
              "      <th>feature_768</th>\n",
              "    </tr>\n",
              "  </thead>\n",
              "  <tbody>\n",
              "    <tr>\n",
              "      <th>0</th>\n",
              "      <td>-0.063023</td>\n",
              "      <td>0.085030</td>\n",
              "      <td>-0.057909</td>\n",
              "      <td>0.024293</td>\n",
              "      <td>0.028695</td>\n",
              "      <td>-0.113796</td>\n",
              "      <td>0.028477</td>\n",
              "      <td>-0.006041</td>\n",
              "      <td>-0.132434</td>\n",
              "      <td>0.088144</td>\n",
              "      <td>...</td>\n",
              "      <td>-0.160050</td>\n",
              "      <td>0.078897</td>\n",
              "      <td>0.120168</td>\n",
              "      <td>-0.160152</td>\n",
              "      <td>-0.200884</td>\n",
              "      <td>0.046231</td>\n",
              "      <td>-0.115850</td>\n",
              "      <td>0.182974</td>\n",
              "      <td>0.047106</td>\n",
              "      <td>-0.118783</td>\n",
              "    </tr>\n",
              "    <tr>\n",
              "      <th>1</th>\n",
              "      <td>-0.036403</td>\n",
              "      <td>0.115930</td>\n",
              "      <td>-0.066521</td>\n",
              "      <td>0.045771</td>\n",
              "      <td>-0.027250</td>\n",
              "      <td>-0.164679</td>\n",
              "      <td>0.023611</td>\n",
              "      <td>0.056512</td>\n",
              "      <td>-0.171498</td>\n",
              "      <td>-0.021133</td>\n",
              "      <td>...</td>\n",
              "      <td>-0.137038</td>\n",
              "      <td>0.042576</td>\n",
              "      <td>0.006788</td>\n",
              "      <td>-0.207013</td>\n",
              "      <td>-0.205184</td>\n",
              "      <td>-0.053462</td>\n",
              "      <td>-0.003775</td>\n",
              "      <td>-0.035003</td>\n",
              "      <td>-0.041118</td>\n",
              "      <td>-0.079211</td>\n",
              "    </tr>\n",
              "    <tr>\n",
              "      <th>2</th>\n",
              "      <td>0.030672</td>\n",
              "      <td>0.045321</td>\n",
              "      <td>-0.163811</td>\n",
              "      <td>0.142376</td>\n",
              "      <td>-0.125894</td>\n",
              "      <td>-0.083943</td>\n",
              "      <td>-0.039693</td>\n",
              "      <td>-0.004867</td>\n",
              "      <td>-0.127951</td>\n",
              "      <td>0.111345</td>\n",
              "      <td>...</td>\n",
              "      <td>0.090191</td>\n",
              "      <td>0.038063</td>\n",
              "      <td>0.070423</td>\n",
              "      <td>-0.253409</td>\n",
              "      <td>-0.072147</td>\n",
              "      <td>0.016236</td>\n",
              "      <td>-0.144047</td>\n",
              "      <td>-0.122405</td>\n",
              "      <td>-0.063079</td>\n",
              "      <td>-0.188233</td>\n",
              "    </tr>\n",
              "    <tr>\n",
              "      <th>3</th>\n",
              "      <td>-0.000984</td>\n",
              "      <td>0.080593</td>\n",
              "      <td>-0.067086</td>\n",
              "      <td>0.005251</td>\n",
              "      <td>-0.141851</td>\n",
              "      <td>-0.125211</td>\n",
              "      <td>-0.016161</td>\n",
              "      <td>0.106323</td>\n",
              "      <td>-0.203491</td>\n",
              "      <td>-0.027378</td>\n",
              "      <td>...</td>\n",
              "      <td>-0.107041</td>\n",
              "      <td>0.028166</td>\n",
              "      <td>-0.073713</td>\n",
              "      <td>-0.073180</td>\n",
              "      <td>-0.109380</td>\n",
              "      <td>-0.027901</td>\n",
              "      <td>-0.006863</td>\n",
              "      <td>0.016840</td>\n",
              "      <td>-0.171139</td>\n",
              "      <td>0.086868</td>\n",
              "    </tr>\n",
              "    <tr>\n",
              "      <th>4</th>\n",
              "      <td>0.059806</td>\n",
              "      <td>0.088846</td>\n",
              "      <td>-0.058021</td>\n",
              "      <td>0.133098</td>\n",
              "      <td>-0.083380</td>\n",
              "      <td>-0.026724</td>\n",
              "      <td>-0.033793</td>\n",
              "      <td>-0.004055</td>\n",
              "      <td>-0.057890</td>\n",
              "      <td>-0.011114</td>\n",
              "      <td>...</td>\n",
              "      <td>0.047907</td>\n",
              "      <td>0.026333</td>\n",
              "      <td>0.012204</td>\n",
              "      <td>-0.245772</td>\n",
              "      <td>-0.044506</td>\n",
              "      <td>0.058273</td>\n",
              "      <td>-0.005203</td>\n",
              "      <td>-0.104552</td>\n",
              "      <td>0.002035</td>\n",
              "      <td>-0.091528</td>\n",
              "    </tr>\n",
              "  </tbody>\n",
              "</table>\n",
              "<p>5 rows × 768 columns</p>\n",
              "</div>"
            ],
            "text/plain": [
              "   feature_1  feature_2  feature_3  feature_4  feature_5  feature_6  \\\n",
              "0  -0.063023   0.085030  -0.057909   0.024293   0.028695  -0.113796   \n",
              "1  -0.036403   0.115930  -0.066521   0.045771  -0.027250  -0.164679   \n",
              "2   0.030672   0.045321  -0.163811   0.142376  -0.125894  -0.083943   \n",
              "3  -0.000984   0.080593  -0.067086   0.005251  -0.141851  -0.125211   \n",
              "4   0.059806   0.088846  -0.058021   0.133098  -0.083380  -0.026724   \n",
              "\n",
              "   feature_7  feature_8  feature_9  feature_10  ...  feature_759  feature_760  \\\n",
              "0   0.028477  -0.006041  -0.132434    0.088144  ...    -0.160050     0.078897   \n",
              "1   0.023611   0.056512  -0.171498   -0.021133  ...    -0.137038     0.042576   \n",
              "2  -0.039693  -0.004867  -0.127951    0.111345  ...     0.090191     0.038063   \n",
              "3  -0.016161   0.106323  -0.203491   -0.027378  ...    -0.107041     0.028166   \n",
              "4  -0.033793  -0.004055  -0.057890   -0.011114  ...     0.047907     0.026333   \n",
              "\n",
              "   feature_761  feature_762  feature_763  feature_764  feature_765  \\\n",
              "0     0.120168    -0.160152    -0.200884     0.046231    -0.115850   \n",
              "1     0.006788    -0.207013    -0.205184    -0.053462    -0.003775   \n",
              "2     0.070423    -0.253409    -0.072147     0.016236    -0.144047   \n",
              "3    -0.073713    -0.073180    -0.109380    -0.027901    -0.006863   \n",
              "4     0.012204    -0.245772    -0.044506     0.058273    -0.005203   \n",
              "\n",
              "   feature_766  feature_767  feature_768  \n",
              "0     0.182974     0.047106    -0.118783  \n",
              "1    -0.035003    -0.041118    -0.079211  \n",
              "2    -0.122405    -0.063079    -0.188233  \n",
              "3     0.016840    -0.171139     0.086868  \n",
              "4    -0.104552     0.002035    -0.091528  \n",
              "\n",
              "[5 rows x 768 columns]"
            ]
          },
          "execution_count": 4,
          "metadata": {},
          "output_type": "execute_result"
        }
      ],
      "source": [
        "# drop ID column from the test dataset\n",
        "x_test = test_df.drop('ID', axis=1)\n",
        "\n",
        "x_test.head()"
      ]
    },
    {
      "cell_type": "code",
      "execution_count": 5,
      "metadata": {
        "id": "4xf-J1lmPIRn"
      },
      "outputs": [],
      "source": [
        "# dict to store train and valid dataset for each label\n",
        "x_train = {}\n",
        "y_train = {}\n",
        "x_valid = {}\n",
        "y_valid = {}\n",
        "\n",
        "# seperate the train and valid datasets into labels\n",
        "# remove the rows where label is NaN\n",
        "\n",
        "for label in LABELS:\n",
        "\n",
        "    train_df_temp = train_df[~np.isnan(train_df[label])]\n",
        "    valid_df_temp = valid_df[~np.isnan(valid_df[label])]\n",
        "\n",
        "    x_train[label] = train_df_temp.drop(LABELS, axis=1)\n",
        "    y_train[label] = train_df_temp[label]\n",
        "    x_valid[label] = valid_df_temp.drop(LABELS, axis=1)\n",
        "    y_valid[label] = valid_df_temp[label]"
      ]
    },
    {
      "cell_type": "code",
      "execution_count": 6,
      "metadata": {
        "colab": {
          "base_uri": "https://localhost:8080/",
          "height": 256
        },
        "id": "wLKxs_WvRljJ",
        "outputId": "e96748ee-8d75-4126-eb26-c784c7d1d231"
      },
      "outputs": [
        {
          "data": {
            "text/html": [
              "<div>\n",
              "<style scoped>\n",
              "    .dataframe tbody tr th:only-of-type {\n",
              "        vertical-align: middle;\n",
              "    }\n",
              "\n",
              "    .dataframe tbody tr th {\n",
              "        vertical-align: top;\n",
              "    }\n",
              "\n",
              "    .dataframe thead th {\n",
              "        text-align: right;\n",
              "    }\n",
              "</style>\n",
              "<table border=\"1\" class=\"dataframe\">\n",
              "  <thead>\n",
              "    <tr style=\"text-align: right;\">\n",
              "      <th></th>\n",
              "      <th>feature_1</th>\n",
              "      <th>feature_2</th>\n",
              "      <th>feature_3</th>\n",
              "      <th>feature_4</th>\n",
              "      <th>feature_5</th>\n",
              "      <th>feature_6</th>\n",
              "      <th>feature_7</th>\n",
              "      <th>feature_8</th>\n",
              "      <th>feature_9</th>\n",
              "      <th>feature_10</th>\n",
              "      <th>...</th>\n",
              "      <th>feature_759</th>\n",
              "      <th>feature_760</th>\n",
              "      <th>feature_761</th>\n",
              "      <th>feature_762</th>\n",
              "      <th>feature_763</th>\n",
              "      <th>feature_764</th>\n",
              "      <th>feature_765</th>\n",
              "      <th>feature_766</th>\n",
              "      <th>feature_767</th>\n",
              "      <th>feature_768</th>\n",
              "    </tr>\n",
              "  </thead>\n",
              "  <tbody>\n",
              "    <tr>\n",
              "      <th>480</th>\n",
              "      <td>0.053179</td>\n",
              "      <td>0.094833</td>\n",
              "      <td>-0.098983</td>\n",
              "      <td>0.131190</td>\n",
              "      <td>-0.031974</td>\n",
              "      <td>-0.049086</td>\n",
              "      <td>0.038929</td>\n",
              "      <td>0.091135</td>\n",
              "      <td>-0.107005</td>\n",
              "      <td>0.018532</td>\n",
              "      <td>...</td>\n",
              "      <td>0.073301</td>\n",
              "      <td>-0.008309</td>\n",
              "      <td>0.096050</td>\n",
              "      <td>-0.319057</td>\n",
              "      <td>-0.084282</td>\n",
              "      <td>0.057429</td>\n",
              "      <td>-0.064677</td>\n",
              "      <td>0.017584</td>\n",
              "      <td>-0.007926</td>\n",
              "      <td>-0.144536</td>\n",
              "    </tr>\n",
              "    <tr>\n",
              "      <th>481</th>\n",
              "      <td>0.033278</td>\n",
              "      <td>0.059124</td>\n",
              "      <td>-0.020353</td>\n",
              "      <td>0.168918</td>\n",
              "      <td>0.036165</td>\n",
              "      <td>-0.117302</td>\n",
              "      <td>-0.081979</td>\n",
              "      <td>-0.070096</td>\n",
              "      <td>-0.161345</td>\n",
              "      <td>0.106618</td>\n",
              "      <td>...</td>\n",
              "      <td>0.066489</td>\n",
              "      <td>0.002962</td>\n",
              "      <td>0.003712</td>\n",
              "      <td>-0.235858</td>\n",
              "      <td>-0.051955</td>\n",
              "      <td>0.121809</td>\n",
              "      <td>0.007508</td>\n",
              "      <td>0.074416</td>\n",
              "      <td>0.000140</td>\n",
              "      <td>0.115385</td>\n",
              "    </tr>\n",
              "    <tr>\n",
              "      <th>482</th>\n",
              "      <td>0.046853</td>\n",
              "      <td>0.076299</td>\n",
              "      <td>-0.012859</td>\n",
              "      <td>0.089680</td>\n",
              "      <td>0.046729</td>\n",
              "      <td>-0.000054</td>\n",
              "      <td>-0.045814</td>\n",
              "      <td>0.023595</td>\n",
              "      <td>-0.104441</td>\n",
              "      <td>0.025995</td>\n",
              "      <td>...</td>\n",
              "      <td>-0.054697</td>\n",
              "      <td>0.027111</td>\n",
              "      <td>0.087195</td>\n",
              "      <td>-0.142816</td>\n",
              "      <td>-0.202896</td>\n",
              "      <td>0.099567</td>\n",
              "      <td>-0.069376</td>\n",
              "      <td>0.061420</td>\n",
              "      <td>0.003834</td>\n",
              "      <td>0.000445</td>\n",
              "    </tr>\n",
              "    <tr>\n",
              "      <th>483</th>\n",
              "      <td>0.001946</td>\n",
              "      <td>0.060066</td>\n",
              "      <td>0.012458</td>\n",
              "      <td>0.001349</td>\n",
              "      <td>-0.057288</td>\n",
              "      <td>-0.219725</td>\n",
              "      <td>0.001473</td>\n",
              "      <td>0.036990</td>\n",
              "      <td>-0.210818</td>\n",
              "      <td>0.055353</td>\n",
              "      <td>...</td>\n",
              "      <td>-0.095423</td>\n",
              "      <td>0.013749</td>\n",
              "      <td>-0.041319</td>\n",
              "      <td>-0.207143</td>\n",
              "      <td>-0.175213</td>\n",
              "      <td>-0.030503</td>\n",
              "      <td>-0.081459</td>\n",
              "      <td>0.106127</td>\n",
              "      <td>0.039627</td>\n",
              "      <td>0.025073</td>\n",
              "    </tr>\n",
              "    <tr>\n",
              "      <th>484</th>\n",
              "      <td>0.046541</td>\n",
              "      <td>0.113568</td>\n",
              "      <td>-0.009204</td>\n",
              "      <td>0.058154</td>\n",
              "      <td>0.027733</td>\n",
              "      <td>-0.095826</td>\n",
              "      <td>0.072213</td>\n",
              "      <td>-0.013832</td>\n",
              "      <td>-0.007329</td>\n",
              "      <td>0.074815</td>\n",
              "      <td>...</td>\n",
              "      <td>-0.065764</td>\n",
              "      <td>0.016530</td>\n",
              "      <td>0.109589</td>\n",
              "      <td>-0.095758</td>\n",
              "      <td>-0.142571</td>\n",
              "      <td>0.081530</td>\n",
              "      <td>-0.058456</td>\n",
              "      <td>-0.049127</td>\n",
              "      <td>-0.061282</td>\n",
              "      <td>0.041392</td>\n",
              "    </tr>\n",
              "  </tbody>\n",
              "</table>\n",
              "<p>5 rows × 768 columns</p>\n",
              "</div>"
            ],
            "text/plain": [
              "     feature_1  feature_2  feature_3  feature_4  feature_5  feature_6  \\\n",
              "480   0.053179   0.094833  -0.098983   0.131190  -0.031974  -0.049086   \n",
              "481   0.033278   0.059124  -0.020353   0.168918   0.036165  -0.117302   \n",
              "482   0.046853   0.076299  -0.012859   0.089680   0.046729  -0.000054   \n",
              "483   0.001946   0.060066   0.012458   0.001349  -0.057288  -0.219725   \n",
              "484   0.046541   0.113568  -0.009204   0.058154   0.027733  -0.095826   \n",
              "\n",
              "     feature_7  feature_8  feature_9  feature_10  ...  feature_759  \\\n",
              "480   0.038929   0.091135  -0.107005    0.018532  ...     0.073301   \n",
              "481  -0.081979  -0.070096  -0.161345    0.106618  ...     0.066489   \n",
              "482  -0.045814   0.023595  -0.104441    0.025995  ...    -0.054697   \n",
              "483   0.001473   0.036990  -0.210818    0.055353  ...    -0.095423   \n",
              "484   0.072213  -0.013832  -0.007329    0.074815  ...    -0.065764   \n",
              "\n",
              "     feature_760  feature_761  feature_762  feature_763  feature_764  \\\n",
              "480    -0.008309     0.096050    -0.319057    -0.084282     0.057429   \n",
              "481     0.002962     0.003712    -0.235858    -0.051955     0.121809   \n",
              "482     0.027111     0.087195    -0.142816    -0.202896     0.099567   \n",
              "483     0.013749    -0.041319    -0.207143    -0.175213    -0.030503   \n",
              "484     0.016530     0.109589    -0.095758    -0.142571     0.081530   \n",
              "\n",
              "     feature_765  feature_766  feature_767  feature_768  \n",
              "480    -0.064677     0.017584    -0.007926    -0.144536  \n",
              "481     0.007508     0.074416     0.000140     0.115385  \n",
              "482    -0.069376     0.061420     0.003834     0.000445  \n",
              "483    -0.081459     0.106127     0.039627     0.025073  \n",
              "484    -0.058456    -0.049127    -0.061282     0.041392  \n",
              "\n",
              "[5 rows x 768 columns]"
            ]
          },
          "execution_count": 6,
          "metadata": {},
          "output_type": "execute_result"
        }
      ],
      "source": [
        "x_train['label_2'].head()"
      ]
    },
    {
      "cell_type": "markdown",
      "metadata": {
        "id": "q9F-q9lf2yGK"
      },
      "source": [
        "### Classifires"
      ]
    },
    {
      "cell_type": "code",
      "execution_count": 7,
      "metadata": {
        "id": "nbaLk6MO1K8L"
      },
      "outputs": [],
      "source": [
        "from sklearn.svm import SVC\n",
        "from sklearn.metrics import accuracy_score\n",
        "\n",
        "def svm_classifier(x_train, y_train, x_valid, y_valid):\n",
        "  model = SVC(kernel='linear')\n",
        "  model.fit(x_train, y_train)\n",
        "  y_predict = model.predict(x_valid)\n",
        "  accuracy = accuracy_score(y_valid, y_predict)\n",
        "  return accuracy\n",
        "\n",
        "def weighted_svm_classifier(x_train, y_train, x_valid, y_valid):\n",
        "  model = SVC(kernel='linear', class_weight='balanced')\n",
        "  model.fit(x_train, y_train)\n",
        "  y_predict = model.predict(x_valid)\n",
        "  accuracy = accuracy_score(y_valid, y_predict)\n",
        "  return accuracy\n",
        "\n"
      ]
    },
    {
      "cell_type": "code",
      "execution_count": 8,
      "metadata": {
        "id": "9IRNfkhz3VSf"
      },
      "outputs": [],
      "source": [
        "import xgboost as xgb\n",
        "\n",
        "def xgb_classifier(x_train, y_train, x_valid, y_valid):\n",
        "  model = xgb.XGBClassifier()\n",
        "  model.fit(x_train, y_train)\n",
        "  y_predict = model.predict(x_valid)\n",
        "  accuracy = accuracy_score(y_valid, y_predict)\n",
        "  return accuracy"
      ]
    },
    {
      "cell_type": "markdown",
      "metadata": {
        "id": "-LBz5GoTyumk"
      },
      "source": [
        "### Grid Search / Random Search"
      ]
    },
    {
      "cell_type": "code",
      "execution_count": 9,
      "metadata": {
        "id": "agXQQLdLy0rv"
      },
      "outputs": [],
      "source": [
        "from sklearn.model_selection import RandomizedSearchCV\n",
        "\n",
        "def random_grid_search(model, param_dist, cv, n_iter, x_train, y_train):\n",
        "\n",
        "  random_search = RandomizedSearchCV(\n",
        "      estimator=model,\n",
        "      param_distributions=param_dist,\n",
        "      scoring='accuracy',\n",
        "      cv=cv,\n",
        "      verbose=1,\n",
        "      n_jobs=-1,\n",
        "      n_iter=n_iter\n",
        "  )\n",
        "\n",
        "  random_search.fit(x_train, y_train)\n",
        "\n",
        "  return random_search\n"
      ]
    },
    {
      "cell_type": "code",
      "execution_count": 10,
      "metadata": {},
      "outputs": [],
      "source": [
        "from sklearn.model_selection import GridSearchCV\n",
        "\n",
        "def grid_search(model, param_dist, cv, x_train, y_train):\n",
        "\n",
        "  grid_search = GridSearchCV(\n",
        "      estimator=model,\n",
        "      param_grid=param_dist,\n",
        "      scoring='accuracy',\n",
        "      cv=cv,\n",
        "      verbose=1,\n",
        "      n_jobs=-1\n",
        "  )\n",
        "\n",
        "  grid_search.fit(x_train, y_train)\n",
        "\n",
        "  return grid_search\n"
      ]
    },
    {
      "cell_type": "markdown",
      "metadata": {},
      "source": [
        "### Cross Validation"
      ]
    },
    {
      "cell_type": "code",
      "execution_count": 11,
      "metadata": {},
      "outputs": [],
      "source": [
        "from sklearn.model_selection import cross_val_score\n",
        "\n",
        "def k_fold_cross_validation(model, k, x_train, y_train):\n",
        "\n",
        "    scores = cross_val_score(model, x_train, y_train, cv=k)\n",
        "    mean_score = np.mean(scores)\n",
        "    std_deviation = np.std(scores)\n",
        "    print(\"Cross-Validation Scores:\", scores)\n",
        "    print(\"Mean Score:\", mean_score)\n",
        "    print(\"Standard Deviation:\", std_deviation)"
      ]
    },
    {
      "cell_type": "markdown",
      "metadata": {
        "id": "NLmbK_vUP8EV"
      },
      "source": [
        "## Label 1"
      ]
    },
    {
      "cell_type": "code",
      "execution_count": 12,
      "metadata": {
        "colab": {
          "base_uri": "https://localhost:8080/",
          "height": 479
        },
        "id": "Yq9CpFLiSRjj",
        "outputId": "3dbb3d8a-ffe4-4aa1-874c-b9e698ac05ac"
      },
      "outputs": [
        {
          "data": {
            "text/plain": [
              "<AxesSubplot: xlabel='label_1', ylabel='count'>"
            ]
          },
          "execution_count": 12,
          "metadata": {},
          "output_type": "execute_result"
        },
        {
          "data": {
            "image/png": "[encoded data removed]",
            "text/plain": [
              "<Figure size 1800x600 with 1 Axes>"
            ]
          },
          "metadata": {},
          "output_type": "display_data"
        }
      ],
      "source": [
        "import matplotlib.pyplot as plt\n",
        "import seaborn as sn\n",
        "\n",
        "L1 = 'label_1'\n",
        "\n",
        "plt.figure(figsize=(18,6))\n",
        "sn.countplot(data=y_train, x=L1, color='blue')"
      ]
    },
    {
      "cell_type": "markdown",
      "metadata": {},
      "source": [
        "#### Initial Accuracy"
      ]
    },
    {
      "cell_type": "code",
      "execution_count": 13,
      "metadata": {
        "colab": {
          "base_uri": "https://localhost:8080/"
        },
        "id": "GOHeNnVdZ34U",
        "outputId": "0a68dfb6-7226-4824-ade4-6a95c112f87e"
      },
      "outputs": [
        {
          "name": "stdout",
          "output_type": "stream",
          "text": [
            "Accuracy = 0.9733333333333334\n"
          ]
        }
      ],
      "source": [
        "accuracy = svm_classifier(x_train[L1], y_train[L1], x_valid[L1], y_valid[L1])\n",
        "print(f\"Accuracy = {accuracy}\")\n",
        "# accuracy = xgb_classifier(x_train[L1], y_train[L1]-1, x_valid[L1], y_valid[L1]-1)\n",
        "# print(f\"Accuracy = {accuracy}\")"
      ]
    },
    {
      "cell_type": "markdown",
      "metadata": {
        "id": "k6JAQS1QXCpj"
      },
      "source": [
        "#### Correlation"
      ]
    },
    {
      "cell_type": "code",
      "execution_count": 14,
      "metadata": {
        "id": "aoLK40S_TMVV"
      },
      "outputs": [],
      "source": [
        "corr_matrix_l1 = x_train[L1].corr()"
      ]
    },
    {
      "cell_type": "code",
      "execution_count": 15,
      "metadata": {
        "colab": {
          "base_uri": "https://localhost:8080/",
          "height": 444
        },
        "id": "kYtJbnyTTv_e",
        "outputId": "13748243-6ff7-4a79-b47e-a8d82e47ac28"
      },
      "outputs": [
        {
          "data": {
            "text/html": [
              "<div>\n",
              "<style scoped>\n",
              "    .dataframe tbody tr th:only-of-type {\n",
              "        vertical-align: middle;\n",
              "    }\n",
              "\n",
              "    .dataframe tbody tr th {\n",
              "        vertical-align: top;\n",
              "    }\n",
              "\n",
              "    .dataframe thead th {\n",
              "        text-align: right;\n",
              "    }\n",
              "</style>\n",
              "<table border=\"1\" class=\"dataframe\">\n",
              "  <thead>\n",
              "    <tr style=\"text-align: right;\">\n",
              "      <th></th>\n",
              "      <th>feature_1</th>\n",
              "      <th>feature_2</th>\n",
              "      <th>feature_3</th>\n",
              "      <th>feature_4</th>\n",
              "      <th>feature_5</th>\n",
              "      <th>feature_6</th>\n",
              "      <th>feature_7</th>\n",
              "      <th>feature_8</th>\n",
              "      <th>feature_9</th>\n",
              "      <th>feature_10</th>\n",
              "      <th>...</th>\n",
              "      <th>feature_759</th>\n",
              "      <th>feature_760</th>\n",
              "      <th>feature_761</th>\n",
              "      <th>feature_762</th>\n",
              "      <th>feature_763</th>\n",
              "      <th>feature_764</th>\n",
              "      <th>feature_765</th>\n",
              "      <th>feature_766</th>\n",
              "      <th>feature_767</th>\n",
              "      <th>feature_768</th>\n",
              "    </tr>\n",
              "  </thead>\n",
              "  <tbody>\n",
              "    <tr>\n",
              "      <th>feature_1</th>\n",
              "      <td>1.000000</td>\n",
              "      <td>0.267338</td>\n",
              "      <td>0.071490</td>\n",
              "      <td>0.414422</td>\n",
              "      <td>0.036982</td>\n",
              "      <td>0.207898</td>\n",
              "      <td>0.118319</td>\n",
              "      <td>0.147709</td>\n",
              "      <td>0.368570</td>\n",
              "      <td>-0.190114</td>\n",
              "      <td>...</td>\n",
              "      <td>0.294503</td>\n",
              "      <td>0.016181</td>\n",
              "      <td>0.253096</td>\n",
              "      <td>-0.245060</td>\n",
              "      <td>0.423731</td>\n",
              "      <td>0.443474</td>\n",
              "      <td>0.216448</td>\n",
              "      <td>-0.372152</td>\n",
              "      <td>0.081136</td>\n",
              "      <td>0.266223</td>\n",
              "    </tr>\n",
              "    <tr>\n",
              "      <th>feature_2</th>\n",
              "      <td>0.267338</td>\n",
              "      <td>1.000000</td>\n",
              "      <td>-0.027042</td>\n",
              "      <td>0.004284</td>\n",
              "      <td>0.009556</td>\n",
              "      <td>-0.175189</td>\n",
              "      <td>0.118727</td>\n",
              "      <td>0.047381</td>\n",
              "      <td>0.146719</td>\n",
              "      <td>0.004041</td>\n",
              "      <td>...</td>\n",
              "      <td>0.036397</td>\n",
              "      <td>0.120084</td>\n",
              "      <td>0.058233</td>\n",
              "      <td>-0.095840</td>\n",
              "      <td>0.066372</td>\n",
              "      <td>0.357378</td>\n",
              "      <td>0.107098</td>\n",
              "      <td>0.008878</td>\n",
              "      <td>-0.021500</td>\n",
              "      <td>0.233835</td>\n",
              "    </tr>\n",
              "    <tr>\n",
              "      <th>feature_3</th>\n",
              "      <td>0.071490</td>\n",
              "      <td>-0.027042</td>\n",
              "      <td>1.000000</td>\n",
              "      <td>0.005692</td>\n",
              "      <td>0.187217</td>\n",
              "      <td>-0.184922</td>\n",
              "      <td>-0.071054</td>\n",
              "      <td>-0.217118</td>\n",
              "      <td>0.112494</td>\n",
              "      <td>-0.045269</td>\n",
              "      <td>...</td>\n",
              "      <td>-0.054550</td>\n",
              "      <td>0.048824</td>\n",
              "      <td>-0.087434</td>\n",
              "      <td>0.183482</td>\n",
              "      <td>-0.184763</td>\n",
              "      <td>-0.133512</td>\n",
              "      <td>-0.018046</td>\n",
              "      <td>0.164799</td>\n",
              "      <td>-0.030219</td>\n",
              "      <td>0.204483</td>\n",
              "    </tr>\n",
              "    <tr>\n",
              "      <th>feature_4</th>\n",
              "      <td>0.414422</td>\n",
              "      <td>0.004284</td>\n",
              "      <td>0.005692</td>\n",
              "      <td>1.000000</td>\n",
              "      <td>-0.017515</td>\n",
              "      <td>0.295999</td>\n",
              "      <td>-0.119338</td>\n",
              "      <td>0.077402</td>\n",
              "      <td>0.123430</td>\n",
              "      <td>-0.147437</td>\n",
              "      <td>...</td>\n",
              "      <td>0.402941</td>\n",
              "      <td>-0.048514</td>\n",
              "      <td>0.175835</td>\n",
              "      <td>-0.130880</td>\n",
              "      <td>0.364475</td>\n",
              "      <td>0.317812</td>\n",
              "      <td>0.156064</td>\n",
              "      <td>-0.313222</td>\n",
              "      <td>0.200493</td>\n",
              "      <td>0.071073</td>\n",
              "    </tr>\n",
              "    <tr>\n",
              "      <th>feature_5</th>\n",
              "      <td>0.036982</td>\n",
              "      <td>0.009556</td>\n",
              "      <td>0.187217</td>\n",
              "      <td>-0.017515</td>\n",
              "      <td>1.000000</td>\n",
              "      <td>-0.139041</td>\n",
              "      <td>-0.020940</td>\n",
              "      <td>-0.116694</td>\n",
              "      <td>0.187147</td>\n",
              "      <td>-0.095713</td>\n",
              "      <td>...</td>\n",
              "      <td>0.002091</td>\n",
              "      <td>0.094546</td>\n",
              "      <td>0.062270</td>\n",
              "      <td>0.143789</td>\n",
              "      <td>-0.263428</td>\n",
              "      <td>0.032675</td>\n",
              "      <td>-0.091599</td>\n",
              "      <td>0.159690</td>\n",
              "      <td>-0.051591</td>\n",
              "      <td>-0.072895</td>\n",
              "    </tr>\n",
              "    <tr>\n",
              "      <th>...</th>\n",
              "      <td>...</td>\n",
              "      <td>...</td>\n",
              "      <td>...</td>\n",
              "      <td>...</td>\n",
              "      <td>...</td>\n",
              "      <td>...</td>\n",
              "      <td>...</td>\n",
              "      <td>...</td>\n",
              "      <td>...</td>\n",
              "      <td>...</td>\n",
              "      <td>...</td>\n",
              "      <td>...</td>\n",
              "      <td>...</td>\n",
              "      <td>...</td>\n",
              "      <td>...</td>\n",
              "      <td>...</td>\n",
              "      <td>...</td>\n",
              "      <td>...</td>\n",
              "      <td>...</td>\n",
              "      <td>...</td>\n",
              "      <td>...</td>\n",
              "    </tr>\n",
              "    <tr>\n",
              "      <th>feature_764</th>\n",
              "      <td>0.443474</td>\n",
              "      <td>0.357378</td>\n",
              "      <td>-0.133512</td>\n",
              "      <td>0.317812</td>\n",
              "      <td>0.032675</td>\n",
              "      <td>0.202273</td>\n",
              "      <td>0.078858</td>\n",
              "      <td>0.117481</td>\n",
              "      <td>0.085433</td>\n",
              "      <td>-0.282476</td>\n",
              "      <td>...</td>\n",
              "      <td>0.192540</td>\n",
              "      <td>0.068779</td>\n",
              "      <td>0.145485</td>\n",
              "      <td>-0.230508</td>\n",
              "      <td>0.315251</td>\n",
              "      <td>1.000000</td>\n",
              "      <td>0.204746</td>\n",
              "      <td>-0.159590</td>\n",
              "      <td>0.181170</td>\n",
              "      <td>0.216180</td>\n",
              "    </tr>\n",
              "    <tr>\n",
              "      <th>feature_765</th>\n",
              "      <td>0.216448</td>\n",
              "      <td>0.107098</td>\n",
              "      <td>-0.018046</td>\n",
              "      <td>0.156064</td>\n",
              "      <td>-0.091599</td>\n",
              "      <td>-0.113032</td>\n",
              "      <td>-0.079667</td>\n",
              "      <td>0.106025</td>\n",
              "      <td>0.118023</td>\n",
              "      <td>-0.205155</td>\n",
              "      <td>...</td>\n",
              "      <td>0.213167</td>\n",
              "      <td>0.136531</td>\n",
              "      <td>0.093549</td>\n",
              "      <td>-0.129885</td>\n",
              "      <td>0.327689</td>\n",
              "      <td>0.204746</td>\n",
              "      <td>1.000000</td>\n",
              "      <td>-0.117247</td>\n",
              "      <td>0.154951</td>\n",
              "      <td>0.388355</td>\n",
              "    </tr>\n",
              "    <tr>\n",
              "      <th>feature_766</th>\n",
              "      <td>-0.372152</td>\n",
              "      <td>0.008878</td>\n",
              "      <td>0.164799</td>\n",
              "      <td>-0.313222</td>\n",
              "      <td>0.159690</td>\n",
              "      <td>-0.411833</td>\n",
              "      <td>-0.139678</td>\n",
              "      <td>-0.374096</td>\n",
              "      <td>-0.342061</td>\n",
              "      <td>0.119664</td>\n",
              "      <td>...</td>\n",
              "      <td>-0.559327</td>\n",
              "      <td>0.201898</td>\n",
              "      <td>-0.053654</td>\n",
              "      <td>0.334765</td>\n",
              "      <td>-0.503721</td>\n",
              "      <td>-0.159590</td>\n",
              "      <td>-0.117247</td>\n",
              "      <td>1.000000</td>\n",
              "      <td>-0.224632</td>\n",
              "      <td>0.129305</td>\n",
              "    </tr>\n",
              "    <tr>\n",
              "      <th>feature_767</th>\n",
              "      <td>0.081136</td>\n",
              "      <td>-0.021500</td>\n",
              "      <td>-0.030219</td>\n",
              "      <td>0.200493</td>\n",
              "      <td>-0.051591</td>\n",
              "      <td>0.173833</td>\n",
              "      <td>-0.109424</td>\n",
              "      <td>0.160097</td>\n",
              "      <td>0.017900</td>\n",
              "      <td>-0.064848</td>\n",
              "      <td>...</td>\n",
              "      <td>0.242810</td>\n",
              "      <td>-0.086578</td>\n",
              "      <td>-0.004117</td>\n",
              "      <td>-0.247390</td>\n",
              "      <td>0.280897</td>\n",
              "      <td>0.181170</td>\n",
              "      <td>0.154951</td>\n",
              "      <td>-0.224632</td>\n",
              "      <td>1.000000</td>\n",
              "      <td>0.043913</td>\n",
              "    </tr>\n",
              "    <tr>\n",
              "      <th>feature_768</th>\n",
              "      <td>0.266223</td>\n",
              "      <td>0.233835</td>\n",
              "      <td>0.204483</td>\n",
              "      <td>0.071073</td>\n",
              "      <td>-0.072895</td>\n",
              "      <td>-0.208364</td>\n",
              "      <td>-0.122569</td>\n",
              "      <td>-0.007818</td>\n",
              "      <td>-0.078739</td>\n",
              "      <td>0.064398</td>\n",
              "      <td>...</td>\n",
              "      <td>-0.049451</td>\n",
              "      <td>-0.056708</td>\n",
              "      <td>0.031914</td>\n",
              "      <td>0.022605</td>\n",
              "      <td>0.258167</td>\n",
              "      <td>0.216180</td>\n",
              "      <td>0.388355</td>\n",
              "      <td>0.129305</td>\n",
              "      <td>0.043913</td>\n",
              "      <td>1.000000</td>\n",
              "    </tr>\n",
              "  </tbody>\n",
              "</table>\n",
              "<p>768 rows × 768 columns</p>\n",
              "</div>"
            ],
            "text/plain": [
              "             feature_1  feature_2  feature_3  feature_4  feature_5  feature_6  \\\n",
              "feature_1     1.000000   0.267338   0.071490   0.414422   0.036982   0.207898   \n",
              "feature_2     0.267338   1.000000  -0.027042   0.004284   0.009556  -0.175189   \n",
              "feature_3     0.071490  -0.027042   1.000000   0.005692   0.187217  -0.184922   \n",
              "feature_4     0.414422   0.004284   0.005692   1.000000  -0.017515   0.295999   \n",
              "feature_5     0.036982   0.009556   0.187217  -0.017515   1.000000  -0.139041   \n",
              "...                ...        ...        ...        ...        ...        ...   \n",
              "feature_764   0.443474   0.357378  -0.133512   0.317812   0.032675   0.202273   \n",
              "feature_765   0.216448   0.107098  -0.018046   0.156064  -0.091599  -0.113032   \n",
              "feature_766  -0.372152   0.008878   0.164799  -0.313222   0.159690  -0.411833   \n",
              "feature_767   0.081136  -0.021500  -0.030219   0.200493  -0.051591   0.173833   \n",
              "feature_768   0.266223   0.233835   0.204483   0.071073  -0.072895  -0.208364   \n",
              "\n",
              "             feature_7  feature_8  feature_9  feature_10  ...  feature_759  \\\n",
              "feature_1     0.118319   0.147709   0.368570   -0.190114  ...     0.294503   \n",
              "feature_2     0.118727   0.047381   0.146719    0.004041  ...     0.036397   \n",
              "feature_3    -0.071054  -0.217118   0.112494   -0.045269  ...    -0.054550   \n",
              "feature_4    -0.119338   0.077402   0.123430   -0.147437  ...     0.402941   \n",
              "feature_5    -0.020940  -0.116694   0.187147   -0.095713  ...     0.002091   \n",
              "...                ...        ...        ...         ...  ...          ...   \n",
              "feature_764   0.078858   0.117481   0.085433   -0.282476  ...     0.192540   \n",
              "feature_765  -0.079667   0.106025   0.118023   -0.205155  ...     0.213167   \n",
              "feature_766  -0.139678  -0.374096  -0.342061    0.119664  ...    -0.559327   \n",
              "feature_767  -0.109424   0.160097   0.017900   -0.064848  ...     0.242810   \n",
              "feature_768  -0.122569  -0.007818  -0.078739    0.064398  ...    -0.049451   \n",
              "\n",
              "             feature_760  feature_761  feature_762  feature_763  feature_764  \\\n",
              "feature_1       0.016181     0.253096    -0.245060     0.423731     0.443474   \n",
              "feature_2       0.120084     0.058233    -0.095840     0.066372     0.357378   \n",
              "feature_3       0.048824    -0.087434     0.183482    -0.184763    -0.133512   \n",
              "feature_4      -0.048514     0.175835    -0.130880     0.364475     0.317812   \n",
              "feature_5       0.094546     0.062270     0.143789    -0.263428     0.032675   \n",
              "...                  ...          ...          ...          ...          ...   \n",
              "feature_764     0.068779     0.145485    -0.230508     0.315251     1.000000   \n",
              "feature_765     0.136531     0.093549    -0.129885     0.327689     0.204746   \n",
              "feature_766     0.201898    -0.053654     0.334765    -0.503721    -0.159590   \n",
              "feature_767    -0.086578    -0.004117    -0.247390     0.280897     0.181170   \n",
              "feature_768    -0.056708     0.031914     0.022605     0.258167     0.216180   \n",
              "\n",
              "             feature_765  feature_766  feature_767  feature_768  \n",
              "feature_1       0.216448    -0.372152     0.081136     0.266223  \n",
              "feature_2       0.107098     0.008878    -0.021500     0.233835  \n",
              "feature_3      -0.018046     0.164799    -0.030219     0.204483  \n",
              "feature_4       0.156064    -0.313222     0.200493     0.071073  \n",
              "feature_5      -0.091599     0.159690    -0.051591    -0.072895  \n",
              "...                  ...          ...          ...          ...  \n",
              "feature_764     0.204746    -0.159590     0.181170     0.216180  \n",
              "feature_765     1.000000    -0.117247     0.154951     0.388355  \n",
              "feature_766    -0.117247     1.000000    -0.224632     0.129305  \n",
              "feature_767     0.154951    -0.224632     1.000000     0.043913  \n",
              "feature_768     0.388355     0.129305     0.043913     1.000000  \n",
              "\n",
              "[768 rows x 768 columns]"
            ]
          },
          "execution_count": 15,
          "metadata": {},
          "output_type": "execute_result"
        }
      ],
      "source": [
        "corr_matrix_l1"
      ]
    },
    {
      "cell_type": "code",
      "execution_count": 16,
      "metadata": {
        "id": "CUISG7RyXf2u"
      },
      "outputs": [],
      "source": [
        "def get_corr_features(corr_matrix, threshold):\n",
        "\n",
        "  correlated_features = []\n",
        "\n",
        "  for i in range(len(corr_matrix.columns)):\n",
        "    for j in range(i+1, len(corr_matrix.columns)):\n",
        "      if (abs(corr_matrix.iloc[i, j]) > threshold):\n",
        "        col_name = corr_matrix.columns[j]\n",
        "        if col_name not in correlated_features:\n",
        "          correlated_features.append(col_name)\n",
        "\n",
        "  return correlated_features"
      ]
    },
    {
      "cell_type": "code",
      "execution_count": 17,
      "metadata": {
        "colab": {
          "base_uri": "https://localhost:8080/"
        },
        "id": "3D6Sbv9Ya39c",
        "outputId": "0649912e-2a7c-45ab-de9b-6e6adf24dd21"
      },
      "outputs": [
        {
          "name": "stdout",
          "output_type": "stream",
          "text": [
            "27\n"
          ]
        }
      ],
      "source": [
        "correlated_features_l1 = get_corr_features(corr_matrix_l1, 0.7)\n",
        "print(len(correlated_features_l1))"
      ]
    },
    {
      "cell_type": "markdown",
      "metadata": {
        "id": "cQE4ZYMeKqj1"
      },
      "source": [
        "#### PCA"
      ]
    },
    {
      "cell_type": "code",
      "execution_count": 18,
      "metadata": {
        "id": "l5k-Wm2DKulX"
      },
      "outputs": [],
      "source": [
        "from sklearn.preprocessing import StandardScaler\n",
        "\n",
        "x_test_l1 = x_test.copy()\n",
        "\n",
        "scaler = StandardScaler()\n",
        "x_train[L1] = pd.DataFrame(scaler.fit_transform(x_train[L1]), columns=FEATURES)\n",
        "x_valid[L1] = pd.DataFrame(scaler.transform(x_valid[L1]), columns=FEATURES)\n",
        "x_test_l1 = pd.DataFrame(scaler.transform(x_test_l1), columns=FEATURES)"
      ]
    },
    {
      "cell_type": "code",
      "execution_count": 19,
      "metadata": {
        "colab": {
          "base_uri": "https://localhost:8080/"
        },
        "id": "VN98_Gi5aU17",
        "outputId": "22fce5b6-c971-41f4-f57d-7e9374f9daea"
      },
      "outputs": [
        {
          "name": "stdout",
          "output_type": "stream",
          "text": [
            "Number of features: 311\n"
          ]
        }
      ],
      "source": [
        "from sklearn.decomposition import PCA\n",
        "\n",
        "threshold = 0.96\n",
        "\n",
        "pca = PCA(n_components=threshold, svd_solver='full')\n",
        "x_train_l1_pca = pd.DataFrame(pca.fit_transform(x_train[L1]))\n",
        "x_valid_l1_pca = pd.DataFrame(pca.transform(x_valid[L1]))\n",
        "x_test_l1_pca = pd.DataFrame(pca.transform(x_test_l1))\n",
        "\n",
        "explained_variance = pca.explained_variance_ratio_\n",
        "\n",
        "print(f\"Number of features: {len(explained_variance)}\")"
      ]
    },
    {
      "cell_type": "code",
      "execution_count": 20,
      "metadata": {
        "colab": {
          "base_uri": "https://localhost:8080/"
        },
        "id": "asP6QOkfacvy",
        "outputId": "aa4f73c8-1cea-4fab-ed50-c0379cc42b78"
      },
      "outputs": [
        {
          "name": "stdout",
          "output_type": "stream",
          "text": [
            "Accuracy = 0.9573333333333334\n"
          ]
        }
      ],
      "source": [
        "accuracy_1 = svm_classifier(x_train_l1_pca, y_train[L1], x_valid_l1_pca, y_valid[L1])\n",
        "print(f\"Accuracy = {accuracy_1}\")"
      ]
    },
    {
      "cell_type": "markdown",
      "metadata": {
        "id": "sgSvtyBUdDxc"
      },
      "source": [
        "#### Hyperparameter Tuning - Random Grid Search"
      ]
    },
    {
      "cell_type": "code",
      "execution_count": 65,
      "metadata": {
        "colab": {
          "base_uri": "https://localhost:8080/"
        },
        "id": "nYIAt9GtdHIT",
        "outputId": "dfbd9633-0fd4-468f-e455-06c921afb4e7"
      },
      "outputs": [
        {
          "name": "stdout",
          "output_type": "stream",
          "text": [
            "Fitting 2 folds for each of 5 candidates, totalling 10 fits\n",
            "{'kernel': 'linear', 'gamma': 1000.0, 'C': 0.01}\n",
            "0.9408134642356241\n"
          ]
        }
      ],
      "source": [
        "param_dist = {\n",
        "    'C': np.logspace(-3, 3, 7),\n",
        "    'kernel': ['linear', 'rbf', 'poly'],\n",
        "    'gamma': np.logspace(-3, 3, 7)\n",
        "}\n",
        "cv = 2\n",
        "n_iter = 5\n",
        "svm = SVC()\n",
        "\n",
        "# random_search_l1 = grid_search(svm, param_dist, cv, x_train_l1_pca, y_train[L1])\n",
        "random_search_l1 = random_grid_search(svm, param_dist, cv, n_iter, x_train_l1_pca, y_train[L1])\n",
        "best_model_l1 = random_search_l1.best_estimator_\n",
        "best_accuracy_l1 = random_search_l1.best_score_\n",
        "best_param = random_search_l1.best_params_\n",
        "\n",
        "print(best_param)\n",
        "print(best_accuracy_l1)"
      ]
    },
    {
      "cell_type": "code",
      "execution_count": 66,
      "metadata": {},
      "outputs": [
        {
          "name": "stdout",
          "output_type": "stream",
          "text": [
            "Accuracy after: 0.96\n"
          ]
        }
      ],
      "source": [
        "y_pred_l1 = best_model_l1.predict(x_valid_l1_pca)\n",
        "accuracy = accuracy_score(y_valid[L1], y_pred_l1)\n",
        "print(f\"Accuracy after: {accuracy}\")"
      ]
    },
    {
      "cell_type": "markdown",
      "metadata": {},
      "source": [
        "#### Cross Validation"
      ]
    },
    {
      "cell_type": "code",
      "execution_count": 24,
      "metadata": {},
      "outputs": [
        {
          "name": "stdout",
          "output_type": "stream",
          "text": [
            "Cross-Validation Scores: [0.94915849 0.94950912 0.94775596 0.94950912 0.95091164]\n",
            "Mean Score: 0.9493688639551191\n",
            "Standard Deviation: 0.0010065007078827013\n"
          ]
        }
      ],
      "source": [
        "model = SVC(kernel= best_param['kernel'], gamma= best_param['gamma'], C= best_param['C'])\n",
        "\n",
        "k_fold_cross_validation(model, 5, x_train_l1_pca, y_train[L1])"
      ]
    },
    {
      "cell_type": "markdown",
      "metadata": {
        "id": "cRH_NdswedzL"
      },
      "source": [
        "## Label 2"
      ]
    },
    {
      "cell_type": "code",
      "execution_count": 25,
      "metadata": {
        "colab": {
          "base_uri": "https://localhost:8080/",
          "height": 481
        },
        "id": "YAMMp3VJedzV",
        "outputId": "72155a8e-b778-4a0d-b404-628d7587a0c5"
      },
      "outputs": [
        {
          "data": {
            "text/plain": [
              "<AxesSubplot: xlabel='label_2', ylabel='count'>"
            ]
          },
          "execution_count": 25,
          "metadata": {},
          "output_type": "execute_result"
        },
        {
          "data": {
            "image/png": "[encoded data removed]",
            "text/plain": [
              "<Figure size 1800x600 with 1 Axes>"
            ]
          },
          "metadata": {},
          "output_type": "display_data"
        }
      ],
      "source": [
        "import matplotlib.pyplot as plt\n",
        "import seaborn as sn\n",
        "\n",
        "L2 = 'label_2'\n",
        "\n",
        "plt.figure(figsize=(18,6))\n",
        "sn.countplot(data=y_train, x=L2, color='blue')"
      ]
    },
    {
      "cell_type": "markdown",
      "metadata": {},
      "source": [
        "#### Initial Accuracy"
      ]
    },
    {
      "cell_type": "code",
      "execution_count": 26,
      "metadata": {
        "id": "-eUyfsE-edzV"
      },
      "outputs": [
        {
          "name": "stdout",
          "output_type": "stream",
          "text": [
            "Accuracy = 0.8546195652173914\n"
          ]
        }
      ],
      "source": [
        "accuracy = weighted_svm_classifier(x_train[L2], y_train[L2], x_valid[L2], y_valid[L2])\n",
        "print(f\"Accuracy = {accuracy}\")"
      ]
    },
    {
      "cell_type": "markdown",
      "metadata": {
        "id": "_tmfnrgTedzV"
      },
      "source": [
        "#### Correlation"
      ]
    },
    {
      "cell_type": "code",
      "execution_count": 27,
      "metadata": {
        "id": "TvfltvkmedzW"
      },
      "outputs": [],
      "source": [
        "corr_matrix_l2 = x_train[L2].corr()"
      ]
    },
    {
      "cell_type": "code",
      "execution_count": 28,
      "metadata": {
        "colab": {
          "base_uri": "https://localhost:8080/",
          "height": 444
        },
        "id": "gsUZ9F4tedzW",
        "outputId": "13748243-6ff7-4a79-b47e-a8d82e47ac28"
      },
      "outputs": [
        {
          "data": {
            "text/html": [
              "<div>\n",
              "<style scoped>\n",
              "    .dataframe tbody tr th:only-of-type {\n",
              "        vertical-align: middle;\n",
              "    }\n",
              "\n",
              "    .dataframe tbody tr th {\n",
              "        vertical-align: top;\n",
              "    }\n",
              "\n",
              "    .dataframe thead th {\n",
              "        text-align: right;\n",
              "    }\n",
              "</style>\n",
              "<table border=\"1\" class=\"dataframe\">\n",
              "  <thead>\n",
              "    <tr style=\"text-align: right;\">\n",
              "      <th></th>\n",
              "      <th>feature_1</th>\n",
              "      <th>feature_2</th>\n",
              "      <th>feature_3</th>\n",
              "      <th>feature_4</th>\n",
              "      <th>feature_5</th>\n",
              "      <th>feature_6</th>\n",
              "      <th>feature_7</th>\n",
              "      <th>feature_8</th>\n",
              "      <th>feature_9</th>\n",
              "      <th>feature_10</th>\n",
              "      <th>...</th>\n",
              "      <th>feature_759</th>\n",
              "      <th>feature_760</th>\n",
              "      <th>feature_761</th>\n",
              "      <th>feature_762</th>\n",
              "      <th>feature_763</th>\n",
              "      <th>feature_764</th>\n",
              "      <th>feature_765</th>\n",
              "      <th>feature_766</th>\n",
              "      <th>feature_767</th>\n",
              "      <th>feature_768</th>\n",
              "    </tr>\n",
              "  </thead>\n",
              "  <tbody>\n",
              "    <tr>\n",
              "      <th>feature_1</th>\n",
              "      <td>1.000000</td>\n",
              "      <td>0.267813</td>\n",
              "      <td>0.070144</td>\n",
              "      <td>0.417878</td>\n",
              "      <td>0.033714</td>\n",
              "      <td>0.209910</td>\n",
              "      <td>0.116550</td>\n",
              "      <td>0.150595</td>\n",
              "      <td>0.370029</td>\n",
              "      <td>-0.189436</td>\n",
              "      <td>...</td>\n",
              "      <td>0.297201</td>\n",
              "      <td>0.018032</td>\n",
              "      <td>0.255393</td>\n",
              "      <td>-0.246138</td>\n",
              "      <td>0.426069</td>\n",
              "      <td>0.446561</td>\n",
              "      <td>0.215418</td>\n",
              "      <td>-0.375987</td>\n",
              "      <td>0.081306</td>\n",
              "      <td>0.264334</td>\n",
              "    </tr>\n",
              "    <tr>\n",
              "      <th>feature_2</th>\n",
              "      <td>0.267813</td>\n",
              "      <td>1.000000</td>\n",
              "      <td>-0.026523</td>\n",
              "      <td>0.009167</td>\n",
              "      <td>0.009995</td>\n",
              "      <td>-0.172705</td>\n",
              "      <td>0.113808</td>\n",
              "      <td>0.049757</td>\n",
              "      <td>0.149616</td>\n",
              "      <td>0.001501</td>\n",
              "      <td>...</td>\n",
              "      <td>0.038700</td>\n",
              "      <td>0.123209</td>\n",
              "      <td>0.061163</td>\n",
              "      <td>-0.094431</td>\n",
              "      <td>0.069125</td>\n",
              "      <td>0.359796</td>\n",
              "      <td>0.106820</td>\n",
              "      <td>0.006775</td>\n",
              "      <td>-0.018043</td>\n",
              "      <td>0.232196</td>\n",
              "    </tr>\n",
              "    <tr>\n",
              "      <th>feature_3</th>\n",
              "      <td>0.070144</td>\n",
              "      <td>-0.026523</td>\n",
              "      <td>1.000000</td>\n",
              "      <td>0.005353</td>\n",
              "      <td>0.180449</td>\n",
              "      <td>-0.186466</td>\n",
              "      <td>-0.071249</td>\n",
              "      <td>-0.211689</td>\n",
              "      <td>0.111781</td>\n",
              "      <td>-0.041346</td>\n",
              "      <td>...</td>\n",
              "      <td>-0.051653</td>\n",
              "      <td>0.044712</td>\n",
              "      <td>-0.088962</td>\n",
              "      <td>0.182082</td>\n",
              "      <td>-0.181114</td>\n",
              "      <td>-0.131502</td>\n",
              "      <td>-0.012662</td>\n",
              "      <td>0.162441</td>\n",
              "      <td>-0.027672</td>\n",
              "      <td>0.208699</td>\n",
              "    </tr>\n",
              "    <tr>\n",
              "      <th>feature_4</th>\n",
              "      <td>0.417878</td>\n",
              "      <td>0.009167</td>\n",
              "      <td>0.005353</td>\n",
              "      <td>1.000000</td>\n",
              "      <td>-0.022295</td>\n",
              "      <td>0.292640</td>\n",
              "      <td>-0.112259</td>\n",
              "      <td>0.076150</td>\n",
              "      <td>0.122772</td>\n",
              "      <td>-0.138988</td>\n",
              "      <td>...</td>\n",
              "      <td>0.402741</td>\n",
              "      <td>-0.049930</td>\n",
              "      <td>0.172788</td>\n",
              "      <td>-0.137451</td>\n",
              "      <td>0.368121</td>\n",
              "      <td>0.322847</td>\n",
              "      <td>0.151794</td>\n",
              "      <td>-0.320019</td>\n",
              "      <td>0.190503</td>\n",
              "      <td>0.074772</td>\n",
              "    </tr>\n",
              "    <tr>\n",
              "      <th>feature_5</th>\n",
              "      <td>0.033714</td>\n",
              "      <td>0.009995</td>\n",
              "      <td>0.180449</td>\n",
              "      <td>-0.022295</td>\n",
              "      <td>1.000000</td>\n",
              "      <td>-0.142908</td>\n",
              "      <td>-0.017537</td>\n",
              "      <td>-0.114017</td>\n",
              "      <td>0.186643</td>\n",
              "      <td>-0.087017</td>\n",
              "      <td>...</td>\n",
              "      <td>0.005789</td>\n",
              "      <td>0.091802</td>\n",
              "      <td>0.062721</td>\n",
              "      <td>0.142031</td>\n",
              "      <td>-0.260692</td>\n",
              "      <td>0.033650</td>\n",
              "      <td>-0.093082</td>\n",
              "      <td>0.155329</td>\n",
              "      <td>-0.058548</td>\n",
              "      <td>-0.075744</td>\n",
              "    </tr>\n",
              "    <tr>\n",
              "      <th>...</th>\n",
              "      <td>...</td>\n",
              "      <td>...</td>\n",
              "      <td>...</td>\n",
              "      <td>...</td>\n",
              "      <td>...</td>\n",
              "      <td>...</td>\n",
              "      <td>...</td>\n",
              "      <td>...</td>\n",
              "      <td>...</td>\n",
              "      <td>...</td>\n",
              "      <td>...</td>\n",
              "      <td>...</td>\n",
              "      <td>...</td>\n",
              "      <td>...</td>\n",
              "      <td>...</td>\n",
              "      <td>...</td>\n",
              "      <td>...</td>\n",
              "      <td>...</td>\n",
              "      <td>...</td>\n",
              "      <td>...</td>\n",
              "      <td>...</td>\n",
              "    </tr>\n",
              "    <tr>\n",
              "      <th>feature_764</th>\n",
              "      <td>0.446561</td>\n",
              "      <td>0.359796</td>\n",
              "      <td>-0.131502</td>\n",
              "      <td>0.322847</td>\n",
              "      <td>0.033650</td>\n",
              "      <td>0.205621</td>\n",
              "      <td>0.080360</td>\n",
              "      <td>0.118297</td>\n",
              "      <td>0.087449</td>\n",
              "      <td>-0.285009</td>\n",
              "      <td>...</td>\n",
              "      <td>0.193659</td>\n",
              "      <td>0.071836</td>\n",
              "      <td>0.151612</td>\n",
              "      <td>-0.229925</td>\n",
              "      <td>0.320523</td>\n",
              "      <td>1.000000</td>\n",
              "      <td>0.202905</td>\n",
              "      <td>-0.159847</td>\n",
              "      <td>0.185768</td>\n",
              "      <td>0.216945</td>\n",
              "    </tr>\n",
              "    <tr>\n",
              "      <th>feature_765</th>\n",
              "      <td>0.215418</td>\n",
              "      <td>0.106820</td>\n",
              "      <td>-0.012662</td>\n",
              "      <td>0.151794</td>\n",
              "      <td>-0.093082</td>\n",
              "      <td>-0.115739</td>\n",
              "      <td>-0.084028</td>\n",
              "      <td>0.103865</td>\n",
              "      <td>0.115217</td>\n",
              "      <td>-0.206392</td>\n",
              "      <td>...</td>\n",
              "      <td>0.212146</td>\n",
              "      <td>0.141885</td>\n",
              "      <td>0.090349</td>\n",
              "      <td>-0.128055</td>\n",
              "      <td>0.325169</td>\n",
              "      <td>0.202905</td>\n",
              "      <td>1.000000</td>\n",
              "      <td>-0.116333</td>\n",
              "      <td>0.149274</td>\n",
              "      <td>0.386537</td>\n",
              "    </tr>\n",
              "    <tr>\n",
              "      <th>feature_766</th>\n",
              "      <td>-0.375987</td>\n",
              "      <td>0.006775</td>\n",
              "      <td>0.162441</td>\n",
              "      <td>-0.320019</td>\n",
              "      <td>0.155329</td>\n",
              "      <td>-0.415908</td>\n",
              "      <td>-0.136781</td>\n",
              "      <td>-0.373673</td>\n",
              "      <td>-0.345407</td>\n",
              "      <td>0.124422</td>\n",
              "      <td>...</td>\n",
              "      <td>-0.560405</td>\n",
              "      <td>0.202560</td>\n",
              "      <td>-0.053245</td>\n",
              "      <td>0.331708</td>\n",
              "      <td>-0.502737</td>\n",
              "      <td>-0.159847</td>\n",
              "      <td>-0.116333</td>\n",
              "      <td>1.000000</td>\n",
              "      <td>-0.227493</td>\n",
              "      <td>0.127959</td>\n",
              "    </tr>\n",
              "    <tr>\n",
              "      <th>feature_767</th>\n",
              "      <td>0.081306</td>\n",
              "      <td>-0.018043</td>\n",
              "      <td>-0.027672</td>\n",
              "      <td>0.190503</td>\n",
              "      <td>-0.058548</td>\n",
              "      <td>0.168175</td>\n",
              "      <td>-0.102376</td>\n",
              "      <td>0.156081</td>\n",
              "      <td>0.014244</td>\n",
              "      <td>-0.058061</td>\n",
              "      <td>...</td>\n",
              "      <td>0.240173</td>\n",
              "      <td>-0.086312</td>\n",
              "      <td>-0.008781</td>\n",
              "      <td>-0.256112</td>\n",
              "      <td>0.283299</td>\n",
              "      <td>0.185768</td>\n",
              "      <td>0.149274</td>\n",
              "      <td>-0.227493</td>\n",
              "      <td>1.000000</td>\n",
              "      <td>0.047130</td>\n",
              "    </tr>\n",
              "    <tr>\n",
              "      <th>feature_768</th>\n",
              "      <td>0.264334</td>\n",
              "      <td>0.232196</td>\n",
              "      <td>0.208699</td>\n",
              "      <td>0.074772</td>\n",
              "      <td>-0.075744</td>\n",
              "      <td>-0.206682</td>\n",
              "      <td>-0.133609</td>\n",
              "      <td>-0.004985</td>\n",
              "      <td>-0.079681</td>\n",
              "      <td>0.062276</td>\n",
              "      <td>...</td>\n",
              "      <td>-0.046074</td>\n",
              "      <td>-0.053288</td>\n",
              "      <td>0.032905</td>\n",
              "      <td>0.027226</td>\n",
              "      <td>0.259485</td>\n",
              "      <td>0.216945</td>\n",
              "      <td>0.386537</td>\n",
              "      <td>0.127959</td>\n",
              "      <td>0.047130</td>\n",
              "      <td>1.000000</td>\n",
              "    </tr>\n",
              "  </tbody>\n",
              "</table>\n",
              "<p>768 rows × 768 columns</p>\n",
              "</div>"
            ],
            "text/plain": [
              "             feature_1  feature_2  feature_3  feature_4  feature_5  feature_6  \\\n",
              "feature_1     1.000000   0.267813   0.070144   0.417878   0.033714   0.209910   \n",
              "feature_2     0.267813   1.000000  -0.026523   0.009167   0.009995  -0.172705   \n",
              "feature_3     0.070144  -0.026523   1.000000   0.005353   0.180449  -0.186466   \n",
              "feature_4     0.417878   0.009167   0.005353   1.000000  -0.022295   0.292640   \n",
              "feature_5     0.033714   0.009995   0.180449  -0.022295   1.000000  -0.142908   \n",
              "...                ...        ...        ...        ...        ...        ...   \n",
              "feature_764   0.446561   0.359796  -0.131502   0.322847   0.033650   0.205621   \n",
              "feature_765   0.215418   0.106820  -0.012662   0.151794  -0.093082  -0.115739   \n",
              "feature_766  -0.375987   0.006775   0.162441  -0.320019   0.155329  -0.415908   \n",
              "feature_767   0.081306  -0.018043  -0.027672   0.190503  -0.058548   0.168175   \n",
              "feature_768   0.264334   0.232196   0.208699   0.074772  -0.075744  -0.206682   \n",
              "\n",
              "             feature_7  feature_8  feature_9  feature_10  ...  feature_759  \\\n",
              "feature_1     0.116550   0.150595   0.370029   -0.189436  ...     0.297201   \n",
              "feature_2     0.113808   0.049757   0.149616    0.001501  ...     0.038700   \n",
              "feature_3    -0.071249  -0.211689   0.111781   -0.041346  ...    -0.051653   \n",
              "feature_4    -0.112259   0.076150   0.122772   -0.138988  ...     0.402741   \n",
              "feature_5    -0.017537  -0.114017   0.186643   -0.087017  ...     0.005789   \n",
              "...                ...        ...        ...         ...  ...          ...   \n",
              "feature_764   0.080360   0.118297   0.087449   -0.285009  ...     0.193659   \n",
              "feature_765  -0.084028   0.103865   0.115217   -0.206392  ...     0.212146   \n",
              "feature_766  -0.136781  -0.373673  -0.345407    0.124422  ...    -0.560405   \n",
              "feature_767  -0.102376   0.156081   0.014244   -0.058061  ...     0.240173   \n",
              "feature_768  -0.133609  -0.004985  -0.079681    0.062276  ...    -0.046074   \n",
              "\n",
              "             feature_760  feature_761  feature_762  feature_763  feature_764  \\\n",
              "feature_1       0.018032     0.255393    -0.246138     0.426069     0.446561   \n",
              "feature_2       0.123209     0.061163    -0.094431     0.069125     0.359796   \n",
              "feature_3       0.044712    -0.088962     0.182082    -0.181114    -0.131502   \n",
              "feature_4      -0.049930     0.172788    -0.137451     0.368121     0.322847   \n",
              "feature_5       0.091802     0.062721     0.142031    -0.260692     0.033650   \n",
              "...                  ...          ...          ...          ...          ...   \n",
              "feature_764     0.071836     0.151612    -0.229925     0.320523     1.000000   \n",
              "feature_765     0.141885     0.090349    -0.128055     0.325169     0.202905   \n",
              "feature_766     0.202560    -0.053245     0.331708    -0.502737    -0.159847   \n",
              "feature_767    -0.086312    -0.008781    -0.256112     0.283299     0.185768   \n",
              "feature_768    -0.053288     0.032905     0.027226     0.259485     0.216945   \n",
              "\n",
              "             feature_765  feature_766  feature_767  feature_768  \n",
              "feature_1       0.215418    -0.375987     0.081306     0.264334  \n",
              "feature_2       0.106820     0.006775    -0.018043     0.232196  \n",
              "feature_3      -0.012662     0.162441    -0.027672     0.208699  \n",
              "feature_4       0.151794    -0.320019     0.190503     0.074772  \n",
              "feature_5      -0.093082     0.155329    -0.058548    -0.075744  \n",
              "...                  ...          ...          ...          ...  \n",
              "feature_764     0.202905    -0.159847     0.185768     0.216945  \n",
              "feature_765     1.000000    -0.116333     0.149274     0.386537  \n",
              "feature_766    -0.116333     1.000000    -0.227493     0.127959  \n",
              "feature_767     0.149274    -0.227493     1.000000     0.047130  \n",
              "feature_768     0.386537     0.127959     0.047130     1.000000  \n",
              "\n",
              "[768 rows x 768 columns]"
            ]
          },
          "execution_count": 28,
          "metadata": {},
          "output_type": "execute_result"
        }
      ],
      "source": [
        "corr_matrix_l2"
      ]
    },
    {
      "cell_type": "code",
      "execution_count": 29,
      "metadata": {
        "id": "titlexI-edzX"
      },
      "outputs": [],
      "source": [
        "def get_corr_features(corr_matrix, threshold):\n",
        "\n",
        "  correlated_features = []\n",
        "\n",
        "  for i in range(len(corr_matrix.columns)):\n",
        "    for j in range(i+1, len(corr_matrix.columns)):\n",
        "      if (abs(corr_matrix.iloc[i, j]) > threshold):\n",
        "        col_name = corr_matrix.columns[j]\n",
        "        if col_name not in correlated_features:\n",
        "          correlated_features.append(col_name)\n",
        "\n",
        "  return correlated_features"
      ]
    },
    {
      "cell_type": "code",
      "execution_count": 30,
      "metadata": {
        "colab": {
          "base_uri": "https://localhost:8080/"
        },
        "id": "ZN4S05bVedzX",
        "outputId": "0649912e-2a7c-45ab-de9b-6e6adf24dd21"
      },
      "outputs": [
        {
          "name": "stdout",
          "output_type": "stream",
          "text": [
            "27\n"
          ]
        }
      ],
      "source": [
        "correlated_features_l2 = get_corr_features(corr_matrix_l2, 0.7)\n",
        "print(len(correlated_features_l2))"
      ]
    },
    {
      "cell_type": "markdown",
      "metadata": {
        "id": "lJE6imtMedzX"
      },
      "source": [
        "#### PCA"
      ]
    },
    {
      "cell_type": "code",
      "execution_count": 31,
      "metadata": {
        "id": "MHQLyqEqedzX"
      },
      "outputs": [],
      "source": [
        "from sklearn.preprocessing import StandardScaler\n",
        "\n",
        "x_test_l2 = x_test.copy()\n",
        "\n",
        "scaler = StandardScaler()\n",
        "x_train[L2] = pd.DataFrame(scaler.fit_transform(x_train[L2]), columns=FEATURES)\n",
        "x_valid[L2] = pd.DataFrame(scaler.transform(x_valid[L2]), columns=FEATURES)\n",
        "x_test_l2 = pd.DataFrame(scaler.transform(x_test_l2), columns=FEATURES)"
      ]
    },
    {
      "cell_type": "code",
      "execution_count": 32,
      "metadata": {
        "id": "kQAGGKpZedzY"
      },
      "outputs": [
        {
          "name": "stdout",
          "output_type": "stream",
          "text": [
            "Number of features: 310\n"
          ]
        }
      ],
      "source": [
        "from sklearn.decomposition import PCA\n",
        "\n",
        "threshold = 0.96\n",
        "\n",
        "pca = PCA(n_components=threshold, svd_solver='full')\n",
        "x_train_l2_pca = pd.DataFrame(pca.fit_transform(x_train[L2]))\n",
        "x_valid_l2_pca = pd.DataFrame(pca.transform(x_valid[L2]))\n",
        "x_test_l2_pca = pd.DataFrame(pca.transform(x_test_l2))\n",
        "\n",
        "explained_variance = pca.explained_variance_ratio_\n",
        "\n",
        "print(f\"Number of features: {len(explained_variance)}\")"
      ]
    },
    {
      "cell_type": "code",
      "execution_count": 33,
      "metadata": {
        "id": "--0z6WiQedzY"
      },
      "outputs": [
        {
          "name": "stdout",
          "output_type": "stream",
          "text": [
            "Accuracy = 0.8165760869565217\n"
          ]
        }
      ],
      "source": [
        "accuracy_1 = weighted_svm_classifier(x_train_l2_pca, y_train[L2], x_valid_l2_pca, y_valid[L2])\n",
        "print(f\"Accuracy = {accuracy_1}\")"
      ]
    },
    {
      "cell_type": "markdown",
      "metadata": {
        "id": "iNo6SYfcedzY"
      },
      "source": [
        "#### Hyperparameter Tuning - Random Grid Search"
      ]
    },
    {
      "cell_type": "code",
      "execution_count": 34,
      "metadata": {
        "id": "OuPhMkVyedzY"
      },
      "outputs": [
        {
          "name": "stdout",
          "output_type": "stream",
          "text": [
            "Fitting 2 folds for each of 5 candidates, totalling 10 fits\n"
          ]
        },
        {
          "name": "stdout",
          "output_type": "stream",
          "text": [
            "{'kernel': 'poly', 'gamma': 0.1, 'class_weight': 'balanced', 'C': 1000.0}\n",
            "0.2671540656205421\n"
          ]
        }
      ],
      "source": [
        "param_dist = {\n",
        "    'C': np.logspace(-3, 3, 7),\n",
        "    'kernel': ['linear', 'rbf', 'poly'],\n",
        "    'gamma': np.logspace(-3, 3, 7),\n",
        "    'class_weight': ['balanced']\n",
        "}\n",
        "cv = 2\n",
        "n_iter = 5\n",
        "svm = SVC()\n",
        "\n",
        "random_search_l2 = random_grid_search(svm, param_dist, cv, n_iter, x_train_l2_pca, y_train[L2])\n",
        "best_model_l2 = random_search_l2.best_estimator_\n",
        "best_accuracy_l2 = random_search_l2.best_score_\n",
        "best_param = random_search_l2.best_params_\n",
        "\n",
        "print(best_param)\n",
        "print(best_accuracy_l2)\n"
      ]
    },
    {
      "cell_type": "code",
      "execution_count": 35,
      "metadata": {},
      "outputs": [
        {
          "name": "stdout",
          "output_type": "stream",
          "text": [
            "Accuracy after: 0.9524456521739131\n"
          ]
        }
      ],
      "source": [
        "y_pred_l2 = best_model_l2.predict(x_valid_l2_pca)\n",
        "accuracy = accuracy_score(y_valid[L2], y_pred_l2)\n",
        "print(f\"Accuracy after: {accuracy}\")"
      ]
    },
    {
      "cell_type": "markdown",
      "metadata": {},
      "source": [
        "#### Cross Validation"
      ]
    },
    {
      "cell_type": "code",
      "execution_count": 36,
      "metadata": {},
      "outputs": [
        {
          "name": "stdout",
          "output_type": "stream",
          "text": [
            "Cross-Validation Scores: [0.45952211 0.72075606 0.74643367 0.74054922 0.52549929]\n",
            "Mean Score: 0.6385520684736091\n",
            "Standard Deviation: 0.12135238837544056\n"
          ]
        }
      ],
      "source": [
        "model = SVC(kernel= best_param['kernel'], gamma= best_param['gamma'], class_weight= 'balanced', C= best_param['C'])\n",
        "\n",
        "\n",
        "k_fold_cross_validation(model, 5, x_train_l2_pca, y_train[L2])"
      ]
    },
    {
      "cell_type": "markdown",
      "metadata": {},
      "source": [
        "## Label 3"
      ]
    },
    {
      "cell_type": "code",
      "execution_count": 37,
      "metadata": {},
      "outputs": [
        {
          "data": {
            "text/plain": [
              "<AxesSubplot: xlabel='label_3', ylabel='count'>"
            ]
          },
          "execution_count": 37,
          "metadata": {},
          "output_type": "execute_result"
        },
        {
          "data": {
            "image/png": "[encoded data removed]",
            "text/plain": [
              "<Figure size 1800x600 with 1 Axes>"
            ]
          },
          "metadata": {},
          "output_type": "display_data"
        }
      ],
      "source": [
        "import matplotlib.pyplot as plt\n",
        "import seaborn as sn\n",
        "\n",
        "L3 = 'label_3'\n",
        "\n",
        "plt.figure(figsize=(18,6))\n",
        "sn.countplot(data=y_train, x=L3, color='blue')"
      ]
    },
    {
      "cell_type": "markdown",
      "metadata": {},
      "source": [
        "#### Initial Accuracy"
      ]
    },
    {
      "cell_type": "code",
      "execution_count": 38,
      "metadata": {},
      "outputs": [
        {
          "name": "stdout",
          "output_type": "stream",
          "text": [
            "Accuracy = 0.9893333333333333\n"
          ]
        }
      ],
      "source": [
        "accuracy = weighted_svm_classifier(x_train[L3], y_train[L3], x_valid[L3], y_valid[L3])\n",
        "print(f\"Accuracy = {accuracy}\")"
      ]
    },
    {
      "cell_type": "markdown",
      "metadata": {},
      "source": [
        "#### Correlation"
      ]
    },
    {
      "cell_type": "code",
      "execution_count": 39,
      "metadata": {},
      "outputs": [],
      "source": [
        "corr_matrix_l3 = x_train[L3].corr()"
      ]
    },
    {
      "cell_type": "code",
      "execution_count": 40,
      "metadata": {},
      "outputs": [
        {
          "data": {
            "text/html": [
              "<div>\n",
              "<style scoped>\n",
              "    .dataframe tbody tr th:only-of-type {\n",
              "        vertical-align: middle;\n",
              "    }\n",
              "\n",
              "    .dataframe tbody tr th {\n",
              "        vertical-align: top;\n",
              "    }\n",
              "\n",
              "    .dataframe thead th {\n",
              "        text-align: right;\n",
              "    }\n",
              "</style>\n",
              "<table border=\"1\" class=\"dataframe\">\n",
              "  <thead>\n",
              "    <tr style=\"text-align: right;\">\n",
              "      <th></th>\n",
              "      <th>feature_1</th>\n",
              "      <th>feature_2</th>\n",
              "      <th>feature_3</th>\n",
              "      <th>feature_4</th>\n",
              "      <th>feature_5</th>\n",
              "      <th>feature_6</th>\n",
              "      <th>feature_7</th>\n",
              "      <th>feature_8</th>\n",
              "      <th>feature_9</th>\n",
              "      <th>feature_10</th>\n",
              "      <th>...</th>\n",
              "      <th>feature_759</th>\n",
              "      <th>feature_760</th>\n",
              "      <th>feature_761</th>\n",
              "      <th>feature_762</th>\n",
              "      <th>feature_763</th>\n",
              "      <th>feature_764</th>\n",
              "      <th>feature_765</th>\n",
              "      <th>feature_766</th>\n",
              "      <th>feature_767</th>\n",
              "      <th>feature_768</th>\n",
              "    </tr>\n",
              "  </thead>\n",
              "  <tbody>\n",
              "    <tr>\n",
              "      <th>feature_1</th>\n",
              "      <td>1.000000</td>\n",
              "      <td>0.267338</td>\n",
              "      <td>0.071490</td>\n",
              "      <td>0.414422</td>\n",
              "      <td>0.036982</td>\n",
              "      <td>0.207898</td>\n",
              "      <td>0.118319</td>\n",
              "      <td>0.147709</td>\n",
              "      <td>0.368570</td>\n",
              "      <td>-0.190114</td>\n",
              "      <td>...</td>\n",
              "      <td>0.294503</td>\n",
              "      <td>0.016181</td>\n",
              "      <td>0.253096</td>\n",
              "      <td>-0.245060</td>\n",
              "      <td>0.423731</td>\n",
              "      <td>0.443474</td>\n",
              "      <td>0.216448</td>\n",
              "      <td>-0.372152</td>\n",
              "      <td>0.081136</td>\n",
              "      <td>0.266223</td>\n",
              "    </tr>\n",
              "    <tr>\n",
              "      <th>feature_2</th>\n",
              "      <td>0.267338</td>\n",
              "      <td>1.000000</td>\n",
              "      <td>-0.027042</td>\n",
              "      <td>0.004284</td>\n",
              "      <td>0.009556</td>\n",
              "      <td>-0.175189</td>\n",
              "      <td>0.118727</td>\n",
              "      <td>0.047381</td>\n",
              "      <td>0.146719</td>\n",
              "      <td>0.004041</td>\n",
              "      <td>...</td>\n",
              "      <td>0.036397</td>\n",
              "      <td>0.120084</td>\n",
              "      <td>0.058233</td>\n",
              "      <td>-0.095840</td>\n",
              "      <td>0.066372</td>\n",
              "      <td>0.357378</td>\n",
              "      <td>0.107098</td>\n",
              "      <td>0.008878</td>\n",
              "      <td>-0.021500</td>\n",
              "      <td>0.233835</td>\n",
              "    </tr>\n",
              "    <tr>\n",
              "      <th>feature_3</th>\n",
              "      <td>0.071490</td>\n",
              "      <td>-0.027042</td>\n",
              "      <td>1.000000</td>\n",
              "      <td>0.005692</td>\n",
              "      <td>0.187217</td>\n",
              "      <td>-0.184922</td>\n",
              "      <td>-0.071054</td>\n",
              "      <td>-0.217118</td>\n",
              "      <td>0.112494</td>\n",
              "      <td>-0.045269</td>\n",
              "      <td>...</td>\n",
              "      <td>-0.054550</td>\n",
              "      <td>0.048824</td>\n",
              "      <td>-0.087434</td>\n",
              "      <td>0.183482</td>\n",
              "      <td>-0.184763</td>\n",
              "      <td>-0.133512</td>\n",
              "      <td>-0.018046</td>\n",
              "      <td>0.164799</td>\n",
              "      <td>-0.030219</td>\n",
              "      <td>0.204483</td>\n",
              "    </tr>\n",
              "    <tr>\n",
              "      <th>feature_4</th>\n",
              "      <td>0.414422</td>\n",
              "      <td>0.004284</td>\n",
              "      <td>0.005692</td>\n",
              "      <td>1.000000</td>\n",
              "      <td>-0.017515</td>\n",
              "      <td>0.295999</td>\n",
              "      <td>-0.119338</td>\n",
              "      <td>0.077402</td>\n",
              "      <td>0.123430</td>\n",
              "      <td>-0.147437</td>\n",
              "      <td>...</td>\n",
              "      <td>0.402941</td>\n",
              "      <td>-0.048514</td>\n",
              "      <td>0.175835</td>\n",
              "      <td>-0.130880</td>\n",
              "      <td>0.364475</td>\n",
              "      <td>0.317812</td>\n",
              "      <td>0.156064</td>\n",
              "      <td>-0.313222</td>\n",
              "      <td>0.200493</td>\n",
              "      <td>0.071073</td>\n",
              "    </tr>\n",
              "    <tr>\n",
              "      <th>feature_5</th>\n",
              "      <td>0.036982</td>\n",
              "      <td>0.009556</td>\n",
              "      <td>0.187217</td>\n",
              "      <td>-0.017515</td>\n",
              "      <td>1.000000</td>\n",
              "      <td>-0.139041</td>\n",
              "      <td>-0.020940</td>\n",
              "      <td>-0.116694</td>\n",
              "      <td>0.187147</td>\n",
              "      <td>-0.095713</td>\n",
              "      <td>...</td>\n",
              "      <td>0.002091</td>\n",
              "      <td>0.094546</td>\n",
              "      <td>0.062270</td>\n",
              "      <td>0.143789</td>\n",
              "      <td>-0.263428</td>\n",
              "      <td>0.032675</td>\n",
              "      <td>-0.091599</td>\n",
              "      <td>0.159690</td>\n",
              "      <td>-0.051591</td>\n",
              "      <td>-0.072895</td>\n",
              "    </tr>\n",
              "    <tr>\n",
              "      <th>...</th>\n",
              "      <td>...</td>\n",
              "      <td>...</td>\n",
              "      <td>...</td>\n",
              "      <td>...</td>\n",
              "      <td>...</td>\n",
              "      <td>...</td>\n",
              "      <td>...</td>\n",
              "      <td>...</td>\n",
              "      <td>...</td>\n",
              "      <td>...</td>\n",
              "      <td>...</td>\n",
              "      <td>...</td>\n",
              "      <td>...</td>\n",
              "      <td>...</td>\n",
              "      <td>...</td>\n",
              "      <td>...</td>\n",
              "      <td>...</td>\n",
              "      <td>...</td>\n",
              "      <td>...</td>\n",
              "      <td>...</td>\n",
              "      <td>...</td>\n",
              "    </tr>\n",
              "    <tr>\n",
              "      <th>feature_764</th>\n",
              "      <td>0.443474</td>\n",
              "      <td>0.357378</td>\n",
              "      <td>-0.133512</td>\n",
              "      <td>0.317812</td>\n",
              "      <td>0.032675</td>\n",
              "      <td>0.202273</td>\n",
              "      <td>0.078858</td>\n",
              "      <td>0.117481</td>\n",
              "      <td>0.085433</td>\n",
              "      <td>-0.282476</td>\n",
              "      <td>...</td>\n",
              "      <td>0.192540</td>\n",
              "      <td>0.068779</td>\n",
              "      <td>0.145485</td>\n",
              "      <td>-0.230508</td>\n",
              "      <td>0.315251</td>\n",
              "      <td>1.000000</td>\n",
              "      <td>0.204746</td>\n",
              "      <td>-0.159590</td>\n",
              "      <td>0.181170</td>\n",
              "      <td>0.216180</td>\n",
              "    </tr>\n",
              "    <tr>\n",
              "      <th>feature_765</th>\n",
              "      <td>0.216448</td>\n",
              "      <td>0.107098</td>\n",
              "      <td>-0.018046</td>\n",
              "      <td>0.156064</td>\n",
              "      <td>-0.091599</td>\n",
              "      <td>-0.113032</td>\n",
              "      <td>-0.079667</td>\n",
              "      <td>0.106025</td>\n",
              "      <td>0.118023</td>\n",
              "      <td>-0.205155</td>\n",
              "      <td>...</td>\n",
              "      <td>0.213167</td>\n",
              "      <td>0.136531</td>\n",
              "      <td>0.093549</td>\n",
              "      <td>-0.129885</td>\n",
              "      <td>0.327689</td>\n",
              "      <td>0.204746</td>\n",
              "      <td>1.000000</td>\n",
              "      <td>-0.117247</td>\n",
              "      <td>0.154951</td>\n",
              "      <td>0.388355</td>\n",
              "    </tr>\n",
              "    <tr>\n",
              "      <th>feature_766</th>\n",
              "      <td>-0.372152</td>\n",
              "      <td>0.008878</td>\n",
              "      <td>0.164799</td>\n",
              "      <td>-0.313222</td>\n",
              "      <td>0.159690</td>\n",
              "      <td>-0.411833</td>\n",
              "      <td>-0.139678</td>\n",
              "      <td>-0.374096</td>\n",
              "      <td>-0.342061</td>\n",
              "      <td>0.119664</td>\n",
              "      <td>...</td>\n",
              "      <td>-0.559327</td>\n",
              "      <td>0.201898</td>\n",
              "      <td>-0.053654</td>\n",
              "      <td>0.334765</td>\n",
              "      <td>-0.503721</td>\n",
              "      <td>-0.159590</td>\n",
              "      <td>-0.117247</td>\n",
              "      <td>1.000000</td>\n",
              "      <td>-0.224632</td>\n",
              "      <td>0.129305</td>\n",
              "    </tr>\n",
              "    <tr>\n",
              "      <th>feature_767</th>\n",
              "      <td>0.081136</td>\n",
              "      <td>-0.021500</td>\n",
              "      <td>-0.030219</td>\n",
              "      <td>0.200493</td>\n",
              "      <td>-0.051591</td>\n",
              "      <td>0.173833</td>\n",
              "      <td>-0.109424</td>\n",
              "      <td>0.160097</td>\n",
              "      <td>0.017900</td>\n",
              "      <td>-0.064848</td>\n",
              "      <td>...</td>\n",
              "      <td>0.242810</td>\n",
              "      <td>-0.086578</td>\n",
              "      <td>-0.004117</td>\n",
              "      <td>-0.247390</td>\n",
              "      <td>0.280897</td>\n",
              "      <td>0.181170</td>\n",
              "      <td>0.154951</td>\n",
              "      <td>-0.224632</td>\n",
              "      <td>1.000000</td>\n",
              "      <td>0.043913</td>\n",
              "    </tr>\n",
              "    <tr>\n",
              "      <th>feature_768</th>\n",
              "      <td>0.266223</td>\n",
              "      <td>0.233835</td>\n",
              "      <td>0.204483</td>\n",
              "      <td>0.071073</td>\n",
              "      <td>-0.072895</td>\n",
              "      <td>-0.208364</td>\n",
              "      <td>-0.122569</td>\n",
              "      <td>-0.007818</td>\n",
              "      <td>-0.078739</td>\n",
              "      <td>0.064398</td>\n",
              "      <td>...</td>\n",
              "      <td>-0.049451</td>\n",
              "      <td>-0.056708</td>\n",
              "      <td>0.031914</td>\n",
              "      <td>0.022605</td>\n",
              "      <td>0.258167</td>\n",
              "      <td>0.216180</td>\n",
              "      <td>0.388355</td>\n",
              "      <td>0.129305</td>\n",
              "      <td>0.043913</td>\n",
              "      <td>1.000000</td>\n",
              "    </tr>\n",
              "  </tbody>\n",
              "</table>\n",
              "<p>768 rows × 768 columns</p>\n",
              "</div>"
            ],
            "text/plain": [
              "             feature_1  feature_2  feature_3  feature_4  feature_5  feature_6  \\\n",
              "feature_1     1.000000   0.267338   0.071490   0.414422   0.036982   0.207898   \n",
              "feature_2     0.267338   1.000000  -0.027042   0.004284   0.009556  -0.175189   \n",
              "feature_3     0.071490  -0.027042   1.000000   0.005692   0.187217  -0.184922   \n",
              "feature_4     0.414422   0.004284   0.005692   1.000000  -0.017515   0.295999   \n",
              "feature_5     0.036982   0.009556   0.187217  -0.017515   1.000000  -0.139041   \n",
              "...                ...        ...        ...        ...        ...        ...   \n",
              "feature_764   0.443474   0.357378  -0.133512   0.317812   0.032675   0.202273   \n",
              "feature_765   0.216448   0.107098  -0.018046   0.156064  -0.091599  -0.113032   \n",
              "feature_766  -0.372152   0.008878   0.164799  -0.313222   0.159690  -0.411833   \n",
              "feature_767   0.081136  -0.021500  -0.030219   0.200493  -0.051591   0.173833   \n",
              "feature_768   0.266223   0.233835   0.204483   0.071073  -0.072895  -0.208364   \n",
              "\n",
              "             feature_7  feature_8  feature_9  feature_10  ...  feature_759  \\\n",
              "feature_1     0.118319   0.147709   0.368570   -0.190114  ...     0.294503   \n",
              "feature_2     0.118727   0.047381   0.146719    0.004041  ...     0.036397   \n",
              "feature_3    -0.071054  -0.217118   0.112494   -0.045269  ...    -0.054550   \n",
              "feature_4    -0.119338   0.077402   0.123430   -0.147437  ...     0.402941   \n",
              "feature_5    -0.020940  -0.116694   0.187147   -0.095713  ...     0.002091   \n",
              "...                ...        ...        ...         ...  ...          ...   \n",
              "feature_764   0.078858   0.117481   0.085433   -0.282476  ...     0.192540   \n",
              "feature_765  -0.079667   0.106025   0.118023   -0.205155  ...     0.213167   \n",
              "feature_766  -0.139678  -0.374096  -0.342061    0.119664  ...    -0.559327   \n",
              "feature_767  -0.109424   0.160097   0.017900   -0.064848  ...     0.242810   \n",
              "feature_768  -0.122569  -0.007818  -0.078739    0.064398  ...    -0.049451   \n",
              "\n",
              "             feature_760  feature_761  feature_762  feature_763  feature_764  \\\n",
              "feature_1       0.016181     0.253096    -0.245060     0.423731     0.443474   \n",
              "feature_2       0.120084     0.058233    -0.095840     0.066372     0.357378   \n",
              "feature_3       0.048824    -0.087434     0.183482    -0.184763    -0.133512   \n",
              "feature_4      -0.048514     0.175835    -0.130880     0.364475     0.317812   \n",
              "feature_5       0.094546     0.062270     0.143789    -0.263428     0.032675   \n",
              "...                  ...          ...          ...          ...          ...   \n",
              "feature_764     0.068779     0.145485    -0.230508     0.315251     1.000000   \n",
              "feature_765     0.136531     0.093549    -0.129885     0.327689     0.204746   \n",
              "feature_766     0.201898    -0.053654     0.334765    -0.503721    -0.159590   \n",
              "feature_767    -0.086578    -0.004117    -0.247390     0.280897     0.181170   \n",
              "feature_768    -0.056708     0.031914     0.022605     0.258167     0.216180   \n",
              "\n",
              "             feature_765  feature_766  feature_767  feature_768  \n",
              "feature_1       0.216448    -0.372152     0.081136     0.266223  \n",
              "feature_2       0.107098     0.008878    -0.021500     0.233835  \n",
              "feature_3      -0.018046     0.164799    -0.030219     0.204483  \n",
              "feature_4       0.156064    -0.313222     0.200493     0.071073  \n",
              "feature_5      -0.091599     0.159690    -0.051591    -0.072895  \n",
              "...                  ...          ...          ...          ...  \n",
              "feature_764     0.204746    -0.159590     0.181170     0.216180  \n",
              "feature_765     1.000000    -0.117247     0.154951     0.388355  \n",
              "feature_766    -0.117247     1.000000    -0.224632     0.129305  \n",
              "feature_767     0.154951    -0.224632     1.000000     0.043913  \n",
              "feature_768     0.388355     0.129305     0.043913     1.000000  \n",
              "\n",
              "[768 rows x 768 columns]"
            ]
          },
          "execution_count": 40,
          "metadata": {},
          "output_type": "execute_result"
        }
      ],
      "source": [
        "corr_matrix_l3"
      ]
    },
    {
      "cell_type": "code",
      "execution_count": 41,
      "metadata": {},
      "outputs": [],
      "source": [
        "def get_corr_features(corr_matrix, threshold):\n",
        "\n",
        "  correlated_features = []\n",
        "\n",
        "  for i in range(len(corr_matrix.columns)):\n",
        "    for j in range(i+1, len(corr_matrix.columns)):\n",
        "      if (abs(corr_matrix.iloc[i, j]) > threshold):\n",
        "        col_name = corr_matrix.columns[j]\n",
        "        if col_name not in correlated_features:\n",
        "          correlated_features.append(col_name)\n",
        "\n",
        "  return correlated_features"
      ]
    },
    {
      "cell_type": "code",
      "execution_count": 42,
      "metadata": {},
      "outputs": [
        {
          "name": "stdout",
          "output_type": "stream",
          "text": [
            "27\n"
          ]
        }
      ],
      "source": [
        "correlated_features_l3 = get_corr_features(corr_matrix_l3, 0.7)\n",
        "print(len(correlated_features_l3))"
      ]
    },
    {
      "cell_type": "markdown",
      "metadata": {},
      "source": [
        "#### PCA"
      ]
    },
    {
      "cell_type": "code",
      "execution_count": 43,
      "metadata": {},
      "outputs": [],
      "source": [
        "from sklearn.preprocessing import StandardScaler\n",
        "\n",
        "x_test_l3 = x_test.copy()\n",
        "\n",
        "scaler = StandardScaler()\n",
        "x_train[L3] = pd.DataFrame(scaler.fit_transform(x_train[L3]), columns=FEATURES)\n",
        "x_valid[L3] = pd.DataFrame(scaler.transform(x_valid[L3]), columns=FEATURES)\n",
        "x_test_l3 = pd.DataFrame(scaler.transform(x_test_l3), columns=FEATURES)"
      ]
    },
    {
      "cell_type": "code",
      "execution_count": 44,
      "metadata": {},
      "outputs": [
        {
          "name": "stdout",
          "output_type": "stream",
          "text": [
            "Number of features: 311\n"
          ]
        }
      ],
      "source": [
        "from sklearn.decomposition import PCA\n",
        "\n",
        "threshold = 0.96\n",
        "\n",
        "pca = PCA(n_components=threshold, svd_solver='full')\n",
        "x_train_l3_pca = pd.DataFrame(pca.fit_transform(x_train[L3]))\n",
        "x_valid_l3_pca = pd.DataFrame(pca.transform(x_valid[L3]))\n",
        "x_test_l3_pca = pd.DataFrame(pca.transform(x_test_l3))\n",
        "\n",
        "explained_variance = pca.explained_variance_ratio_\n",
        "\n",
        "print(f\"Number of features: {len(explained_variance)}\")"
      ]
    },
    {
      "cell_type": "code",
      "execution_count": 45,
      "metadata": {},
      "outputs": [
        {
          "name": "stdout",
          "output_type": "stream",
          "text": [
            "Accuracy = 0.9906666666666667\n"
          ]
        }
      ],
      "source": [
        "accuracy_1 = weighted_svm_classifier(x_train_l3_pca, y_train[L3], x_valid_l3_pca, y_valid[L3])\n",
        "print(f\"Accuracy = {accuracy_1}\")"
      ]
    },
    {
      "cell_type": "markdown",
      "metadata": {},
      "source": [
        "#### Hyperparameter Tuning - Random Grid Search"
      ]
    },
    {
      "cell_type": "code",
      "execution_count": 46,
      "metadata": {},
      "outputs": [
        {
          "name": "stdout",
          "output_type": "stream",
          "text": [
            "Fitting 2 folds for each of 5 candidates, totalling 10 fits\n",
            "{'kernel': 'linear', 'gamma': 0.1, 'class_weight': 'balanced', 'C': 0.001}\n",
            "0.9715988779803647\n"
          ]
        }
      ],
      "source": [
        "param_dist = {\n",
        "    'C': np.logspace(-3, 3, 7),\n",
        "    'kernel': ['linear', 'rbf', 'poly'],\n",
        "    'gamma': np.logspace(-3, 3, 7),\n",
        "    'class_weight': ['balanced']\n",
        "}\n",
        "cv = 2\n",
        "n_iter = 5\n",
        "svm = SVC()\n",
        "\n",
        "random_search_l3 = random_grid_search(svm, param_dist, cv, n_iter, x_train_l3_pca, y_train[L3])\n",
        "best_model_l3 = random_search_l3.best_estimator_\n",
        "best_accuracy_l3 = random_search_l3.best_score_\n",
        "best_param = random_search_l3.best_params_\n",
        "\n",
        "print(best_param)\n",
        "print(best_accuracy_l3)\n"
      ]
    },
    {
      "cell_type": "code",
      "execution_count": 47,
      "metadata": {},
      "outputs": [
        {
          "name": "stdout",
          "output_type": "stream",
          "text": [
            "Accuracy after: 0.9853333333333333\n"
          ]
        }
      ],
      "source": [
        "y_pred_l3 = best_model_l3.predict(x_valid_l3_pca)\n",
        "accuracy = accuracy_score(y_valid[L3], y_pred_l3)\n",
        "print(f\"Accuracy after: {accuracy}\")"
      ]
    },
    {
      "cell_type": "markdown",
      "metadata": {},
      "source": [
        "#### Cross Validation"
      ]
    },
    {
      "cell_type": "code",
      "execution_count": 48,
      "metadata": {},
      "outputs": [
        {
          "name": "stdout",
          "output_type": "stream",
          "text": [
            "Cross-Validation Scores: [0.96861851 0.98913043 0.98229313 0.98071529 0.9943899 ]\n",
            "Mean Score: 0.9830294530154278\n",
            "Standard Deviation: 0.008716128675680182\n"
          ]
        }
      ],
      "source": [
        "model = SVC(kernel= best_param['kernel'], gamma= best_param['gamma'], class_weight= 'balanced', C= best_param['C'])\n",
        "\n",
        "k_fold_cross_validation(model, 5, x_train_l3_pca, y_train[L3])"
      ]
    },
    {
      "cell_type": "markdown",
      "metadata": {},
      "source": [
        "## Label 4"
      ]
    },
    {
      "cell_type": "code",
      "execution_count": 49,
      "metadata": {},
      "outputs": [
        {
          "data": {
            "text/plain": [
              "<AxesSubplot: xlabel='label_4', ylabel='count'>"
            ]
          },
          "execution_count": 49,
          "metadata": {},
          "output_type": "execute_result"
        },
        {
          "data": {
            "image/png": "[encoded data removed]",
            "text/plain": [
              "<Figure size 1800x600 with 1 Axes>"
            ]
          },
          "metadata": {},
          "output_type": "display_data"
        }
      ],
      "source": [
        "import matplotlib.pyplot as plt\n",
        "import seaborn as sn\n",
        "\n",
        "L4 = 'label_4'\n",
        "\n",
        "plt.figure(figsize=(18,6))\n",
        "sn.countplot(data=y_train, x=L4, color='blue')"
      ]
    },
    {
      "cell_type": "markdown",
      "metadata": {},
      "source": [
        "#### Initial Accuracy"
      ]
    },
    {
      "cell_type": "code",
      "execution_count": 50,
      "metadata": {},
      "outputs": [
        {
          "name": "stdout",
          "output_type": "stream",
          "text": [
            "Accuracy = 0.892\n"
          ]
        }
      ],
      "source": [
        "accuracy = weighted_svm_classifier(x_train[L4], y_train[L4], x_valid[L4], y_valid[L4])\n",
        "print(f\"Accuracy = {accuracy}\")"
      ]
    },
    {
      "cell_type": "markdown",
      "metadata": {},
      "source": [
        "#### Correlation"
      ]
    },
    {
      "cell_type": "code",
      "execution_count": 51,
      "metadata": {},
      "outputs": [],
      "source": [
        "corr_matrix_l4 = x_train[L4].corr()"
      ]
    },
    {
      "cell_type": "code",
      "execution_count": 52,
      "metadata": {},
      "outputs": [
        {
          "data": {
            "text/html": [
              "<div>\n",
              "<style scoped>\n",
              "    .dataframe tbody tr th:only-of-type {\n",
              "        vertical-align: middle;\n",
              "    }\n",
              "\n",
              "    .dataframe tbody tr th {\n",
              "        vertical-align: top;\n",
              "    }\n",
              "\n",
              "    .dataframe thead th {\n",
              "        text-align: right;\n",
              "    }\n",
              "</style>\n",
              "<table border=\"1\" class=\"dataframe\">\n",
              "  <thead>\n",
              "    <tr style=\"text-align: right;\">\n",
              "      <th></th>\n",
              "      <th>feature_1</th>\n",
              "      <th>feature_2</th>\n",
              "      <th>feature_3</th>\n",
              "      <th>feature_4</th>\n",
              "      <th>feature_5</th>\n",
              "      <th>feature_6</th>\n",
              "      <th>feature_7</th>\n",
              "      <th>feature_8</th>\n",
              "      <th>feature_9</th>\n",
              "      <th>feature_10</th>\n",
              "      <th>...</th>\n",
              "      <th>feature_759</th>\n",
              "      <th>feature_760</th>\n",
              "      <th>feature_761</th>\n",
              "      <th>feature_762</th>\n",
              "      <th>feature_763</th>\n",
              "      <th>feature_764</th>\n",
              "      <th>feature_765</th>\n",
              "      <th>feature_766</th>\n",
              "      <th>feature_767</th>\n",
              "      <th>feature_768</th>\n",
              "    </tr>\n",
              "  </thead>\n",
              "  <tbody>\n",
              "    <tr>\n",
              "      <th>feature_1</th>\n",
              "      <td>1.000000</td>\n",
              "      <td>0.267338</td>\n",
              "      <td>0.071490</td>\n",
              "      <td>0.414422</td>\n",
              "      <td>0.036982</td>\n",
              "      <td>0.207898</td>\n",
              "      <td>0.118319</td>\n",
              "      <td>0.147709</td>\n",
              "      <td>0.368570</td>\n",
              "      <td>-0.190114</td>\n",
              "      <td>...</td>\n",
              "      <td>0.294503</td>\n",
              "      <td>0.016181</td>\n",
              "      <td>0.253096</td>\n",
              "      <td>-0.245060</td>\n",
              "      <td>0.423731</td>\n",
              "      <td>0.443474</td>\n",
              "      <td>0.216448</td>\n",
              "      <td>-0.372152</td>\n",
              "      <td>0.081136</td>\n",
              "      <td>0.266223</td>\n",
              "    </tr>\n",
              "    <tr>\n",
              "      <th>feature_2</th>\n",
              "      <td>0.267338</td>\n",
              "      <td>1.000000</td>\n",
              "      <td>-0.027042</td>\n",
              "      <td>0.004284</td>\n",
              "      <td>0.009556</td>\n",
              "      <td>-0.175189</td>\n",
              "      <td>0.118727</td>\n",
              "      <td>0.047381</td>\n",
              "      <td>0.146719</td>\n",
              "      <td>0.004041</td>\n",
              "      <td>...</td>\n",
              "      <td>0.036397</td>\n",
              "      <td>0.120084</td>\n",
              "      <td>0.058233</td>\n",
              "      <td>-0.095840</td>\n",
              "      <td>0.066372</td>\n",
              "      <td>0.357378</td>\n",
              "      <td>0.107098</td>\n",
              "      <td>0.008878</td>\n",
              "      <td>-0.021500</td>\n",
              "      <td>0.233835</td>\n",
              "    </tr>\n",
              "    <tr>\n",
              "      <th>feature_3</th>\n",
              "      <td>0.071490</td>\n",
              "      <td>-0.027042</td>\n",
              "      <td>1.000000</td>\n",
              "      <td>0.005692</td>\n",
              "      <td>0.187217</td>\n",
              "      <td>-0.184922</td>\n",
              "      <td>-0.071054</td>\n",
              "      <td>-0.217118</td>\n",
              "      <td>0.112494</td>\n",
              "      <td>-0.045269</td>\n",
              "      <td>...</td>\n",
              "      <td>-0.054550</td>\n",
              "      <td>0.048824</td>\n",
              "      <td>-0.087434</td>\n",
              "      <td>0.183482</td>\n",
              "      <td>-0.184763</td>\n",
              "      <td>-0.133512</td>\n",
              "      <td>-0.018046</td>\n",
              "      <td>0.164799</td>\n",
              "      <td>-0.030219</td>\n",
              "      <td>0.204483</td>\n",
              "    </tr>\n",
              "    <tr>\n",
              "      <th>feature_4</th>\n",
              "      <td>0.414422</td>\n",
              "      <td>0.004284</td>\n",
              "      <td>0.005692</td>\n",
              "      <td>1.000000</td>\n",
              "      <td>-0.017515</td>\n",
              "      <td>0.295999</td>\n",
              "      <td>-0.119338</td>\n",
              "      <td>0.077402</td>\n",
              "      <td>0.123430</td>\n",
              "      <td>-0.147437</td>\n",
              "      <td>...</td>\n",
              "      <td>0.402941</td>\n",
              "      <td>-0.048514</td>\n",
              "      <td>0.175835</td>\n",
              "      <td>-0.130880</td>\n",
              "      <td>0.364475</td>\n",
              "      <td>0.317812</td>\n",
              "      <td>0.156064</td>\n",
              "      <td>-0.313222</td>\n",
              "      <td>0.200493</td>\n",
              "      <td>0.071073</td>\n",
              "    </tr>\n",
              "    <tr>\n",
              "      <th>feature_5</th>\n",
              "      <td>0.036982</td>\n",
              "      <td>0.009556</td>\n",
              "      <td>0.187217</td>\n",
              "      <td>-0.017515</td>\n",
              "      <td>1.000000</td>\n",
              "      <td>-0.139041</td>\n",
              "      <td>-0.020940</td>\n",
              "      <td>-0.116694</td>\n",
              "      <td>0.187147</td>\n",
              "      <td>-0.095713</td>\n",
              "      <td>...</td>\n",
              "      <td>0.002091</td>\n",
              "      <td>0.094546</td>\n",
              "      <td>0.062270</td>\n",
              "      <td>0.143789</td>\n",
              "      <td>-0.263428</td>\n",
              "      <td>0.032675</td>\n",
              "      <td>-0.091599</td>\n",
              "      <td>0.159690</td>\n",
              "      <td>-0.051591</td>\n",
              "      <td>-0.072895</td>\n",
              "    </tr>\n",
              "    <tr>\n",
              "      <th>...</th>\n",
              "      <td>...</td>\n",
              "      <td>...</td>\n",
              "      <td>...</td>\n",
              "      <td>...</td>\n",
              "      <td>...</td>\n",
              "      <td>...</td>\n",
              "      <td>...</td>\n",
              "      <td>...</td>\n",
              "      <td>...</td>\n",
              "      <td>...</td>\n",
              "      <td>...</td>\n",
              "      <td>...</td>\n",
              "      <td>...</td>\n",
              "      <td>...</td>\n",
              "      <td>...</td>\n",
              "      <td>...</td>\n",
              "      <td>...</td>\n",
              "      <td>...</td>\n",
              "      <td>...</td>\n",
              "      <td>...</td>\n",
              "      <td>...</td>\n",
              "    </tr>\n",
              "    <tr>\n",
              "      <th>feature_764</th>\n",
              "      <td>0.443474</td>\n",
              "      <td>0.357378</td>\n",
              "      <td>-0.133512</td>\n",
              "      <td>0.317812</td>\n",
              "      <td>0.032675</td>\n",
              "      <td>0.202273</td>\n",
              "      <td>0.078858</td>\n",
              "      <td>0.117481</td>\n",
              "      <td>0.085433</td>\n",
              "      <td>-0.282476</td>\n",
              "      <td>...</td>\n",
              "      <td>0.192540</td>\n",
              "      <td>0.068779</td>\n",
              "      <td>0.145485</td>\n",
              "      <td>-0.230508</td>\n",
              "      <td>0.315251</td>\n",
              "      <td>1.000000</td>\n",
              "      <td>0.204746</td>\n",
              "      <td>-0.159590</td>\n",
              "      <td>0.181170</td>\n",
              "      <td>0.216180</td>\n",
              "    </tr>\n",
              "    <tr>\n",
              "      <th>feature_765</th>\n",
              "      <td>0.216448</td>\n",
              "      <td>0.107098</td>\n",
              "      <td>-0.018046</td>\n",
              "      <td>0.156064</td>\n",
              "      <td>-0.091599</td>\n",
              "      <td>-0.113032</td>\n",
              "      <td>-0.079667</td>\n",
              "      <td>0.106025</td>\n",
              "      <td>0.118023</td>\n",
              "      <td>-0.205155</td>\n",
              "      <td>...</td>\n",
              "      <td>0.213167</td>\n",
              "      <td>0.136531</td>\n",
              "      <td>0.093549</td>\n",
              "      <td>-0.129885</td>\n",
              "      <td>0.327689</td>\n",
              "      <td>0.204746</td>\n",
              "      <td>1.000000</td>\n",
              "      <td>-0.117247</td>\n",
              "      <td>0.154951</td>\n",
              "      <td>0.388355</td>\n",
              "    </tr>\n",
              "    <tr>\n",
              "      <th>feature_766</th>\n",
              "      <td>-0.372152</td>\n",
              "      <td>0.008878</td>\n",
              "      <td>0.164799</td>\n",
              "      <td>-0.313222</td>\n",
              "      <td>0.159690</td>\n",
              "      <td>-0.411833</td>\n",
              "      <td>-0.139678</td>\n",
              "      <td>-0.374096</td>\n",
              "      <td>-0.342061</td>\n",
              "      <td>0.119664</td>\n",
              "      <td>...</td>\n",
              "      <td>-0.559327</td>\n",
              "      <td>0.201898</td>\n",
              "      <td>-0.053654</td>\n",
              "      <td>0.334765</td>\n",
              "      <td>-0.503721</td>\n",
              "      <td>-0.159590</td>\n",
              "      <td>-0.117247</td>\n",
              "      <td>1.000000</td>\n",
              "      <td>-0.224632</td>\n",
              "      <td>0.129305</td>\n",
              "    </tr>\n",
              "    <tr>\n",
              "      <th>feature_767</th>\n",
              "      <td>0.081136</td>\n",
              "      <td>-0.021500</td>\n",
              "      <td>-0.030219</td>\n",
              "      <td>0.200493</td>\n",
              "      <td>-0.051591</td>\n",
              "      <td>0.173833</td>\n",
              "      <td>-0.109424</td>\n",
              "      <td>0.160097</td>\n",
              "      <td>0.017900</td>\n",
              "      <td>-0.064848</td>\n",
              "      <td>...</td>\n",
              "      <td>0.242810</td>\n",
              "      <td>-0.086578</td>\n",
              "      <td>-0.004117</td>\n",
              "      <td>-0.247390</td>\n",
              "      <td>0.280897</td>\n",
              "      <td>0.181170</td>\n",
              "      <td>0.154951</td>\n",
              "      <td>-0.224632</td>\n",
              "      <td>1.000000</td>\n",
              "      <td>0.043913</td>\n",
              "    </tr>\n",
              "    <tr>\n",
              "      <th>feature_768</th>\n",
              "      <td>0.266223</td>\n",
              "      <td>0.233835</td>\n",
              "      <td>0.204483</td>\n",
              "      <td>0.071073</td>\n",
              "      <td>-0.072895</td>\n",
              "      <td>-0.208364</td>\n",
              "      <td>-0.122569</td>\n",
              "      <td>-0.007818</td>\n",
              "      <td>-0.078739</td>\n",
              "      <td>0.064398</td>\n",
              "      <td>...</td>\n",
              "      <td>-0.049451</td>\n",
              "      <td>-0.056708</td>\n",
              "      <td>0.031914</td>\n",
              "      <td>0.022605</td>\n",
              "      <td>0.258167</td>\n",
              "      <td>0.216180</td>\n",
              "      <td>0.388355</td>\n",
              "      <td>0.129305</td>\n",
              "      <td>0.043913</td>\n",
              "      <td>1.000000</td>\n",
              "    </tr>\n",
              "  </tbody>\n",
              "</table>\n",
              "<p>768 rows × 768 columns</p>\n",
              "</div>"
            ],
            "text/plain": [
              "             feature_1  feature_2  feature_3  feature_4  feature_5  feature_6  \\\n",
              "feature_1     1.000000   0.267338   0.071490   0.414422   0.036982   0.207898   \n",
              "feature_2     0.267338   1.000000  -0.027042   0.004284   0.009556  -0.175189   \n",
              "feature_3     0.071490  -0.027042   1.000000   0.005692   0.187217  -0.184922   \n",
              "feature_4     0.414422   0.004284   0.005692   1.000000  -0.017515   0.295999   \n",
              "feature_5     0.036982   0.009556   0.187217  -0.017515   1.000000  -0.139041   \n",
              "...                ...        ...        ...        ...        ...        ...   \n",
              "feature_764   0.443474   0.357378  -0.133512   0.317812   0.032675   0.202273   \n",
              "feature_765   0.216448   0.107098  -0.018046   0.156064  -0.091599  -0.113032   \n",
              "feature_766  -0.372152   0.008878   0.164799  -0.313222   0.159690  -0.411833   \n",
              "feature_767   0.081136  -0.021500  -0.030219   0.200493  -0.051591   0.173833   \n",
              "feature_768   0.266223   0.233835   0.204483   0.071073  -0.072895  -0.208364   \n",
              "\n",
              "             feature_7  feature_8  feature_9  feature_10  ...  feature_759  \\\n",
              "feature_1     0.118319   0.147709   0.368570   -0.190114  ...     0.294503   \n",
              "feature_2     0.118727   0.047381   0.146719    0.004041  ...     0.036397   \n",
              "feature_3    -0.071054  -0.217118   0.112494   -0.045269  ...    -0.054550   \n",
              "feature_4    -0.119338   0.077402   0.123430   -0.147437  ...     0.402941   \n",
              "feature_5    -0.020940  -0.116694   0.187147   -0.095713  ...     0.002091   \n",
              "...                ...        ...        ...         ...  ...          ...   \n",
              "feature_764   0.078858   0.117481   0.085433   -0.282476  ...     0.192540   \n",
              "feature_765  -0.079667   0.106025   0.118023   -0.205155  ...     0.213167   \n",
              "feature_766  -0.139678  -0.374096  -0.342061    0.119664  ...    -0.559327   \n",
              "feature_767  -0.109424   0.160097   0.017900   -0.064848  ...     0.242810   \n",
              "feature_768  -0.122569  -0.007818  -0.078739    0.064398  ...    -0.049451   \n",
              "\n",
              "             feature_760  feature_761  feature_762  feature_763  feature_764  \\\n",
              "feature_1       0.016181     0.253096    -0.245060     0.423731     0.443474   \n",
              "feature_2       0.120084     0.058233    -0.095840     0.066372     0.357378   \n",
              "feature_3       0.048824    -0.087434     0.183482    -0.184763    -0.133512   \n",
              "feature_4      -0.048514     0.175835    -0.130880     0.364475     0.317812   \n",
              "feature_5       0.094546     0.062270     0.143789    -0.263428     0.032675   \n",
              "...                  ...          ...          ...          ...          ...   \n",
              "feature_764     0.068779     0.145485    -0.230508     0.315251     1.000000   \n",
              "feature_765     0.136531     0.093549    -0.129885     0.327689     0.204746   \n",
              "feature_766     0.201898    -0.053654     0.334765    -0.503721    -0.159590   \n",
              "feature_767    -0.086578    -0.004117    -0.247390     0.280897     0.181170   \n",
              "feature_768    -0.056708     0.031914     0.022605     0.258167     0.216180   \n",
              "\n",
              "             feature_765  feature_766  feature_767  feature_768  \n",
              "feature_1       0.216448    -0.372152     0.081136     0.266223  \n",
              "feature_2       0.107098     0.008878    -0.021500     0.233835  \n",
              "feature_3      -0.018046     0.164799    -0.030219     0.204483  \n",
              "feature_4       0.156064    -0.313222     0.200493     0.071073  \n",
              "feature_5      -0.091599     0.159690    -0.051591    -0.072895  \n",
              "...                  ...          ...          ...          ...  \n",
              "feature_764     0.204746    -0.159590     0.181170     0.216180  \n",
              "feature_765     1.000000    -0.117247     0.154951     0.388355  \n",
              "feature_766    -0.117247     1.000000    -0.224632     0.129305  \n",
              "feature_767     0.154951    -0.224632     1.000000     0.043913  \n",
              "feature_768     0.388355     0.129305     0.043913     1.000000  \n",
              "\n",
              "[768 rows x 768 columns]"
            ]
          },
          "execution_count": 52,
          "metadata": {},
          "output_type": "execute_result"
        }
      ],
      "source": [
        "corr_matrix_l4"
      ]
    },
    {
      "cell_type": "code",
      "execution_count": 53,
      "metadata": {},
      "outputs": [],
      "source": [
        "def get_corr_features(corr_matrix, threshold):\n",
        "\n",
        "  correlated_features = []\n",
        "\n",
        "  for i in range(len(corr_matrix.columns)):\n",
        "    for j in range(i+1, len(corr_matrix.columns)):\n",
        "      if (abs(corr_matrix.iloc[i, j]) > threshold):\n",
        "        col_name = corr_matrix.columns[j]\n",
        "        if col_name not in correlated_features:\n",
        "          correlated_features.append(col_name)\n",
        "\n",
        "  return correlated_features"
      ]
    },
    {
      "cell_type": "code",
      "execution_count": 54,
      "metadata": {},
      "outputs": [
        {
          "name": "stdout",
          "output_type": "stream",
          "text": [
            "27\n"
          ]
        }
      ],
      "source": [
        "correlated_features_l4 = get_corr_features(corr_matrix_l4, 0.7)\n",
        "print(len(correlated_features_l4))"
      ]
    },
    {
      "cell_type": "markdown",
      "metadata": {},
      "source": [
        "#### PCA"
      ]
    },
    {
      "cell_type": "code",
      "execution_count": 55,
      "metadata": {},
      "outputs": [],
      "source": [
        "from sklearn.preprocessing import StandardScaler\n",
        "\n",
        "x_test_l4 = x_test.copy()\n",
        "\n",
        "scaler = StandardScaler()\n",
        "x_train[L4] = pd.DataFrame(scaler.fit_transform(x_train[L4]), columns=FEATURES)\n",
        "x_valid[L4] = pd.DataFrame(scaler.transform(x_valid[L4]), columns=FEATURES)\n",
        "x_test_l4 = pd.DataFrame(scaler.transform(x_test_l4), columns=FEATURES)"
      ]
    },
    {
      "cell_type": "code",
      "execution_count": 56,
      "metadata": {},
      "outputs": [
        {
          "name": "stdout",
          "output_type": "stream",
          "text": [
            "Number of features: 311\n"
          ]
        }
      ],
      "source": [
        "from sklearn.decomposition import PCA\n",
        "\n",
        "threshold = 0.96\n",
        "\n",
        "pca = PCA(n_components=threshold, svd_solver='full')\n",
        "x_train_l4_pca = pd.DataFrame(pca.fit_transform(x_train[L4]))\n",
        "x_valid_l4_pca = pd.DataFrame(pca.transform(x_valid[L4]))\n",
        "x_test_l4_pca = pd.DataFrame(pca.transform(x_test_l4))\n",
        "\n",
        "explained_variance = pca.explained_variance_ratio_\n",
        "\n",
        "print(f\"Number of features: {len(explained_variance)}\")"
      ]
    },
    {
      "cell_type": "code",
      "execution_count": 57,
      "metadata": {},
      "outputs": [
        {
          "name": "stdout",
          "output_type": "stream",
          "text": [
            "Accuracy = 0.8946666666666667\n"
          ]
        }
      ],
      "source": [
        "accuracy_1 = weighted_svm_classifier(x_train_l4_pca, y_train[L4], x_valid_l4_pca, y_valid[L4])\n",
        "print(f\"Accuracy = {accuracy_1}\")"
      ]
    },
    {
      "cell_type": "markdown",
      "metadata": {},
      "source": [
        "#### Hyperparameter Tuning - Random Grid Search"
      ]
    },
    {
      "cell_type": "code",
      "execution_count": 58,
      "metadata": {},
      "outputs": [
        {
          "name": "stdout",
          "output_type": "stream",
          "text": [
            "Fitting 2 folds for each of 5 candidates, totalling 10 fits\n",
            "{'kernel': 'poly', 'gamma': 100.0, 'class_weight': 'balanced', 'C': 10.0}\n",
            "0.8137798036465638\n"
          ]
        }
      ],
      "source": [
        "param_dist = {\n",
        "    'C': np.logspace(-3, 3, 7),\n",
        "    'kernel': ['linear', 'rbf', 'poly'],\n",
        "    'gamma': np.logspace(-3, 3, 7),\n",
        "    'class_weight': ['balanced']\n",
        "}\n",
        "cv = 2\n",
        "n_iter = 5\n",
        "svm = SVC()\n",
        "\n",
        "random_search_l4 = random_grid_search(svm, param_dist, cv, n_iter, x_train_l4_pca, y_train[L4])\n",
        "best_model_l4 = random_search_l4.best_estimator_\n",
        "best_accuracy_l4 = random_search_l4.best_score_\n",
        "best_param = random_search_l4.best_params_\n",
        "\n",
        "print(best_param)\n",
        "print(best_accuracy_l4)\n"
      ]
    },
    {
      "cell_type": "code",
      "execution_count": 59,
      "metadata": {},
      "outputs": [
        {
          "name": "stdout",
          "output_type": "stream",
          "text": [
            "Accuracy after: 0.972\n"
          ]
        }
      ],
      "source": [
        "y_pred_l4 = best_model_l4.predict(x_valid_l1_pca)\n",
        "accuracy = accuracy_score(y_valid[L4], y_pred_l4)\n",
        "print(f\"Accuracy after: {accuracy}\")"
      ]
    },
    {
      "cell_type": "markdown",
      "metadata": {},
      "source": [
        "#### Cross Validation"
      ]
    },
    {
      "cell_type": "code",
      "execution_count": 60,
      "metadata": {},
      "outputs": [
        {
          "name": "stdout",
          "output_type": "stream",
          "text": [
            "Cross-Validation Scores: [0.94109397 0.93302945 0.94179523 0.95178822 0.92303647]\n",
            "Mean Score: 0.938148667601683\n",
            "Standard Deviation: 0.009618675498463689\n"
          ]
        }
      ],
      "source": [
        "model = SVC(kernel= best_param['kernel'], gamma= best_param['gamma'], class_weight= 'balanced', C= best_param['C'])\n",
        "\n",
        "k_fold_cross_validation(model, 5, x_train_l4_pca, y_train[L4])"
      ]
    },
    {
      "cell_type": "markdown",
      "metadata": {},
      "source": [
        "## Prediciton"
      ]
    },
    {
      "cell_type": "code",
      "execution_count": 61,
      "metadata": {},
      "outputs": [],
      "source": [
        "# Label 1\n",
        "pred_l1 = best_model_l1.predict(x_test_l1_pca)\n",
        "# Label 2\n",
        "pred_l2 = best_model_l2.predict(x_test_l2_pca)\n",
        "# Label 3\n",
        "pred_l3 = best_model_l3.predict(x_test_l3_pca)\n",
        "# Label 4\n",
        "pred_l4 = best_model_l4.predict(x_test_l4_pca)"
      ]
    },
    {
      "cell_type": "code",
      "execution_count": 62,
      "metadata": {},
      "outputs": [],
      "source": [
        "id_list = test_df['ID']\n",
        "\n",
        "result = {\n",
        "    'ID': id_list,\n",
        "    'label_1': pred_l1,\n",
        "    'label_2': pred_l2,\n",
        "    'label_3': pred_l3,\n",
        "    'label_4': pred_l4\n",
        "}\n",
        "\n",
        "result_df = pd.DataFrame(result)\n",
        "\n",
        "result_df.to_csv('layer_10.csv', index=False)\n"
      ]
    }
  ],
  "metadata": {
    "colab": {
      "provenance": []
    },
    "kernelspec": {
      "display_name": "Python 3",
      "name": "python3"
    },
    "language_info": {
      "codemirror_mode": {
        "name": "ipython",
        "version": 3
      },
      "file_extension": ".py",
      "mimetype": "text/x-python",
      "name": "python",
      "nbconvert_exporter": "python",
      "pygments_lexer": "ipython3",
      "version": "3.10.5"
    }
  },
  "nbformat": 4,
  "nbformat_minor": 0
}
