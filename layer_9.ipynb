{
  "cells": [
    {
      "cell_type": "markdown",
      "metadata": {},
      "source": [
        "# Layer 9"
      ]
    },
    {
      "cell_type": "code",
      "execution_count": 1,
      "metadata": {
        "colab": {
          "base_uri": "https://localhost:8080/"
        },
        "id": "_lb_YDijM8zS",
        "outputId": "9ee8d167-935e-47ec-d96f-8cd65af24715"
      },
      "outputs": [],
      "source": [
        "import pandas as pd\n",
        "import numpy as np\n",
        "\n",
        "# from google.colab import drive\n",
        "# drive.mount('/content/drive')\n",
        "\n",
        "# DATASET_PATH = \"/content/drive/MyDrive/ML Project/layer 9\"\n",
        "DATASET_PATH = \"layer 9\""
      ]
    },
    {
      "cell_type": "code",
      "execution_count": 2,
      "metadata": {
        "id": "-fmzxIArNja4"
      },
      "outputs": [],
      "source": [
        "# CSV files into Pandas DataFrames\n",
        "train_df = pd.read_csv(f\"{DATASET_PATH}/train.csv\")\n",
        "valid_df = pd.read_csv(f\"{DATASET_PATH}/valid.csv\")\n",
        "test_df = pd.read_csv(f\"{DATASET_PATH}/test.csv\")"
      ]
    },
    {
      "cell_type": "markdown",
      "metadata": {},
      "source": [
        "### Preprocess"
      ]
    },
    {
      "cell_type": "code",
      "execution_count": 3,
      "metadata": {
        "id": "VUVoO3KlOQ3T"
      },
      "outputs": [],
      "source": [
        "temp = list(train_df.columns)\n",
        "\n",
        "FEATURES = temp[:-4]\n",
        "LABELS = temp[-4:]"
      ]
    },
    {
      "cell_type": "code",
      "execution_count": 4,
      "metadata": {
        "colab": {
          "base_uri": "https://localhost:8080/",
          "height": 256
        },
        "id": "k9RXSp5jQ9HL",
        "outputId": "9cb6f512-eb01-43a1-9a98-9de7a26c1e89"
      },
      "outputs": [
        {
          "data": {
            "text/html": [
              "<div>\n",
              "<style scoped>\n",
              "    .dataframe tbody tr th:only-of-type {\n",
              "        vertical-align: middle;\n",
              "    }\n",
              "\n",
              "    .dataframe tbody tr th {\n",
              "        vertical-align: top;\n",
              "    }\n",
              "\n",
              "    .dataframe thead th {\n",
              "        text-align: right;\n",
              "    }\n",
              "</style>\n",
              "<table border=\"1\" class=\"dataframe\">\n",
              "  <thead>\n",
              "    <tr style=\"text-align: right;\">\n",
              "      <th></th>\n",
              "      <th>feature_1</th>\n",
              "      <th>feature_2</th>\n",
              "      <th>feature_3</th>\n",
              "      <th>feature_4</th>\n",
              "      <th>feature_5</th>\n",
              "      <th>feature_6</th>\n",
              "      <th>feature_7</th>\n",
              "      <th>feature_8</th>\n",
              "      <th>feature_9</th>\n",
              "      <th>feature_10</th>\n",
              "      <th>...</th>\n",
              "      <th>feature_759</th>\n",
              "      <th>feature_760</th>\n",
              "      <th>feature_761</th>\n",
              "      <th>feature_762</th>\n",
              "      <th>feature_763</th>\n",
              "      <th>feature_764</th>\n",
              "      <th>feature_765</th>\n",
              "      <th>feature_766</th>\n",
              "      <th>feature_767</th>\n",
              "      <th>feature_768</th>\n",
              "    </tr>\n",
              "  </thead>\n",
              "  <tbody>\n",
              "    <tr>\n",
              "      <th>0</th>\n",
              "      <td>0.013112</td>\n",
              "      <td>0.130904</td>\n",
              "      <td>0.020284</td>\n",
              "      <td>0.063018</td>\n",
              "      <td>-0.034321</td>\n",
              "      <td>-0.073516</td>\n",
              "      <td>-0.030659</td>\n",
              "      <td>-0.064994</td>\n",
              "      <td>0.024153</td>\n",
              "      <td>0.082765</td>\n",
              "      <td>...</td>\n",
              "      <td>0.037803</td>\n",
              "      <td>0.241121</td>\n",
              "      <td>0.079949</td>\n",
              "      <td>-0.186099</td>\n",
              "      <td>-0.096718</td>\n",
              "      <td>0.126006</td>\n",
              "      <td>-0.023069</td>\n",
              "      <td>0.190374</td>\n",
              "      <td>0.146516</td>\n",
              "      <td>0.038047</td>\n",
              "    </tr>\n",
              "    <tr>\n",
              "      <th>1</th>\n",
              "      <td>0.005934</td>\n",
              "      <td>0.138592</td>\n",
              "      <td>-0.007000</td>\n",
              "      <td>0.055925</td>\n",
              "      <td>-0.021927</td>\n",
              "      <td>-0.084788</td>\n",
              "      <td>0.013339</td>\n",
              "      <td>0.060811</td>\n",
              "      <td>-0.011344</td>\n",
              "      <td>0.039792</td>\n",
              "      <td>...</td>\n",
              "      <td>-0.098701</td>\n",
              "      <td>0.042921</td>\n",
              "      <td>0.018571</td>\n",
              "      <td>-0.114785</td>\n",
              "      <td>-0.105186</td>\n",
              "      <td>0.059050</td>\n",
              "      <td>0.021443</td>\n",
              "      <td>0.013027</td>\n",
              "      <td>0.046826</td>\n",
              "      <td>-0.026682</td>\n",
              "    </tr>\n",
              "    <tr>\n",
              "      <th>2</th>\n",
              "      <td>-0.067210</td>\n",
              "      <td>0.078710</td>\n",
              "      <td>-0.044344</td>\n",
              "      <td>0.101248</td>\n",
              "      <td>-0.074331</td>\n",
              "      <td>-0.088951</td>\n",
              "      <td>0.074616</td>\n",
              "      <td>0.007231</td>\n",
              "      <td>0.021091</td>\n",
              "      <td>0.080092</td>\n",
              "      <td>...</td>\n",
              "      <td>0.029569</td>\n",
              "      <td>0.053370</td>\n",
              "      <td>0.096232</td>\n",
              "      <td>-0.369018</td>\n",
              "      <td>-0.066708</td>\n",
              "      <td>-0.003730</td>\n",
              "      <td>-0.063339</td>\n",
              "      <td>-0.044497</td>\n",
              "      <td>-0.024363</td>\n",
              "      <td>-0.042594</td>\n",
              "    </tr>\n",
              "    <tr>\n",
              "      <th>3</th>\n",
              "      <td>-0.005678</td>\n",
              "      <td>0.060703</td>\n",
              "      <td>0.033954</td>\n",
              "      <td>0.068771</td>\n",
              "      <td>-0.039923</td>\n",
              "      <td>-0.186583</td>\n",
              "      <td>0.014921</td>\n",
              "      <td>0.020791</td>\n",
              "      <td>0.017441</td>\n",
              "      <td>0.016184</td>\n",
              "      <td>...</td>\n",
              "      <td>-0.095406</td>\n",
              "      <td>0.018405</td>\n",
              "      <td>-0.018047</td>\n",
              "      <td>-0.080393</td>\n",
              "      <td>-0.114030</td>\n",
              "      <td>0.048255</td>\n",
              "      <td>0.033839</td>\n",
              "      <td>0.035026</td>\n",
              "      <td>-0.047988</td>\n",
              "      <td>-0.038252</td>\n",
              "    </tr>\n",
              "    <tr>\n",
              "      <th>4</th>\n",
              "      <td>-0.076360</td>\n",
              "      <td>0.061095</td>\n",
              "      <td>-0.004938</td>\n",
              "      <td>0.066692</td>\n",
              "      <td>-0.040454</td>\n",
              "      <td>-0.005141</td>\n",
              "      <td>-0.003213</td>\n",
              "      <td>0.025721</td>\n",
              "      <td>0.083558</td>\n",
              "      <td>0.005890</td>\n",
              "      <td>...</td>\n",
              "      <td>-0.003129</td>\n",
              "      <td>0.045479</td>\n",
              "      <td>0.057146</td>\n",
              "      <td>-0.194466</td>\n",
              "      <td>0.000739</td>\n",
              "      <td>0.018702</td>\n",
              "      <td>0.013192</td>\n",
              "      <td>-0.038486</td>\n",
              "      <td>0.033358</td>\n",
              "      <td>-0.038452</td>\n",
              "    </tr>\n",
              "  </tbody>\n",
              "</table>\n",
              "<p>5 rows × 768 columns</p>\n",
              "</div>"
            ],
            "text/plain": [
              "   feature_1  feature_2  feature_3  feature_4  feature_5  feature_6  \\\n",
              "0   0.013112   0.130904   0.020284   0.063018  -0.034321  -0.073516   \n",
              "1   0.005934   0.138592  -0.007000   0.055925  -0.021927  -0.084788   \n",
              "2  -0.067210   0.078710  -0.044344   0.101248  -0.074331  -0.088951   \n",
              "3  -0.005678   0.060703   0.033954   0.068771  -0.039923  -0.186583   \n",
              "4  -0.076360   0.061095  -0.004938   0.066692  -0.040454  -0.005141   \n",
              "\n",
              "   feature_7  feature_8  feature_9  feature_10  ...  feature_759  feature_760  \\\n",
              "0  -0.030659  -0.064994   0.024153    0.082765  ...     0.037803     0.241121   \n",
              "1   0.013339   0.060811  -0.011344    0.039792  ...    -0.098701     0.042921   \n",
              "2   0.074616   0.007231   0.021091    0.080092  ...     0.029569     0.053370   \n",
              "3   0.014921   0.020791   0.017441    0.016184  ...    -0.095406     0.018405   \n",
              "4  -0.003213   0.025721   0.083558    0.005890  ...    -0.003129     0.045479   \n",
              "\n",
              "   feature_761  feature_762  feature_763  feature_764  feature_765  \\\n",
              "0     0.079949    -0.186099    -0.096718     0.126006    -0.023069   \n",
              "1     0.018571    -0.114785    -0.105186     0.059050     0.021443   \n",
              "2     0.096232    -0.369018    -0.066708    -0.003730    -0.063339   \n",
              "3    -0.018047    -0.080393    -0.114030     0.048255     0.033839   \n",
              "4     0.057146    -0.194466     0.000739     0.018702     0.013192   \n",
              "\n",
              "   feature_766  feature_767  feature_768  \n",
              "0     0.190374     0.146516     0.038047  \n",
              "1     0.013027     0.046826    -0.026682  \n",
              "2    -0.044497    -0.024363    -0.042594  \n",
              "3     0.035026    -0.047988    -0.038252  \n",
              "4    -0.038486     0.033358    -0.038452  \n",
              "\n",
              "[5 rows x 768 columns]"
            ]
          },
          "execution_count": 4,
          "metadata": {},
          "output_type": "execute_result"
        }
      ],
      "source": [
        "# drop ID column from the test dataset\n",
        "x_test = test_df.drop('ID', axis=1)\n",
        "\n",
        "x_test.head()"
      ]
    },
    {
      "cell_type": "code",
      "execution_count": 5,
      "metadata": {
        "id": "4xf-J1lmPIRn"
      },
      "outputs": [],
      "source": [
        "# dict to store train and valid dataset for each label\n",
        "x_train = {}\n",
        "y_train = {}\n",
        "x_valid = {}\n",
        "y_valid = {}\n",
        "\n",
        "# seperate the train and valid datasets into labels\n",
        "# remove the rows where label is NaN\n",
        "\n",
        "for label in LABELS:\n",
        "\n",
        "    train_df_temp = train_df[~np.isnan(train_df[label])]\n",
        "    valid_df_temp = valid_df[~np.isnan(valid_df[label])]\n",
        "\n",
        "    x_train[label] = train_df_temp.drop(LABELS, axis=1)\n",
        "    y_train[label] = train_df_temp[label]\n",
        "    x_valid[label] = valid_df_temp.drop(LABELS, axis=1)\n",
        "    y_valid[label] = valid_df_temp[label]"
      ]
    },
    {
      "cell_type": "code",
      "execution_count": 6,
      "metadata": {
        "colab": {
          "base_uri": "https://localhost:8080/",
          "height": 256
        },
        "id": "wLKxs_WvRljJ",
        "outputId": "e96748ee-8d75-4126-eb26-c784c7d1d231"
      },
      "outputs": [
        {
          "data": {
            "text/html": [
              "<div>\n",
              "<style scoped>\n",
              "    .dataframe tbody tr th:only-of-type {\n",
              "        vertical-align: middle;\n",
              "    }\n",
              "\n",
              "    .dataframe tbody tr th {\n",
              "        vertical-align: top;\n",
              "    }\n",
              "\n",
              "    .dataframe thead th {\n",
              "        text-align: right;\n",
              "    }\n",
              "</style>\n",
              "<table border=\"1\" class=\"dataframe\">\n",
              "  <thead>\n",
              "    <tr style=\"text-align: right;\">\n",
              "      <th></th>\n",
              "      <th>feature_1</th>\n",
              "      <th>feature_2</th>\n",
              "      <th>feature_3</th>\n",
              "      <th>feature_4</th>\n",
              "      <th>feature_5</th>\n",
              "      <th>feature_6</th>\n",
              "      <th>feature_7</th>\n",
              "      <th>feature_8</th>\n",
              "      <th>feature_9</th>\n",
              "      <th>feature_10</th>\n",
              "      <th>...</th>\n",
              "      <th>feature_759</th>\n",
              "      <th>feature_760</th>\n",
              "      <th>feature_761</th>\n",
              "      <th>feature_762</th>\n",
              "      <th>feature_763</th>\n",
              "      <th>feature_764</th>\n",
              "      <th>feature_765</th>\n",
              "      <th>feature_766</th>\n",
              "      <th>feature_767</th>\n",
              "      <th>feature_768</th>\n",
              "    </tr>\n",
              "  </thead>\n",
              "  <tbody>\n",
              "    <tr>\n",
              "      <th>480</th>\n",
              "      <td>-0.037427</td>\n",
              "      <td>0.068284</td>\n",
              "      <td>-0.100538</td>\n",
              "      <td>0.076783</td>\n",
              "      <td>-0.113147</td>\n",
              "      <td>-0.079453</td>\n",
              "      <td>0.106947</td>\n",
              "      <td>0.011906</td>\n",
              "      <td>-0.047519</td>\n",
              "      <td>0.022915</td>\n",
              "      <td>...</td>\n",
              "      <td>0.061858</td>\n",
              "      <td>0.086089</td>\n",
              "      <td>0.004285</td>\n",
              "      <td>-0.325560</td>\n",
              "      <td>-0.035784</td>\n",
              "      <td>0.033521</td>\n",
              "      <td>-0.025551</td>\n",
              "      <td>0.083790</td>\n",
              "      <td>-0.027678</td>\n",
              "      <td>-0.008546</td>\n",
              "    </tr>\n",
              "    <tr>\n",
              "      <th>481</th>\n",
              "      <td>0.024931</td>\n",
              "      <td>0.045966</td>\n",
              "      <td>0.016385</td>\n",
              "      <td>0.028214</td>\n",
              "      <td>-0.092396</td>\n",
              "      <td>-0.053490</td>\n",
              "      <td>-0.018101</td>\n",
              "      <td>0.053902</td>\n",
              "      <td>0.080196</td>\n",
              "      <td>0.010693</td>\n",
              "      <td>...</td>\n",
              "      <td>0.048435</td>\n",
              "      <td>0.127840</td>\n",
              "      <td>0.060487</td>\n",
              "      <td>-0.268356</td>\n",
              "      <td>-0.001359</td>\n",
              "      <td>0.019178</td>\n",
              "      <td>0.068597</td>\n",
              "      <td>0.066214</td>\n",
              "      <td>0.141953</td>\n",
              "      <td>0.075839</td>\n",
              "    </tr>\n",
              "    <tr>\n",
              "      <th>482</th>\n",
              "      <td>0.025077</td>\n",
              "      <td>0.082511</td>\n",
              "      <td>0.074441</td>\n",
              "      <td>0.124308</td>\n",
              "      <td>-0.037937</td>\n",
              "      <td>-0.089271</td>\n",
              "      <td>0.012489</td>\n",
              "      <td>-0.036005</td>\n",
              "      <td>-0.023984</td>\n",
              "      <td>-0.010576</td>\n",
              "      <td>...</td>\n",
              "      <td>-0.081554</td>\n",
              "      <td>0.121891</td>\n",
              "      <td>0.042131</td>\n",
              "      <td>-0.019572</td>\n",
              "      <td>-0.095350</td>\n",
              "      <td>0.087392</td>\n",
              "      <td>0.007523</td>\n",
              "      <td>0.030705</td>\n",
              "      <td>0.086901</td>\n",
              "      <td>0.031186</td>\n",
              "    </tr>\n",
              "    <tr>\n",
              "      <th>483</th>\n",
              "      <td>0.030733</td>\n",
              "      <td>0.060249</td>\n",
              "      <td>0.099119</td>\n",
              "      <td>0.087801</td>\n",
              "      <td>-0.035729</td>\n",
              "      <td>-0.152115</td>\n",
              "      <td>0.032606</td>\n",
              "      <td>0.024821</td>\n",
              "      <td>0.032655</td>\n",
              "      <td>0.053826</td>\n",
              "      <td>...</td>\n",
              "      <td>0.039644</td>\n",
              "      <td>0.094773</td>\n",
              "      <td>-0.043471</td>\n",
              "      <td>-0.177032</td>\n",
              "      <td>-0.091252</td>\n",
              "      <td>0.031182</td>\n",
              "      <td>-0.034731</td>\n",
              "      <td>0.004988</td>\n",
              "      <td>0.143666</td>\n",
              "      <td>-0.012354</td>\n",
              "    </tr>\n",
              "    <tr>\n",
              "      <th>484</th>\n",
              "      <td>0.012062</td>\n",
              "      <td>0.068691</td>\n",
              "      <td>0.051343</td>\n",
              "      <td>0.049753</td>\n",
              "      <td>0.006491</td>\n",
              "      <td>-0.107100</td>\n",
              "      <td>0.076212</td>\n",
              "      <td>0.004650</td>\n",
              "      <td>0.113739</td>\n",
              "      <td>0.004015</td>\n",
              "      <td>...</td>\n",
              "      <td>-0.028502</td>\n",
              "      <td>0.123084</td>\n",
              "      <td>0.046536</td>\n",
              "      <td>-0.053508</td>\n",
              "      <td>-0.025445</td>\n",
              "      <td>0.062129</td>\n",
              "      <td>-0.034741</td>\n",
              "      <td>0.042223</td>\n",
              "      <td>-0.024982</td>\n",
              "      <td>0.132500</td>\n",
              "    </tr>\n",
              "  </tbody>\n",
              "</table>\n",
              "<p>5 rows × 768 columns</p>\n",
              "</div>"
            ],
            "text/plain": [
              "     feature_1  feature_2  feature_3  feature_4  feature_5  feature_6  \\\n",
              "480  -0.037427   0.068284  -0.100538   0.076783  -0.113147  -0.079453   \n",
              "481   0.024931   0.045966   0.016385   0.028214  -0.092396  -0.053490   \n",
              "482   0.025077   0.082511   0.074441   0.124308  -0.037937  -0.089271   \n",
              "483   0.030733   0.060249   0.099119   0.087801  -0.035729  -0.152115   \n",
              "484   0.012062   0.068691   0.051343   0.049753   0.006491  -0.107100   \n",
              "\n",
              "     feature_7  feature_8  feature_9  feature_10  ...  feature_759  \\\n",
              "480   0.106947   0.011906  -0.047519    0.022915  ...     0.061858   \n",
              "481  -0.018101   0.053902   0.080196    0.010693  ...     0.048435   \n",
              "482   0.012489  -0.036005  -0.023984   -0.010576  ...    -0.081554   \n",
              "483   0.032606   0.024821   0.032655    0.053826  ...     0.039644   \n",
              "484   0.076212   0.004650   0.113739    0.004015  ...    -0.028502   \n",
              "\n",
              "     feature_760  feature_761  feature_762  feature_763  feature_764  \\\n",
              "480     0.086089     0.004285    -0.325560    -0.035784     0.033521   \n",
              "481     0.127840     0.060487    -0.268356    -0.001359     0.019178   \n",
              "482     0.121891     0.042131    -0.019572    -0.095350     0.087392   \n",
              "483     0.094773    -0.043471    -0.177032    -0.091252     0.031182   \n",
              "484     0.123084     0.046536    -0.053508    -0.025445     0.062129   \n",
              "\n",
              "     feature_765  feature_766  feature_767  feature_768  \n",
              "480    -0.025551     0.083790    -0.027678    -0.008546  \n",
              "481     0.068597     0.066214     0.141953     0.075839  \n",
              "482     0.007523     0.030705     0.086901     0.031186  \n",
              "483    -0.034731     0.004988     0.143666    -0.012354  \n",
              "484    -0.034741     0.042223    -0.024982     0.132500  \n",
              "\n",
              "[5 rows x 768 columns]"
            ]
          },
          "execution_count": 6,
          "metadata": {},
          "output_type": "execute_result"
        }
      ],
      "source": [
        "x_train['label_2'].head()"
      ]
    },
    {
      "cell_type": "markdown",
      "metadata": {
        "id": "q9F-q9lf2yGK"
      },
      "source": [
        "### Classifires"
      ]
    },
    {
      "cell_type": "code",
      "execution_count": 7,
      "metadata": {
        "id": "nbaLk6MO1K8L"
      },
      "outputs": [],
      "source": [
        "from sklearn.svm import SVC\n",
        "from sklearn.metrics import accuracy_score\n",
        "\n",
        "def svm_classifier(x_train, y_train, x_valid, y_valid):\n",
        "  model = SVC(kernel='linear')\n",
        "  model.fit(x_train, y_train)\n",
        "  y_predict = model.predict(x_valid)\n",
        "  accuracy = accuracy_score(y_valid, y_predict)\n",
        "  return accuracy\n",
        "\n",
        "def weighted_svm_classifier(x_train, y_train, x_valid, y_valid):\n",
        "  model = SVC(kernel='linear', class_weight='balanced')\n",
        "  model.fit(x_train, y_train)\n",
        "  y_predict = model.predict(x_valid)\n",
        "  accuracy = accuracy_score(y_valid, y_predict)\n",
        "  return accuracy\n",
        "\n"
      ]
    },
    {
      "cell_type": "code",
      "execution_count": 8,
      "metadata": {
        "id": "9IRNfkhz3VSf"
      },
      "outputs": [],
      "source": [
        "import xgboost as xgb\n",
        "\n",
        "def xgb_classifier(x_train, y_train, x_valid, y_valid):\n",
        "  model = xgb.XGBClassifier()\n",
        "  model.fit(x_train, y_train)\n",
        "  y_predict = model.predict(x_valid)\n",
        "  accuracy = accuracy_score(y_valid, y_predict)\n",
        "  return accuracy"
      ]
    },
    {
      "cell_type": "markdown",
      "metadata": {
        "id": "-LBz5GoTyumk"
      },
      "source": [
        "### Grid Search / Random Search"
      ]
    },
    {
      "cell_type": "code",
      "execution_count": 9,
      "metadata": {
        "id": "agXQQLdLy0rv"
      },
      "outputs": [],
      "source": [
        "from sklearn.model_selection import RandomizedSearchCV\n",
        "\n",
        "def random_grid_search(model, param_dist, cv, n_iter, x_train, y_train):\n",
        "\n",
        "  random_search = RandomizedSearchCV(\n",
        "      estimator=model,\n",
        "      param_distributions=param_dist,\n",
        "      scoring='accuracy',\n",
        "      cv=cv,\n",
        "      verbose=1,\n",
        "      n_jobs=-1,\n",
        "      n_iter=n_iter\n",
        "  )\n",
        "\n",
        "  random_search.fit(x_train, y_train)\n",
        "\n",
        "  return random_search\n"
      ]
    },
    {
      "cell_type": "code",
      "execution_count": 10,
      "metadata": {},
      "outputs": [],
      "source": [
        "from sklearn.model_selection import GridSearchCV\n",
        "\n",
        "def grid_search(model, param_dist, cv, x_train, y_train):\n",
        "\n",
        "  grid_search = GridSearchCV(\n",
        "      estimator=model,\n",
        "      param_grid=param_dist,\n",
        "      scoring='accuracy',\n",
        "      cv=cv,\n",
        "      verbose=1,\n",
        "      n_jobs=-1\n",
        "  )\n",
        "\n",
        "  grid_search.fit(x_train, y_train)\n",
        "\n",
        "  return grid_search\n"
      ]
    },
    {
      "cell_type": "markdown",
      "metadata": {},
      "source": [
        "### Cross Validation"
      ]
    },
    {
      "cell_type": "code",
      "execution_count": 11,
      "metadata": {},
      "outputs": [],
      "source": [
        "from sklearn.model_selection import cross_val_score\n",
        "\n",
        "def k_fold_cross_validation(model, k, x_train, y_train):\n",
        "\n",
        "    scores = cross_val_score(model, x_train, y_train, cv=k)\n",
        "    mean_score = np.mean(scores)\n",
        "    std_deviation = np.std(scores)\n",
        "    print(\"Cross-Validation Scores:\", scores)\n",
        "    print(\"Mean Score:\", mean_score)\n",
        "    print(\"Standard Deviation:\", std_deviation)"
      ]
    },
    {
      "cell_type": "markdown",
      "metadata": {
        "id": "NLmbK_vUP8EV"
      },
      "source": [
        "## Label 1"
      ]
    },
    {
      "cell_type": "code",
      "execution_count": 65,
      "metadata": {
        "colab": {
          "base_uri": "https://localhost:8080/",
          "height": 479
        },
        "id": "Yq9CpFLiSRjj",
        "outputId": "3dbb3d8a-ffe4-4aa1-874c-b9e698ac05ac"
      },
      "outputs": [
        {
          "data": {
            "text/plain": [
              "<AxesSubplot: xlabel='label_1', ylabel='count'>"
            ]
          },
          "execution_count": 65,
          "metadata": {},
          "output_type": "execute_result"
        },
        {
          "data": {
            "image/png": "[encoded data removed]",
            "text/plain": [
              "<Figure size 1800x600 with 1 Axes>"
            ]
          },
          "metadata": {},
          "output_type": "display_data"
        }
      ],
      "source": [
        "import matplotlib.pyplot as plt\n",
        "import seaborn as sn\n",
        "\n",
        "L1 = 'label_1'\n",
        "\n",
        "plt.figure(figsize=(18,6))\n",
        "sn.countplot(data=y_train, x=L1, color='blue')"
      ]
    },
    {
      "cell_type": "markdown",
      "metadata": {},
      "source": [
        "#### Initial Accuracy"
      ]
    },
    {
      "cell_type": "code",
      "execution_count": 67,
      "metadata": {
        "colab": {
          "base_uri": "https://localhost:8080/"
        },
        "id": "GOHeNnVdZ34U",
        "outputId": "0a68dfb6-7226-4824-ade4-6a95c112f87e"
      },
      "outputs": [
        {
          "name": "stdout",
          "output_type": "stream",
          "text": [
            "Accuracy = 0.9693333333333334\n"
          ]
        }
      ],
      "source": [
        "accuracy = svm_classifier(x_train[L1], y_train[L1], x_valid[L1], y_valid[L1])\n",
        "print(f\"Accuracy = {accuracy}\")\n",
        "# accuracy = xgb_classifier(x_train[L1], y_train[L1]-1, x_valid[L1], y_valid[L1]-1)\n",
        "# print(f\"Accuracy = {accuracy}\")"
      ]
    },
    {
      "cell_type": "markdown",
      "metadata": {
        "id": "k6JAQS1QXCpj"
      },
      "source": [
        "#### Correlation"
      ]
    },
    {
      "cell_type": "code",
      "execution_count": 11,
      "metadata": {
        "id": "aoLK40S_TMVV"
      },
      "outputs": [],
      "source": [
        "corr_matrix_l1 = x_train[L1].corr()"
      ]
    },
    {
      "cell_type": "code",
      "execution_count": 12,
      "metadata": {
        "colab": {
          "base_uri": "https://localhost:8080/",
          "height": 444
        },
        "id": "kYtJbnyTTv_e",
        "outputId": "13748243-6ff7-4a79-b47e-a8d82e47ac28"
      },
      "outputs": [
        {
          "data": {
            "text/html": [
              "\n",
              "  <div id=\"df-ca46b420-2a07-4348-9631-b4e6d9af244e\" class=\"colab-df-container\">\n",
              "    <div>\n",
              "<style scoped>\n",
              "    .dataframe tbody tr th:only-of-type {\n",
              "        vertical-align: middle;\n",
              "    }\n",
              "\n",
              "    .dataframe tbody tr th {\n",
              "        vertical-align: top;\n",
              "    }\n",
              "\n",
              "    .dataframe thead th {\n",
              "        text-align: right;\n",
              "    }\n",
              "</style>\n",
              "<table border=\"1\" class=\"dataframe\">\n",
              "  <thead>\n",
              "    <tr style=\"text-align: right;\">\n",
              "      <th></th>\n",
              "      <th>feature_1</th>\n",
              "      <th>feature_2</th>\n",
              "      <th>feature_3</th>\n",
              "      <th>feature_4</th>\n",
              "      <th>feature_5</th>\n",
              "      <th>feature_6</th>\n",
              "      <th>feature_7</th>\n",
              "      <th>feature_8</th>\n",
              "      <th>feature_9</th>\n",
              "      <th>feature_10</th>\n",
              "      <th>...</th>\n",
              "      <th>feature_759</th>\n",
              "      <th>feature_760</th>\n",
              "      <th>feature_761</th>\n",
              "      <th>feature_762</th>\n",
              "      <th>feature_763</th>\n",
              "      <th>feature_764</th>\n",
              "      <th>feature_765</th>\n",
              "      <th>feature_766</th>\n",
              "      <th>feature_767</th>\n",
              "      <th>feature_768</th>\n",
              "    </tr>\n",
              "  </thead>\n",
              "  <tbody>\n",
              "    <tr>\n",
              "      <th>feature_1</th>\n",
              "      <td>1.000000</td>\n",
              "      <td>0.065348</td>\n",
              "      <td>-0.039416</td>\n",
              "      <td>0.116528</td>\n",
              "      <td>0.108225</td>\n",
              "      <td>-0.163679</td>\n",
              "      <td>0.131004</td>\n",
              "      <td>-0.073198</td>\n",
              "      <td>-0.045476</td>\n",
              "      <td>-0.120560</td>\n",
              "      <td>...</td>\n",
              "      <td>-0.225724</td>\n",
              "      <td>0.290177</td>\n",
              "      <td>0.015310</td>\n",
              "      <td>0.144664</td>\n",
              "      <td>-0.110313</td>\n",
              "      <td>-0.040330</td>\n",
              "      <td>0.132620</td>\n",
              "      <td>0.032706</td>\n",
              "      <td>0.035296</td>\n",
              "      <td>-0.039317</td>\n",
              "    </tr>\n",
              "    <tr>\n",
              "      <th>feature_2</th>\n",
              "      <td>0.065348</td>\n",
              "      <td>1.000000</td>\n",
              "      <td>0.043611</td>\n",
              "      <td>0.068624</td>\n",
              "      <td>-0.278709</td>\n",
              "      <td>0.052155</td>\n",
              "      <td>-0.267946</td>\n",
              "      <td>-0.214403</td>\n",
              "      <td>-0.235840</td>\n",
              "      <td>-0.056829</td>\n",
              "      <td>...</td>\n",
              "      <td>-0.150852</td>\n",
              "      <td>-0.096604</td>\n",
              "      <td>0.287950</td>\n",
              "      <td>-0.099087</td>\n",
              "      <td>0.269144</td>\n",
              "      <td>0.005612</td>\n",
              "      <td>-0.068710</td>\n",
              "      <td>-0.204834</td>\n",
              "      <td>-0.350866</td>\n",
              "      <td>0.162593</td>\n",
              "    </tr>\n",
              "    <tr>\n",
              "      <th>feature_3</th>\n",
              "      <td>-0.039416</td>\n",
              "      <td>0.043611</td>\n",
              "      <td>1.000000</td>\n",
              "      <td>-0.185437</td>\n",
              "      <td>-0.313107</td>\n",
              "      <td>-0.103496</td>\n",
              "      <td>-0.214606</td>\n",
              "      <td>-0.185952</td>\n",
              "      <td>0.155197</td>\n",
              "      <td>0.011407</td>\n",
              "      <td>...</td>\n",
              "      <td>-0.248988</td>\n",
              "      <td>-0.162378</td>\n",
              "      <td>-0.024814</td>\n",
              "      <td>0.162806</td>\n",
              "      <td>0.231606</td>\n",
              "      <td>0.204807</td>\n",
              "      <td>0.133835</td>\n",
              "      <td>-0.063354</td>\n",
              "      <td>0.159975</td>\n",
              "      <td>0.217143</td>\n",
              "    </tr>\n",
              "    <tr>\n",
              "      <th>feature_4</th>\n",
              "      <td>0.116528</td>\n",
              "      <td>0.068624</td>\n",
              "      <td>-0.185437</td>\n",
              "      <td>1.000000</td>\n",
              "      <td>0.096349</td>\n",
              "      <td>-0.220416</td>\n",
              "      <td>0.194002</td>\n",
              "      <td>0.027816</td>\n",
              "      <td>-0.144393</td>\n",
              "      <td>-0.148927</td>\n",
              "      <td>...</td>\n",
              "      <td>0.135598</td>\n",
              "      <td>0.071113</td>\n",
              "      <td>-0.084978</td>\n",
              "      <td>-0.166751</td>\n",
              "      <td>-0.220446</td>\n",
              "      <td>0.103712</td>\n",
              "      <td>0.100221</td>\n",
              "      <td>0.006758</td>\n",
              "      <td>0.034292</td>\n",
              "      <td>-0.128138</td>\n",
              "    </tr>\n",
              "    <tr>\n",
              "      <th>feature_5</th>\n",
              "      <td>0.108225</td>\n",
              "      <td>-0.278709</td>\n",
              "      <td>-0.313107</td>\n",
              "      <td>0.096349</td>\n",
              "      <td>1.000000</td>\n",
              "      <td>0.021056</td>\n",
              "      <td>0.325761</td>\n",
              "      <td>-0.000900</td>\n",
              "      <td>0.038333</td>\n",
              "      <td>-0.116997</td>\n",
              "      <td>...</td>\n",
              "      <td>-0.020572</td>\n",
              "      <td>0.024932</td>\n",
              "      <td>-0.202849</td>\n",
              "      <td>0.031865</td>\n",
              "      <td>-0.371326</td>\n",
              "      <td>-0.087327</td>\n",
              "      <td>-0.063512</td>\n",
              "      <td>0.016875</td>\n",
              "      <td>-0.031415</td>\n",
              "      <td>-0.203071</td>\n",
              "    </tr>\n",
              "    <tr>\n",
              "      <th>...</th>\n",
              "      <td>...</td>\n",
              "      <td>...</td>\n",
              "      <td>...</td>\n",
              "      <td>...</td>\n",
              "      <td>...</td>\n",
              "      <td>...</td>\n",
              "      <td>...</td>\n",
              "      <td>...</td>\n",
              "      <td>...</td>\n",
              "      <td>...</td>\n",
              "      <td>...</td>\n",
              "      <td>...</td>\n",
              "      <td>...</td>\n",
              "      <td>...</td>\n",
              "      <td>...</td>\n",
              "      <td>...</td>\n",
              "      <td>...</td>\n",
              "      <td>...</td>\n",
              "      <td>...</td>\n",
              "      <td>...</td>\n",
              "      <td>...</td>\n",
              "    </tr>\n",
              "    <tr>\n",
              "      <th>feature_764</th>\n",
              "      <td>-0.040330</td>\n",
              "      <td>0.005612</td>\n",
              "      <td>0.204807</td>\n",
              "      <td>0.103712</td>\n",
              "      <td>-0.087327</td>\n",
              "      <td>-0.174192</td>\n",
              "      <td>0.122454</td>\n",
              "      <td>0.012446</td>\n",
              "      <td>0.199985</td>\n",
              "      <td>0.171440</td>\n",
              "      <td>...</td>\n",
              "      <td>0.075743</td>\n",
              "      <td>0.065512</td>\n",
              "      <td>-0.313912</td>\n",
              "      <td>-0.196618</td>\n",
              "      <td>-0.114188</td>\n",
              "      <td>1.000000</td>\n",
              "      <td>0.208730</td>\n",
              "      <td>0.181622</td>\n",
              "      <td>0.405485</td>\n",
              "      <td>-0.009266</td>\n",
              "    </tr>\n",
              "    <tr>\n",
              "      <th>feature_765</th>\n",
              "      <td>0.132620</td>\n",
              "      <td>-0.068710</td>\n",
              "      <td>0.133835</td>\n",
              "      <td>0.100221</td>\n",
              "      <td>-0.063512</td>\n",
              "      <td>-0.345465</td>\n",
              "      <td>-0.002038</td>\n",
              "      <td>0.005804</td>\n",
              "      <td>0.053829</td>\n",
              "      <td>-0.116723</td>\n",
              "      <td>...</td>\n",
              "      <td>-0.103060</td>\n",
              "      <td>0.180543</td>\n",
              "      <td>-0.010908</td>\n",
              "      <td>-0.076788</td>\n",
              "      <td>0.228983</td>\n",
              "      <td>0.208730</td>\n",
              "      <td>1.000000</td>\n",
              "      <td>-0.204636</td>\n",
              "      <td>0.278358</td>\n",
              "      <td>-0.172730</td>\n",
              "    </tr>\n",
              "    <tr>\n",
              "      <th>feature_766</th>\n",
              "      <td>0.032706</td>\n",
              "      <td>-0.204834</td>\n",
              "      <td>-0.063354</td>\n",
              "      <td>0.006758</td>\n",
              "      <td>0.016875</td>\n",
              "      <td>-0.233690</td>\n",
              "      <td>0.282928</td>\n",
              "      <td>-0.105139</td>\n",
              "      <td>0.097498</td>\n",
              "      <td>0.391228</td>\n",
              "      <td>...</td>\n",
              "      <td>0.096985</td>\n",
              "      <td>0.293527</td>\n",
              "      <td>-0.266795</td>\n",
              "      <td>0.168379</td>\n",
              "      <td>-0.486373</td>\n",
              "      <td>0.181622</td>\n",
              "      <td>-0.204636</td>\n",
              "      <td>1.000000</td>\n",
              "      <td>0.388446</td>\n",
              "      <td>-0.065182</td>\n",
              "    </tr>\n",
              "    <tr>\n",
              "      <th>feature_767</th>\n",
              "      <td>0.035296</td>\n",
              "      <td>-0.350866</td>\n",
              "      <td>0.159975</td>\n",
              "      <td>0.034292</td>\n",
              "      <td>-0.031415</td>\n",
              "      <td>-0.350340</td>\n",
              "      <td>0.185927</td>\n",
              "      <td>0.045446</td>\n",
              "      <td>0.113304</td>\n",
              "      <td>0.265687</td>\n",
              "      <td>...</td>\n",
              "      <td>0.115303</td>\n",
              "      <td>0.274362</td>\n",
              "      <td>-0.343106</td>\n",
              "      <td>0.081103</td>\n",
              "      <td>-0.327079</td>\n",
              "      <td>0.405485</td>\n",
              "      <td>0.278358</td>\n",
              "      <td>0.388446</td>\n",
              "      <td>1.000000</td>\n",
              "      <td>-0.132940</td>\n",
              "    </tr>\n",
              "    <tr>\n",
              "      <th>feature_768</th>\n",
              "      <td>-0.039317</td>\n",
              "      <td>0.162593</td>\n",
              "      <td>0.217143</td>\n",
              "      <td>-0.128138</td>\n",
              "      <td>-0.203071</td>\n",
              "      <td>0.242545</td>\n",
              "      <td>-0.390389</td>\n",
              "      <td>-0.033126</td>\n",
              "      <td>0.020400</td>\n",
              "      <td>-0.093904</td>\n",
              "      <td>...</td>\n",
              "      <td>-0.012714</td>\n",
              "      <td>-0.117084</td>\n",
              "      <td>0.191413</td>\n",
              "      <td>0.091538</td>\n",
              "      <td>0.299900</td>\n",
              "      <td>-0.009266</td>\n",
              "      <td>-0.172730</td>\n",
              "      <td>-0.065182</td>\n",
              "      <td>-0.132940</td>\n",
              "      <td>1.000000</td>\n",
              "    </tr>\n",
              "  </tbody>\n",
              "</table>\n",
              "<p>768 rows × 768 columns</p>\n",
              "</div>\n",
              "    <div class=\"colab-df-buttons\">\n",
              "\n",
              "  <div class=\"colab-df-container\">\n",
              "    <button class=\"colab-df-convert\" onclick=\"convertToInteractive('df-ca46b420-2a07-4348-9631-b4e6d9af244e')\"\n",
              "            title=\"Convert this dataframe to an interactive table.\"\n",
              "            style=\"display:none;\">\n",
              "\n",
              "  <svg xmlns=\"http://www.w3.org/2000/svg\" height=\"24px\" viewBox=\"0 -960 960 960\">\n",
              "    <path d=\"M120-120v-720h720v720H120Zm60-500h600v-160H180v160Zm220 220h160v-160H400v160Zm0 220h160v-160H400v160ZM180-400h160v-160H180v160Zm440 0h160v-160H620v160ZM180-180h160v-160H180v160Zm440 0h160v-160H620v160Z\"/>\n",
              "  </svg>\n",
              "    </button>\n",
              "\n",
              "  <style>\n",
              "    .colab-df-container {\n",
              "      display:flex;\n",
              "      gap: 12px;\n",
              "    }\n",
              "\n",
              "    .colab-df-convert {\n",
              "      background-color: #E8F0FE;\n",
              "      border: none;\n",
              "      border-radius: 50%;\n",
              "      cursor: pointer;\n",
              "      display: none;\n",
              "      fill: #1967D2;\n",
              "      height: 32px;\n",
              "      padding: 0 0 0 0;\n",
              "      width: 32px;\n",
              "    }\n",
              "\n",
              "    .colab-df-convert:hover {\n",
              "      background-color: #E2EBFA;\n",
              "      box-shadow: 0px 1px 2px rgba(60, 64, 67, 0.3), 0px 1px 3px 1px rgba(60, 64, 67, 0.15);\n",
              "      fill: #174EA6;\n",
              "    }\n",
              "\n",
              "    .colab-df-buttons div {\n",
              "      margin-bottom: 4px;\n",
              "    }\n",
              "\n",
              "    [theme=dark] .colab-df-convert {\n",
              "      background-color: #3B4455;\n",
              "      fill: #D2E3FC;\n",
              "    }\n",
              "\n",
              "    [theme=dark] .colab-df-convert:hover {\n",
              "      background-color: #434B5C;\n",
              "      box-shadow: 0px 1px 3px 1px rgba(0, 0, 0, 0.15);\n",
              "      filter: drop-shadow(0px 1px 2px rgba(0, 0, 0, 0.3));\n",
              "      fill: #FFFFFF;\n",
              "    }\n",
              "  </style>\n",
              "\n",
              "    <script>\n",
              "      const buttonEl =\n",
              "        document.querySelector('#df-ca46b420-2a07-4348-9631-b4e6d9af244e button.colab-df-convert');\n",
              "      buttonEl.style.display =\n",
              "        google.colab.kernel.accessAllowed ? 'block' : 'none';\n",
              "\n",
              "      async function convertToInteractive(key) {\n",
              "        const element = document.querySelector('#df-ca46b420-2a07-4348-9631-b4e6d9af244e');\n",
              "        const dataTable =\n",
              "          await google.colab.kernel.invokeFunction('convertToInteractive',\n",
              "                                                    [key], {});\n",
              "        if (!dataTable) return;\n",
              "\n",
              "        const docLinkHtml = 'Like what you see? Visit the ' +\n",
              "          '<a target=\"_blank\" href=https://colab.research.google.com/notebooks/data_table.ipynb>data table notebook</a>'\n",
              "          + ' to learn more about interactive tables.';\n",
              "        element.innerHTML = '';\n",
              "        dataTable['output_type'] = 'display_data';\n",
              "        await google.colab.output.renderOutput(dataTable, element);\n",
              "        const docLink = document.createElement('div');\n",
              "        docLink.innerHTML = docLinkHtml;\n",
              "        element.appendChild(docLink);\n",
              "      }\n",
              "    </script>\n",
              "  </div>\n",
              "\n",
              "\n",
              "<div id=\"df-abf0b056-bd94-4313-a042-232931212ad8\">\n",
              "  <button class=\"colab-df-quickchart\" onclick=\"quickchart('df-abf0b056-bd94-4313-a042-232931212ad8')\"\n",
              "            title=\"Suggest charts.\"\n",
              "            style=\"display:none;\">\n",
              "\n",
              "<svg xmlns=\"http://www.w3.org/2000/svg\" height=\"24px\"viewBox=\"0 0 24 24\"\n",
              "     width=\"24px\">\n",
              "    <g>\n",
              "        <path d=\"M19 3H5c-1.1 0-2 .9-2 2v14c0 1.1.9 2 2 2h14c1.1 0 2-.9 2-2V5c0-1.1-.9-2-2-2zM9 17H7v-7h2v7zm4 0h-2V7h2v10zm4 0h-2v-4h2v4z\"/>\n",
              "    </g>\n",
              "</svg>\n",
              "  </button>\n",
              "\n",
              "<style>\n",
              "  .colab-df-quickchart {\n",
              "      --bg-color: #E8F0FE;\n",
              "      --fill-color: #1967D2;\n",
              "      --hover-bg-color: #E2EBFA;\n",
              "      --hover-fill-color: #174EA6;\n",
              "      --disabled-fill-color: #AAA;\n",
              "      --disabled-bg-color: #DDD;\n",
              "  }\n",
              "\n",
              "  [theme=dark] .colab-df-quickchart {\n",
              "      --bg-color: #3B4455;\n",
              "      --fill-color: #D2E3FC;\n",
              "      --hover-bg-color: #434B5C;\n",
              "      --hover-fill-color: #FFFFFF;\n",
              "      --disabled-bg-color: #3B4455;\n",
              "      --disabled-fill-color: #666;\n",
              "  }\n",
              "\n",
              "  .colab-df-quickchart {\n",
              "    background-color: var(--bg-color);\n",
              "    border: none;\n",
              "    border-radius: 50%;\n",
              "    cursor: pointer;\n",
              "    display: none;\n",
              "    fill: var(--fill-color);\n",
              "    height: 32px;\n",
              "    padding: 0;\n",
              "    width: 32px;\n",
              "  }\n",
              "\n",
              "  .colab-df-quickchart:hover {\n",
              "    background-color: var(--hover-bg-color);\n",
              "    box-shadow: 0 1px 2px rgba(60, 64, 67, 0.3), 0 1px 3px 1px rgba(60, 64, 67, 0.15);\n",
              "    fill: var(--button-hover-fill-color);\n",
              "  }\n",
              "\n",
              "  .colab-df-quickchart-complete:disabled,\n",
              "  .colab-df-quickchart-complete:disabled:hover {\n",
              "    background-color: var(--disabled-bg-color);\n",
              "    fill: var(--disabled-fill-color);\n",
              "    box-shadow: none;\n",
              "  }\n",
              "\n",
              "  .colab-df-spinner {\n",
              "    border: 2px solid var(--fill-color);\n",
              "    border-color: transparent;\n",
              "    border-bottom-color: var(--fill-color);\n",
              "    animation:\n",
              "      spin 1s steps(1) infinite;\n",
              "  }\n",
              "\n",
              "  @keyframes spin {\n",
              "    0% {\n",
              "      border-color: transparent;\n",
              "      border-bottom-color: var(--fill-color);\n",
              "      border-left-color: var(--fill-color);\n",
              "    }\n",
              "    20% {\n",
              "      border-color: transparent;\n",
              "      border-left-color: var(--fill-color);\n",
              "      border-top-color: var(--fill-color);\n",
              "    }\n",
              "    30% {\n",
              "      border-color: transparent;\n",
              "      border-left-color: var(--fill-color);\n",
              "      border-top-color: var(--fill-color);\n",
              "      border-right-color: var(--fill-color);\n",
              "    }\n",
              "    40% {\n",
              "      border-color: transparent;\n",
              "      border-right-color: var(--fill-color);\n",
              "      border-top-color: var(--fill-color);\n",
              "    }\n",
              "    60% {\n",
              "      border-color: transparent;\n",
              "      border-right-color: var(--fill-color);\n",
              "    }\n",
              "    80% {\n",
              "      border-color: transparent;\n",
              "      border-right-color: var(--fill-color);\n",
              "      border-bottom-color: var(--fill-color);\n",
              "    }\n",
              "    90% {\n",
              "      border-color: transparent;\n",
              "      border-bottom-color: var(--fill-color);\n",
              "    }\n",
              "  }\n",
              "</style>\n",
              "\n",
              "  <script>\n",
              "    async function quickchart(key) {\n",
              "      const quickchartButtonEl =\n",
              "        document.querySelector('#' + key + ' button');\n",
              "      quickchartButtonEl.disabled = true;  // To prevent multiple clicks.\n",
              "      quickchartButtonEl.classList.add('colab-df-spinner');\n",
              "      try {\n",
              "        const charts = await google.colab.kernel.invokeFunction(\n",
              "            'suggestCharts', [key], {});\n",
              "      } catch (error) {\n",
              "        console.error('Error during call to suggestCharts:', error);\n",
              "      }\n",
              "      quickchartButtonEl.classList.remove('colab-df-spinner');\n",
              "      quickchartButtonEl.classList.add('colab-df-quickchart-complete');\n",
              "    }\n",
              "    (() => {\n",
              "      let quickchartButtonEl =\n",
              "        document.querySelector('#df-abf0b056-bd94-4313-a042-232931212ad8 button');\n",
              "      quickchartButtonEl.style.display =\n",
              "        google.colab.kernel.accessAllowed ? 'block' : 'none';\n",
              "    })();\n",
              "  </script>\n",
              "</div>\n",
              "    </div>\n",
              "  </div>\n"
            ],
            "text/plain": [
              "             feature_1  feature_2  feature_3  feature_4  feature_5  feature_6  \\\n",
              "feature_1     1.000000   0.065348  -0.039416   0.116528   0.108225  -0.163679   \n",
              "feature_2     0.065348   1.000000   0.043611   0.068624  -0.278709   0.052155   \n",
              "feature_3    -0.039416   0.043611   1.000000  -0.185437  -0.313107  -0.103496   \n",
              "feature_4     0.116528   0.068624  -0.185437   1.000000   0.096349  -0.220416   \n",
              "feature_5     0.108225  -0.278709  -0.313107   0.096349   1.000000   0.021056   \n",
              "...                ...        ...        ...        ...        ...        ...   \n",
              "feature_764  -0.040330   0.005612   0.204807   0.103712  -0.087327  -0.174192   \n",
              "feature_765   0.132620  -0.068710   0.133835   0.100221  -0.063512  -0.345465   \n",
              "feature_766   0.032706  -0.204834  -0.063354   0.006758   0.016875  -0.233690   \n",
              "feature_767   0.035296  -0.350866   0.159975   0.034292  -0.031415  -0.350340   \n",
              "feature_768  -0.039317   0.162593   0.217143  -0.128138  -0.203071   0.242545   \n",
              "\n",
              "             feature_7  feature_8  feature_9  feature_10  ...  feature_759  \\\n",
              "feature_1     0.131004  -0.073198  -0.045476   -0.120560  ...    -0.225724   \n",
              "feature_2    -0.267946  -0.214403  -0.235840   -0.056829  ...    -0.150852   \n",
              "feature_3    -0.214606  -0.185952   0.155197    0.011407  ...    -0.248988   \n",
              "feature_4     0.194002   0.027816  -0.144393   -0.148927  ...     0.135598   \n",
              "feature_5     0.325761  -0.000900   0.038333   -0.116997  ...    -0.020572   \n",
              "...                ...        ...        ...         ...  ...          ...   \n",
              "feature_764   0.122454   0.012446   0.199985    0.171440  ...     0.075743   \n",
              "feature_765  -0.002038   0.005804   0.053829   -0.116723  ...    -0.103060   \n",
              "feature_766   0.282928  -0.105139   0.097498    0.391228  ...     0.096985   \n",
              "feature_767   0.185927   0.045446   0.113304    0.265687  ...     0.115303   \n",
              "feature_768  -0.390389  -0.033126   0.020400   -0.093904  ...    -0.012714   \n",
              "\n",
              "             feature_760  feature_761  feature_762  feature_763  feature_764  \\\n",
              "feature_1       0.290177     0.015310     0.144664    -0.110313    -0.040330   \n",
              "feature_2      -0.096604     0.287950    -0.099087     0.269144     0.005612   \n",
              "feature_3      -0.162378    -0.024814     0.162806     0.231606     0.204807   \n",
              "feature_4       0.071113    -0.084978    -0.166751    -0.220446     0.103712   \n",
              "feature_5       0.024932    -0.202849     0.031865    -0.371326    -0.087327   \n",
              "...                  ...          ...          ...          ...          ...   \n",
              "feature_764     0.065512    -0.313912    -0.196618    -0.114188     1.000000   \n",
              "feature_765     0.180543    -0.010908    -0.076788     0.228983     0.208730   \n",
              "feature_766     0.293527    -0.266795     0.168379    -0.486373     0.181622   \n",
              "feature_767     0.274362    -0.343106     0.081103    -0.327079     0.405485   \n",
              "feature_768    -0.117084     0.191413     0.091538     0.299900    -0.009266   \n",
              "\n",
              "             feature_765  feature_766  feature_767  feature_768  \n",
              "feature_1       0.132620     0.032706     0.035296    -0.039317  \n",
              "feature_2      -0.068710    -0.204834    -0.350866     0.162593  \n",
              "feature_3       0.133835    -0.063354     0.159975     0.217143  \n",
              "feature_4       0.100221     0.006758     0.034292    -0.128138  \n",
              "feature_5      -0.063512     0.016875    -0.031415    -0.203071  \n",
              "...                  ...          ...          ...          ...  \n",
              "feature_764     0.208730     0.181622     0.405485    -0.009266  \n",
              "feature_765     1.000000    -0.204636     0.278358    -0.172730  \n",
              "feature_766    -0.204636     1.000000     0.388446    -0.065182  \n",
              "feature_767     0.278358     0.388446     1.000000    -0.132940  \n",
              "feature_768    -0.172730    -0.065182    -0.132940     1.000000  \n",
              "\n",
              "[768 rows x 768 columns]"
            ]
          },
          "execution_count": 12,
          "metadata": {},
          "output_type": "execute_result"
        }
      ],
      "source": [
        "corr_matrix_l1"
      ]
    },
    {
      "cell_type": "code",
      "execution_count": 13,
      "metadata": {
        "id": "CUISG7RyXf2u"
      },
      "outputs": [],
      "source": [
        "def get_corr_features(corr_matrix, threshold):\n",
        "\n",
        "  correlated_features = []\n",
        "\n",
        "  for i in range(len(corr_matrix.columns)):\n",
        "    for j in range(i+1, len(corr_matrix.columns)):\n",
        "      if (abs(corr_matrix.iloc[i, j]) > threshold):\n",
        "        col_name = corr_matrix.columns[j]\n",
        "        if col_name not in correlated_features:\n",
        "          correlated_features.append(col_name)\n",
        "\n",
        "  return correlated_features"
      ]
    },
    {
      "cell_type": "code",
      "execution_count": 15,
      "metadata": {
        "colab": {
          "base_uri": "https://localhost:8080/"
        },
        "id": "3D6Sbv9Ya39c",
        "outputId": "0649912e-2a7c-45ab-de9b-6e6adf24dd21"
      },
      "outputs": [
        {
          "name": "stdout",
          "output_type": "stream",
          "text": [
            "8\n"
          ]
        }
      ],
      "source": [
        "correlated_features_l1 = get_corr_features(corr_matrix_l1, 0.7)\n",
        "print(len(correlated_features_l1))"
      ]
    },
    {
      "cell_type": "markdown",
      "metadata": {
        "id": "cQE4ZYMeKqj1"
      },
      "source": [
        "#### PCA"
      ]
    },
    {
      "cell_type": "code",
      "execution_count": 68,
      "metadata": {
        "id": "l5k-Wm2DKulX"
      },
      "outputs": [],
      "source": [
        "from sklearn.preprocessing import StandardScaler\n",
        "\n",
        "x_test_l1 = x_test.copy()\n",
        "\n",
        "scaler = StandardScaler()\n",
        "x_train[L1] = pd.DataFrame(scaler.fit_transform(x_train[L1]), columns=FEATURES)\n",
        "x_valid[L1] = pd.DataFrame(scaler.transform(x_valid[L1]), columns=FEATURES)\n",
        "x_test_l1 = pd.DataFrame(scaler.transform(x_test_l1), columns=FEATURES)"
      ]
    },
    {
      "cell_type": "code",
      "execution_count": 69,
      "metadata": {
        "colab": {
          "base_uri": "https://localhost:8080/"
        },
        "id": "VN98_Gi5aU17",
        "outputId": "22fce5b6-c971-41f4-f57d-7e9374f9daea"
      },
      "outputs": [
        {
          "name": "stdout",
          "output_type": "stream",
          "text": [
            "Number of features: 350\n"
          ]
        }
      ],
      "source": [
        "from sklearn.decomposition import PCA\n",
        "\n",
        "threshold = 0.96\n",
        "\n",
        "pca = PCA(n_components=threshold, svd_solver='full')\n",
        "x_train_l1_pca = pd.DataFrame(pca.fit_transform(x_train[L1]))\n",
        "x_valid_l1_pca = pd.DataFrame(pca.transform(x_valid[L1]))\n",
        "x_test_l1_pca = pd.DataFrame(pca.transform(x_test_l1))\n",
        "\n",
        "explained_variance = pca.explained_variance_ratio_\n",
        "\n",
        "print(f\"Number of features: {len(explained_variance)}\")"
      ]
    },
    {
      "cell_type": "code",
      "execution_count": 70,
      "metadata": {
        "colab": {
          "base_uri": "https://localhost:8080/"
        },
        "id": "asP6QOkfacvy",
        "outputId": "aa4f73c8-1cea-4fab-ed50-c0379cc42b78"
      },
      "outputs": [
        {
          "name": "stdout",
          "output_type": "stream",
          "text": [
            "Accuracy = 0.9333333333333333\n"
          ]
        }
      ],
      "source": [
        "accuracy_1 = svm_classifier(x_train_l1_pca, y_train[L1], x_valid_l1_pca, y_valid[L1])\n",
        "print(f\"Accuracy = {accuracy_1}\")"
      ]
    },
    {
      "cell_type": "markdown",
      "metadata": {
        "id": "sgSvtyBUdDxc"
      },
      "source": [
        "#### Hyperparameter Tuning - Random Grid Search"
      ]
    },
    {
      "cell_type": "code",
      "execution_count": 75,
      "metadata": {
        "colab": {
          "base_uri": "https://localhost:8080/"
        },
        "id": "nYIAt9GtdHIT",
        "outputId": "dfbd9633-0fd4-468f-e455-06c921afb4e7"
      },
      "outputs": [
        {
          "name": "stdout",
          "output_type": "stream",
          "text": [
            "Fitting 2 folds for each of 5 candidates, totalling 10 fits\n",
            "{'kernel': 'rbf', 'gamma': 0.001, 'C': 1000.0}\n",
            "0.9417601683029453\n"
          ]
        }
      ],
      "source": [
        "param_dist = {\n",
        "    'C': np.logspace(-3, 3, 7),\n",
        "    'kernel': ['linear', 'rbf', 'poly'],\n",
        "    'gamma': np.logspace(-3, 3, 7)\n",
        "}\n",
        "cv = 2\n",
        "n_iter = 5\n",
        "svm = SVC()\n",
        "\n",
        "# random_search_l1 = grid_search(svm, param_dist, cv, x_train_l1_pca, y_train[L1])\n",
        "random_search_l1 = random_grid_search(svm, param_dist, cv, n_iter, x_train_l1_pca, y_train[L1])\n",
        "best_model_l1 = random_search_l1.best_estimator_\n",
        "best_accuracy_l1 = random_search_l1.best_score_\n",
        "best_param = random_search_l1.best_params_\n",
        "\n",
        "print(best_param)\n",
        "print(best_accuracy_l1)"
      ]
    },
    {
      "cell_type": "code",
      "execution_count": 76,
      "metadata": {},
      "outputs": [
        {
          "name": "stdout",
          "output_type": "stream",
          "text": [
            "Accuracy after: 0.9613333333333334\n"
          ]
        }
      ],
      "source": [
        "y_pred_l1 = best_model_l1.predict(x_valid_l1_pca)\n",
        "accuracy = accuracy_score(y_valid[L1], y_pred_l1)\n",
        "print(f\"Accuracy after: {accuracy}\")"
      ]
    },
    {
      "cell_type": "markdown",
      "metadata": {},
      "source": [
        "#### Cross Validation"
      ]
    },
    {
      "cell_type": "code",
      "execution_count": 126,
      "metadata": {},
      "outputs": [
        {
          "name": "stdout",
          "output_type": "stream",
          "text": [
            "Cross-Validation Scores: [0.95564516 0.95704769 0.95371669 0.95196353 0.95704769]\n",
            "Mean Score: 0.9550841514726507\n",
            "Standard Deviation: 0.001981608857074996\n"
          ]
        }
      ],
      "source": [
        "model = SVC(kernel= 'rbf', gamma= 0.001, C= 1000.0)\n",
        "\n",
        "k_fold_cross_validation(model, 5, x_train_l1_pca, y_train[L1])"
      ]
    },
    {
      "cell_type": "markdown",
      "metadata": {
        "id": "cRH_NdswedzL"
      },
      "source": [
        "## Label 2"
      ]
    },
    {
      "cell_type": "code",
      "execution_count": 12,
      "metadata": {
        "colab": {
          "base_uri": "https://localhost:8080/",
          "height": 481
        },
        "id": "YAMMp3VJedzV",
        "outputId": "72155a8e-b778-4a0d-b404-628d7587a0c5"
      },
      "outputs": [
        {
          "data": {
            "text/plain": [
              "<AxesSubplot: xlabel='label_2', ylabel='count'>"
            ]
          },
          "execution_count": 12,
          "metadata": {},
          "output_type": "execute_result"
        },
        {
          "data": {
            "image/png": "[encoded data removed]",
            "text/plain": [
              "<Figure size 1800x600 with 1 Axes>"
            ]
          },
          "metadata": {},
          "output_type": "display_data"
        }
      ],
      "source": [
        "import matplotlib.pyplot as plt\n",
        "import seaborn as sn\n",
        "\n",
        "L2 = 'label_2'\n",
        "\n",
        "plt.figure(figsize=(18,6))\n",
        "sn.countplot(data=y_train, x=L2, color='blue')"
      ]
    },
    {
      "cell_type": "markdown",
      "metadata": {},
      "source": [
        "#### Initial Accuracy"
      ]
    },
    {
      "cell_type": "code",
      "execution_count": 79,
      "metadata": {
        "id": "-eUyfsE-edzV"
      },
      "outputs": [
        {
          "name": "stdout",
          "output_type": "stream",
          "text": [
            "Accuracy = 0.8233695652173914\n"
          ]
        }
      ],
      "source": [
        "accuracy = weighted_svm_classifier(x_train[L2], y_train[L2], x_valid[L2], y_valid[L2])\n",
        "print(f\"Accuracy = {accuracy}\")"
      ]
    },
    {
      "cell_type": "markdown",
      "metadata": {
        "id": "_tmfnrgTedzV"
      },
      "source": [
        "#### Correlation"
      ]
    },
    {
      "cell_type": "code",
      "execution_count": 81,
      "metadata": {
        "id": "TvfltvkmedzW"
      },
      "outputs": [],
      "source": [
        "corr_matrix_l2 = x_train[L2].corr()"
      ]
    },
    {
      "cell_type": "code",
      "execution_count": 82,
      "metadata": {
        "colab": {
          "base_uri": "https://localhost:8080/",
          "height": 444
        },
        "id": "gsUZ9F4tedzW",
        "outputId": "13748243-6ff7-4a79-b47e-a8d82e47ac28"
      },
      "outputs": [
        {
          "data": {
            "text/html": [
              "<div>\n",
              "<style scoped>\n",
              "    .dataframe tbody tr th:only-of-type {\n",
              "        vertical-align: middle;\n",
              "    }\n",
              "\n",
              "    .dataframe tbody tr th {\n",
              "        vertical-align: top;\n",
              "    }\n",
              "\n",
              "    .dataframe thead th {\n",
              "        text-align: right;\n",
              "    }\n",
              "</style>\n",
              "<table border=\"1\" class=\"dataframe\">\n",
              "  <thead>\n",
              "    <tr style=\"text-align: right;\">\n",
              "      <th></th>\n",
              "      <th>feature_1</th>\n",
              "      <th>feature_2</th>\n",
              "      <th>feature_3</th>\n",
              "      <th>feature_4</th>\n",
              "      <th>feature_5</th>\n",
              "      <th>feature_6</th>\n",
              "      <th>feature_7</th>\n",
              "      <th>feature_8</th>\n",
              "      <th>feature_9</th>\n",
              "      <th>feature_10</th>\n",
              "      <th>...</th>\n",
              "      <th>feature_759</th>\n",
              "      <th>feature_760</th>\n",
              "      <th>feature_761</th>\n",
              "      <th>feature_762</th>\n",
              "      <th>feature_763</th>\n",
              "      <th>feature_764</th>\n",
              "      <th>feature_765</th>\n",
              "      <th>feature_766</th>\n",
              "      <th>feature_767</th>\n",
              "      <th>feature_768</th>\n",
              "    </tr>\n",
              "  </thead>\n",
              "  <tbody>\n",
              "    <tr>\n",
              "      <th>feature_1</th>\n",
              "      <td>1.000000</td>\n",
              "      <td>0.056876</td>\n",
              "      <td>-0.039498</td>\n",
              "      <td>0.118076</td>\n",
              "      <td>0.112851</td>\n",
              "      <td>-0.166600</td>\n",
              "      <td>0.137696</td>\n",
              "      <td>-0.072975</td>\n",
              "      <td>-0.043850</td>\n",
              "      <td>-0.113356</td>\n",
              "      <td>...</td>\n",
              "      <td>-0.225903</td>\n",
              "      <td>0.293434</td>\n",
              "      <td>0.009847</td>\n",
              "      <td>0.145848</td>\n",
              "      <td>-0.115566</td>\n",
              "      <td>-0.034812</td>\n",
              "      <td>0.134990</td>\n",
              "      <td>0.038377</td>\n",
              "      <td>0.038189</td>\n",
              "      <td>-0.047894</td>\n",
              "    </tr>\n",
              "    <tr>\n",
              "      <th>feature_2</th>\n",
              "      <td>0.056876</td>\n",
              "      <td>1.000000</td>\n",
              "      <td>0.047595</td>\n",
              "      <td>0.063880</td>\n",
              "      <td>-0.275346</td>\n",
              "      <td>0.051292</td>\n",
              "      <td>-0.265063</td>\n",
              "      <td>-0.212084</td>\n",
              "      <td>-0.233523</td>\n",
              "      <td>-0.044382</td>\n",
              "      <td>...</td>\n",
              "      <td>-0.151111</td>\n",
              "      <td>-0.094786</td>\n",
              "      <td>0.281682</td>\n",
              "      <td>-0.099535</td>\n",
              "      <td>0.265121</td>\n",
              "      <td>0.015314</td>\n",
              "      <td>-0.066985</td>\n",
              "      <td>-0.197673</td>\n",
              "      <td>-0.344760</td>\n",
              "      <td>0.158917</td>\n",
              "    </tr>\n",
              "    <tr>\n",
              "      <th>feature_3</th>\n",
              "      <td>-0.039498</td>\n",
              "      <td>0.047595</td>\n",
              "      <td>1.000000</td>\n",
              "      <td>-0.180691</td>\n",
              "      <td>-0.317822</td>\n",
              "      <td>-0.105887</td>\n",
              "      <td>-0.218088</td>\n",
              "      <td>-0.187760</td>\n",
              "      <td>0.148033</td>\n",
              "      <td>0.008087</td>\n",
              "      <td>...</td>\n",
              "      <td>-0.249580</td>\n",
              "      <td>-0.162531</td>\n",
              "      <td>-0.022784</td>\n",
              "      <td>0.165992</td>\n",
              "      <td>0.233145</td>\n",
              "      <td>0.205415</td>\n",
              "      <td>0.134334</td>\n",
              "      <td>-0.068711</td>\n",
              "      <td>0.158498</td>\n",
              "      <td>0.214362</td>\n",
              "    </tr>\n",
              "    <tr>\n",
              "      <th>feature_4</th>\n",
              "      <td>0.118076</td>\n",
              "      <td>0.063880</td>\n",
              "      <td>-0.180691</td>\n",
              "      <td>1.000000</td>\n",
              "      <td>0.100580</td>\n",
              "      <td>-0.220944</td>\n",
              "      <td>0.196603</td>\n",
              "      <td>0.031122</td>\n",
              "      <td>-0.141089</td>\n",
              "      <td>-0.146779</td>\n",
              "      <td>...</td>\n",
              "      <td>0.135778</td>\n",
              "      <td>0.075056</td>\n",
              "      <td>-0.089173</td>\n",
              "      <td>-0.170199</td>\n",
              "      <td>-0.221257</td>\n",
              "      <td>0.106697</td>\n",
              "      <td>0.103314</td>\n",
              "      <td>0.013078</td>\n",
              "      <td>0.040056</td>\n",
              "      <td>-0.126484</td>\n",
              "    </tr>\n",
              "    <tr>\n",
              "      <th>feature_5</th>\n",
              "      <td>0.112851</td>\n",
              "      <td>-0.275346</td>\n",
              "      <td>-0.317822</td>\n",
              "      <td>0.100580</td>\n",
              "      <td>1.000000</td>\n",
              "      <td>0.024638</td>\n",
              "      <td>0.323135</td>\n",
              "      <td>-0.001072</td>\n",
              "      <td>0.033806</td>\n",
              "      <td>-0.122683</td>\n",
              "      <td>...</td>\n",
              "      <td>-0.017675</td>\n",
              "      <td>0.020871</td>\n",
              "      <td>-0.198018</td>\n",
              "      <td>0.029311</td>\n",
              "      <td>-0.369320</td>\n",
              "      <td>-0.092976</td>\n",
              "      <td>-0.067953</td>\n",
              "      <td>0.012496</td>\n",
              "      <td>-0.039707</td>\n",
              "      <td>-0.199933</td>\n",
              "    </tr>\n",
              "    <tr>\n",
              "      <th>...</th>\n",
              "      <td>...</td>\n",
              "      <td>...</td>\n",
              "      <td>...</td>\n",
              "      <td>...</td>\n",
              "      <td>...</td>\n",
              "      <td>...</td>\n",
              "      <td>...</td>\n",
              "      <td>...</td>\n",
              "      <td>...</td>\n",
              "      <td>...</td>\n",
              "      <td>...</td>\n",
              "      <td>...</td>\n",
              "      <td>...</td>\n",
              "      <td>...</td>\n",
              "      <td>...</td>\n",
              "      <td>...</td>\n",
              "      <td>...</td>\n",
              "      <td>...</td>\n",
              "      <td>...</td>\n",
              "      <td>...</td>\n",
              "      <td>...</td>\n",
              "    </tr>\n",
              "    <tr>\n",
              "      <th>feature_764</th>\n",
              "      <td>-0.034812</td>\n",
              "      <td>0.015314</td>\n",
              "      <td>0.205415</td>\n",
              "      <td>0.106697</td>\n",
              "      <td>-0.092976</td>\n",
              "      <td>-0.172826</td>\n",
              "      <td>0.116927</td>\n",
              "      <td>0.012693</td>\n",
              "      <td>0.201621</td>\n",
              "      <td>0.168050</td>\n",
              "      <td>...</td>\n",
              "      <td>0.069499</td>\n",
              "      <td>0.071036</td>\n",
              "      <td>-0.309803</td>\n",
              "      <td>-0.196119</td>\n",
              "      <td>-0.108149</td>\n",
              "      <td>1.000000</td>\n",
              "      <td>0.207256</td>\n",
              "      <td>0.176582</td>\n",
              "      <td>0.402581</td>\n",
              "      <td>-0.006868</td>\n",
              "    </tr>\n",
              "    <tr>\n",
              "      <th>feature_765</th>\n",
              "      <td>0.134990</td>\n",
              "      <td>-0.066985</td>\n",
              "      <td>0.134334</td>\n",
              "      <td>0.103314</td>\n",
              "      <td>-0.067953</td>\n",
              "      <td>-0.344325</td>\n",
              "      <td>-0.006739</td>\n",
              "      <td>0.005132</td>\n",
              "      <td>0.054664</td>\n",
              "      <td>-0.120180</td>\n",
              "      <td>...</td>\n",
              "      <td>-0.105545</td>\n",
              "      <td>0.182059</td>\n",
              "      <td>-0.009149</td>\n",
              "      <td>-0.075866</td>\n",
              "      <td>0.231146</td>\n",
              "      <td>0.207256</td>\n",
              "      <td>1.000000</td>\n",
              "      <td>-0.207324</td>\n",
              "      <td>0.276912</td>\n",
              "      <td>-0.173424</td>\n",
              "    </tr>\n",
              "    <tr>\n",
              "      <th>feature_766</th>\n",
              "      <td>0.038377</td>\n",
              "      <td>-0.197673</td>\n",
              "      <td>-0.068711</td>\n",
              "      <td>0.013078</td>\n",
              "      <td>0.012496</td>\n",
              "      <td>-0.237159</td>\n",
              "      <td>0.279386</td>\n",
              "      <td>-0.107323</td>\n",
              "      <td>0.094012</td>\n",
              "      <td>0.386221</td>\n",
              "      <td>...</td>\n",
              "      <td>0.101085</td>\n",
              "      <td>0.295610</td>\n",
              "      <td>-0.266255</td>\n",
              "      <td>0.167763</td>\n",
              "      <td>-0.485058</td>\n",
              "      <td>0.176582</td>\n",
              "      <td>-0.207324</td>\n",
              "      <td>1.000000</td>\n",
              "      <td>0.385526</td>\n",
              "      <td>-0.064913</td>\n",
              "    </tr>\n",
              "    <tr>\n",
              "      <th>feature_767</th>\n",
              "      <td>0.038189</td>\n",
              "      <td>-0.344760</td>\n",
              "      <td>0.158498</td>\n",
              "      <td>0.040056</td>\n",
              "      <td>-0.039707</td>\n",
              "      <td>-0.347955</td>\n",
              "      <td>0.181550</td>\n",
              "      <td>0.041326</td>\n",
              "      <td>0.109208</td>\n",
              "      <td>0.260041</td>\n",
              "      <td>...</td>\n",
              "      <td>0.118570</td>\n",
              "      <td>0.277248</td>\n",
              "      <td>-0.337285</td>\n",
              "      <td>0.080803</td>\n",
              "      <td>-0.323770</td>\n",
              "      <td>0.402581</td>\n",
              "      <td>0.276912</td>\n",
              "      <td>0.385526</td>\n",
              "      <td>1.000000</td>\n",
              "      <td>-0.133094</td>\n",
              "    </tr>\n",
              "    <tr>\n",
              "      <th>feature_768</th>\n",
              "      <td>-0.047894</td>\n",
              "      <td>0.158917</td>\n",
              "      <td>0.214362</td>\n",
              "      <td>-0.126484</td>\n",
              "      <td>-0.199933</td>\n",
              "      <td>0.242825</td>\n",
              "      <td>-0.389481</td>\n",
              "      <td>-0.031580</td>\n",
              "      <td>0.022276</td>\n",
              "      <td>-0.086748</td>\n",
              "      <td>...</td>\n",
              "      <td>-0.012334</td>\n",
              "      <td>-0.116659</td>\n",
              "      <td>0.186684</td>\n",
              "      <td>0.089587</td>\n",
              "      <td>0.296990</td>\n",
              "      <td>-0.006868</td>\n",
              "      <td>-0.173424</td>\n",
              "      <td>-0.064913</td>\n",
              "      <td>-0.133094</td>\n",
              "      <td>1.000000</td>\n",
              "    </tr>\n",
              "  </tbody>\n",
              "</table>\n",
              "<p>768 rows × 768 columns</p>\n",
              "</div>"
            ],
            "text/plain": [
              "             feature_1  feature_2  feature_3  feature_4  feature_5  feature_6  \\\n",
              "feature_1     1.000000   0.056876  -0.039498   0.118076   0.112851  -0.166600   \n",
              "feature_2     0.056876   1.000000   0.047595   0.063880  -0.275346   0.051292   \n",
              "feature_3    -0.039498   0.047595   1.000000  -0.180691  -0.317822  -0.105887   \n",
              "feature_4     0.118076   0.063880  -0.180691   1.000000   0.100580  -0.220944   \n",
              "feature_5     0.112851  -0.275346  -0.317822   0.100580   1.000000   0.024638   \n",
              "...                ...        ...        ...        ...        ...        ...   \n",
              "feature_764  -0.034812   0.015314   0.205415   0.106697  -0.092976  -0.172826   \n",
              "feature_765   0.134990  -0.066985   0.134334   0.103314  -0.067953  -0.344325   \n",
              "feature_766   0.038377  -0.197673  -0.068711   0.013078   0.012496  -0.237159   \n",
              "feature_767   0.038189  -0.344760   0.158498   0.040056  -0.039707  -0.347955   \n",
              "feature_768  -0.047894   0.158917   0.214362  -0.126484  -0.199933   0.242825   \n",
              "\n",
              "             feature_7  feature_8  feature_9  feature_10  ...  feature_759  \\\n",
              "feature_1     0.137696  -0.072975  -0.043850   -0.113356  ...    -0.225903   \n",
              "feature_2    -0.265063  -0.212084  -0.233523   -0.044382  ...    -0.151111   \n",
              "feature_3    -0.218088  -0.187760   0.148033    0.008087  ...    -0.249580   \n",
              "feature_4     0.196603   0.031122  -0.141089   -0.146779  ...     0.135778   \n",
              "feature_5     0.323135  -0.001072   0.033806   -0.122683  ...    -0.017675   \n",
              "...                ...        ...        ...         ...  ...          ...   \n",
              "feature_764   0.116927   0.012693   0.201621    0.168050  ...     0.069499   \n",
              "feature_765  -0.006739   0.005132   0.054664   -0.120180  ...    -0.105545   \n",
              "feature_766   0.279386  -0.107323   0.094012    0.386221  ...     0.101085   \n",
              "feature_767   0.181550   0.041326   0.109208    0.260041  ...     0.118570   \n",
              "feature_768  -0.389481  -0.031580   0.022276   -0.086748  ...    -0.012334   \n",
              "\n",
              "             feature_760  feature_761  feature_762  feature_763  feature_764  \\\n",
              "feature_1       0.293434     0.009847     0.145848    -0.115566    -0.034812   \n",
              "feature_2      -0.094786     0.281682    -0.099535     0.265121     0.015314   \n",
              "feature_3      -0.162531    -0.022784     0.165992     0.233145     0.205415   \n",
              "feature_4       0.075056    -0.089173    -0.170199    -0.221257     0.106697   \n",
              "feature_5       0.020871    -0.198018     0.029311    -0.369320    -0.092976   \n",
              "...                  ...          ...          ...          ...          ...   \n",
              "feature_764     0.071036    -0.309803    -0.196119    -0.108149     1.000000   \n",
              "feature_765     0.182059    -0.009149    -0.075866     0.231146     0.207256   \n",
              "feature_766     0.295610    -0.266255     0.167763    -0.485058     0.176582   \n",
              "feature_767     0.277248    -0.337285     0.080803    -0.323770     0.402581   \n",
              "feature_768    -0.116659     0.186684     0.089587     0.296990    -0.006868   \n",
              "\n",
              "             feature_765  feature_766  feature_767  feature_768  \n",
              "feature_1       0.134990     0.038377     0.038189    -0.047894  \n",
              "feature_2      -0.066985    -0.197673    -0.344760     0.158917  \n",
              "feature_3       0.134334    -0.068711     0.158498     0.214362  \n",
              "feature_4       0.103314     0.013078     0.040056    -0.126484  \n",
              "feature_5      -0.067953     0.012496    -0.039707    -0.199933  \n",
              "...                  ...          ...          ...          ...  \n",
              "feature_764     0.207256     0.176582     0.402581    -0.006868  \n",
              "feature_765     1.000000    -0.207324     0.276912    -0.173424  \n",
              "feature_766    -0.207324     1.000000     0.385526    -0.064913  \n",
              "feature_767     0.276912     0.385526     1.000000    -0.133094  \n",
              "feature_768    -0.173424    -0.064913    -0.133094     1.000000  \n",
              "\n",
              "[768 rows x 768 columns]"
            ]
          },
          "execution_count": 82,
          "metadata": {},
          "output_type": "execute_result"
        }
      ],
      "source": [
        "corr_matrix_l2"
      ]
    },
    {
      "cell_type": "code",
      "execution_count": 83,
      "metadata": {
        "id": "titlexI-edzX"
      },
      "outputs": [],
      "source": [
        "def get_corr_features(corr_matrix, threshold):\n",
        "\n",
        "  correlated_features = []\n",
        "\n",
        "  for i in range(len(corr_matrix.columns)):\n",
        "    for j in range(i+1, len(corr_matrix.columns)):\n",
        "      if (abs(corr_matrix.iloc[i, j]) > threshold):\n",
        "        col_name = corr_matrix.columns[j]\n",
        "        if col_name not in correlated_features:\n",
        "          correlated_features.append(col_name)\n",
        "\n",
        "  return correlated_features"
      ]
    },
    {
      "cell_type": "code",
      "execution_count": 84,
      "metadata": {
        "colab": {
          "base_uri": "https://localhost:8080/"
        },
        "id": "ZN4S05bVedzX",
        "outputId": "0649912e-2a7c-45ab-de9b-6e6adf24dd21"
      },
      "outputs": [
        {
          "name": "stdout",
          "output_type": "stream",
          "text": [
            "8\n"
          ]
        }
      ],
      "source": [
        "correlated_features_l2 = get_corr_features(corr_matrix_l2, 0.7)\n",
        "print(len(correlated_features_l2))"
      ]
    },
    {
      "cell_type": "markdown",
      "metadata": {
        "id": "lJE6imtMedzX"
      },
      "source": [
        "#### PCA"
      ]
    },
    {
      "cell_type": "code",
      "execution_count": 13,
      "metadata": {
        "id": "MHQLyqEqedzX"
      },
      "outputs": [],
      "source": [
        "from sklearn.preprocessing import StandardScaler\n",
        "\n",
        "x_test_l2 = x_test.copy()\n",
        "\n",
        "scaler = StandardScaler()\n",
        "x_train[L2] = pd.DataFrame(scaler.fit_transform(x_train[L2]), columns=FEATURES)\n",
        "x_valid[L2] = pd.DataFrame(scaler.transform(x_valid[L2]), columns=FEATURES)\n",
        "x_test_l2 = pd.DataFrame(scaler.transform(x_test_l2), columns=FEATURES)"
      ]
    },
    {
      "cell_type": "code",
      "execution_count": 14,
      "metadata": {
        "id": "kQAGGKpZedzY"
      },
      "outputs": [
        {
          "name": "stdout",
          "output_type": "stream",
          "text": [
            "Number of features: 350\n"
          ]
        }
      ],
      "source": [
        "from sklearn.decomposition import PCA\n",
        "\n",
        "threshold = 0.96\n",
        "\n",
        "pca = PCA(n_components=threshold, svd_solver='full')\n",
        "x_train_l2_pca = pd.DataFrame(pca.fit_transform(x_train[L2]))\n",
        "x_valid_l2_pca = pd.DataFrame(pca.transform(x_valid[L2]))\n",
        "x_test_l2_pca = pd.DataFrame(pca.transform(x_test_l2))\n",
        "\n",
        "explained_variance = pca.explained_variance_ratio_\n",
        "\n",
        "print(f\"Number of features: {len(explained_variance)}\")"
      ]
    },
    {
      "cell_type": "code",
      "execution_count": 15,
      "metadata": {
        "id": "--0z6WiQedzY"
      },
      "outputs": [
        {
          "name": "stdout",
          "output_type": "stream",
          "text": [
            "Accuracy = 0.8057065217391305\n"
          ]
        }
      ],
      "source": [
        "accuracy_1 = weighted_svm_classifier(x_train_l2_pca, y_train[L2], x_valid_l2_pca, y_valid[L2])\n",
        "print(f\"Accuracy = {accuracy_1}\")"
      ]
    },
    {
      "cell_type": "markdown",
      "metadata": {
        "id": "iNo6SYfcedzY"
      },
      "source": [
        "#### Hyperparameter Tuning - Random Grid Search"
      ]
    },
    {
      "cell_type": "code",
      "execution_count": 90,
      "metadata": {
        "id": "OuPhMkVyedzY"
      },
      "outputs": [
        {
          "name": "stdout",
          "output_type": "stream",
          "text": [
            "Fitting 2 folds for each of 5 candidates, totalling 10 fits\n"
          ]
        },
        {
          "name": "stdout",
          "output_type": "stream",
          "text": [
            "{'kernel': 'poly', 'gamma': 100.0, 'class_weight': 'balanced', 'C': 100.0}\n",
            "0.2661198288159772\n"
          ]
        }
      ],
      "source": [
        "param_dist = {\n",
        "    'C': np.logspace(-3, 3, 7),\n",
        "    'kernel': ['linear', 'rbf', 'poly'],\n",
        "    'gamma': np.logspace(-3, 3, 7),\n",
        "    'class_weight': ['balanced']\n",
        "}\n",
        "cv = 2\n",
        "n_iter = 5\n",
        "svm = SVC()\n",
        "\n",
        "random_search_l2 = random_grid_search(svm, param_dist, cv, n_iter, x_train_l2_pca, y_train[L2])\n",
        "best_model_l2 = random_search_l2.best_estimator_\n",
        "best_accuracy_l2 = random_search_l2.best_score_\n",
        "best_param = random_search_l2.best_params_\n",
        "\n",
        "print(best_param)\n",
        "print(best_accuracy_l2)\n"
      ]
    },
    {
      "cell_type": "code",
      "execution_count": 91,
      "metadata": {},
      "outputs": [
        {
          "name": "stdout",
          "output_type": "stream",
          "text": [
            "Accuracy after: 0.9347826086956522\n"
          ]
        }
      ],
      "source": [
        "y_pred_l2 = best_model_l2.predict(x_valid_l2_pca)\n",
        "accuracy = accuracy_score(y_valid[L2], y_pred_l2)\n",
        "print(f\"Accuracy after: {accuracy}\")"
      ]
    },
    {
      "cell_type": "markdown",
      "metadata": {},
      "source": [
        "#### Cross Validation"
      ]
    },
    {
      "cell_type": "code",
      "execution_count": 18,
      "metadata": {},
      "outputs": [
        {
          "name": "stdout",
          "output_type": "stream",
          "text": [
            "Cross-Validation Scores: [0.45827389 0.69561341 0.71968616 0.72628388 0.50499287]\n",
            "Mean Score: 0.6209700427960058\n",
            "Standard Deviation: 0.11517660418375814\n"
          ]
        }
      ],
      "source": [
        "model = SVC(kernel= 'poly', gamma= 100.0, class_weight= 'balanced', C= 100.0)\n",
        "\n",
        "k_fold_cross_validation(model, 5, x_train_l2_pca, y_train[L2])"
      ]
    },
    {
      "cell_type": "markdown",
      "metadata": {},
      "source": [
        "## Label 3"
      ]
    },
    {
      "cell_type": "code",
      "execution_count": 19,
      "metadata": {},
      "outputs": [
        {
          "data": {
            "text/plain": [
              "<AxesSubplot: xlabel='label_3', ylabel='count'>"
            ]
          },
          "execution_count": 19,
          "metadata": {},
          "output_type": "execute_result"
        },
        {
          "data": {
            "image/png": "[encoded data removed]",
            "text/plain": [
              "<Figure size 1800x600 with 1 Axes>"
            ]
          },
          "metadata": {},
          "output_type": "display_data"
        }
      ],
      "source": [
        "import matplotlib.pyplot as plt\n",
        "import seaborn as sn\n",
        "\n",
        "L3 = 'label_3'\n",
        "\n",
        "plt.figure(figsize=(18,6))\n",
        "sn.countplot(data=y_train, x=L3, color='blue')"
      ]
    },
    {
      "cell_type": "markdown",
      "metadata": {},
      "source": [
        "#### Initial Accuracy"
      ]
    },
    {
      "cell_type": "code",
      "execution_count": 93,
      "metadata": {},
      "outputs": [
        {
          "name": "stdout",
          "output_type": "stream",
          "text": [
            "Accuracy = 0.9933333333333333\n"
          ]
        }
      ],
      "source": [
        "accuracy = weighted_svm_classifier(x_train[L3], y_train[L3], x_valid[L3], y_valid[L3])\n",
        "print(f\"Accuracy = {accuracy}\")"
      ]
    },
    {
      "cell_type": "markdown",
      "metadata": {},
      "source": [
        "#### Correlation"
      ]
    },
    {
      "cell_type": "code",
      "execution_count": 94,
      "metadata": {},
      "outputs": [],
      "source": [
        "corr_matrix_l3 = x_train[L3].corr()"
      ]
    },
    {
      "cell_type": "code",
      "execution_count": 95,
      "metadata": {},
      "outputs": [
        {
          "data": {
            "text/html": [
              "<div>\n",
              "<style scoped>\n",
              "    .dataframe tbody tr th:only-of-type {\n",
              "        vertical-align: middle;\n",
              "    }\n",
              "\n",
              "    .dataframe tbody tr th {\n",
              "        vertical-align: top;\n",
              "    }\n",
              "\n",
              "    .dataframe thead th {\n",
              "        text-align: right;\n",
              "    }\n",
              "</style>\n",
              "<table border=\"1\" class=\"dataframe\">\n",
              "  <thead>\n",
              "    <tr style=\"text-align: right;\">\n",
              "      <th></th>\n",
              "      <th>feature_1</th>\n",
              "      <th>feature_2</th>\n",
              "      <th>feature_3</th>\n",
              "      <th>feature_4</th>\n",
              "      <th>feature_5</th>\n",
              "      <th>feature_6</th>\n",
              "      <th>feature_7</th>\n",
              "      <th>feature_8</th>\n",
              "      <th>feature_9</th>\n",
              "      <th>feature_10</th>\n",
              "      <th>...</th>\n",
              "      <th>feature_759</th>\n",
              "      <th>feature_760</th>\n",
              "      <th>feature_761</th>\n",
              "      <th>feature_762</th>\n",
              "      <th>feature_763</th>\n",
              "      <th>feature_764</th>\n",
              "      <th>feature_765</th>\n",
              "      <th>feature_766</th>\n",
              "      <th>feature_767</th>\n",
              "      <th>feature_768</th>\n",
              "    </tr>\n",
              "  </thead>\n",
              "  <tbody>\n",
              "    <tr>\n",
              "      <th>feature_1</th>\n",
              "      <td>1.000000</td>\n",
              "      <td>0.065348</td>\n",
              "      <td>-0.039416</td>\n",
              "      <td>0.116528</td>\n",
              "      <td>0.108225</td>\n",
              "      <td>-0.163679</td>\n",
              "      <td>0.131004</td>\n",
              "      <td>-0.073198</td>\n",
              "      <td>-0.045476</td>\n",
              "      <td>-0.120560</td>\n",
              "      <td>...</td>\n",
              "      <td>-0.225724</td>\n",
              "      <td>0.290177</td>\n",
              "      <td>0.015310</td>\n",
              "      <td>0.144664</td>\n",
              "      <td>-0.110313</td>\n",
              "      <td>-0.040330</td>\n",
              "      <td>0.132620</td>\n",
              "      <td>0.032706</td>\n",
              "      <td>0.035296</td>\n",
              "      <td>-0.039317</td>\n",
              "    </tr>\n",
              "    <tr>\n",
              "      <th>feature_2</th>\n",
              "      <td>0.065348</td>\n",
              "      <td>1.000000</td>\n",
              "      <td>0.043611</td>\n",
              "      <td>0.068624</td>\n",
              "      <td>-0.278709</td>\n",
              "      <td>0.052155</td>\n",
              "      <td>-0.267946</td>\n",
              "      <td>-0.214403</td>\n",
              "      <td>-0.235840</td>\n",
              "      <td>-0.056829</td>\n",
              "      <td>...</td>\n",
              "      <td>-0.150852</td>\n",
              "      <td>-0.096604</td>\n",
              "      <td>0.287950</td>\n",
              "      <td>-0.099087</td>\n",
              "      <td>0.269144</td>\n",
              "      <td>0.005612</td>\n",
              "      <td>-0.068710</td>\n",
              "      <td>-0.204834</td>\n",
              "      <td>-0.350866</td>\n",
              "      <td>0.162593</td>\n",
              "    </tr>\n",
              "    <tr>\n",
              "      <th>feature_3</th>\n",
              "      <td>-0.039416</td>\n",
              "      <td>0.043611</td>\n",
              "      <td>1.000000</td>\n",
              "      <td>-0.185437</td>\n",
              "      <td>-0.313107</td>\n",
              "      <td>-0.103496</td>\n",
              "      <td>-0.214606</td>\n",
              "      <td>-0.185952</td>\n",
              "      <td>0.155197</td>\n",
              "      <td>0.011407</td>\n",
              "      <td>...</td>\n",
              "      <td>-0.248988</td>\n",
              "      <td>-0.162378</td>\n",
              "      <td>-0.024814</td>\n",
              "      <td>0.162806</td>\n",
              "      <td>0.231606</td>\n",
              "      <td>0.204807</td>\n",
              "      <td>0.133835</td>\n",
              "      <td>-0.063354</td>\n",
              "      <td>0.159975</td>\n",
              "      <td>0.217143</td>\n",
              "    </tr>\n",
              "    <tr>\n",
              "      <th>feature_4</th>\n",
              "      <td>0.116528</td>\n",
              "      <td>0.068624</td>\n",
              "      <td>-0.185437</td>\n",
              "      <td>1.000000</td>\n",
              "      <td>0.096349</td>\n",
              "      <td>-0.220416</td>\n",
              "      <td>0.194002</td>\n",
              "      <td>0.027816</td>\n",
              "      <td>-0.144393</td>\n",
              "      <td>-0.148927</td>\n",
              "      <td>...</td>\n",
              "      <td>0.135598</td>\n",
              "      <td>0.071113</td>\n",
              "      <td>-0.084978</td>\n",
              "      <td>-0.166751</td>\n",
              "      <td>-0.220446</td>\n",
              "      <td>0.103712</td>\n",
              "      <td>0.100221</td>\n",
              "      <td>0.006758</td>\n",
              "      <td>0.034292</td>\n",
              "      <td>-0.128138</td>\n",
              "    </tr>\n",
              "    <tr>\n",
              "      <th>feature_5</th>\n",
              "      <td>0.108225</td>\n",
              "      <td>-0.278709</td>\n",
              "      <td>-0.313107</td>\n",
              "      <td>0.096349</td>\n",
              "      <td>1.000000</td>\n",
              "      <td>0.021056</td>\n",
              "      <td>0.325761</td>\n",
              "      <td>-0.000900</td>\n",
              "      <td>0.038333</td>\n",
              "      <td>-0.116997</td>\n",
              "      <td>...</td>\n",
              "      <td>-0.020572</td>\n",
              "      <td>0.024932</td>\n",
              "      <td>-0.202849</td>\n",
              "      <td>0.031865</td>\n",
              "      <td>-0.371326</td>\n",
              "      <td>-0.087327</td>\n",
              "      <td>-0.063512</td>\n",
              "      <td>0.016875</td>\n",
              "      <td>-0.031415</td>\n",
              "      <td>-0.203071</td>\n",
              "    </tr>\n",
              "    <tr>\n",
              "      <th>...</th>\n",
              "      <td>...</td>\n",
              "      <td>...</td>\n",
              "      <td>...</td>\n",
              "      <td>...</td>\n",
              "      <td>...</td>\n",
              "      <td>...</td>\n",
              "      <td>...</td>\n",
              "      <td>...</td>\n",
              "      <td>...</td>\n",
              "      <td>...</td>\n",
              "      <td>...</td>\n",
              "      <td>...</td>\n",
              "      <td>...</td>\n",
              "      <td>...</td>\n",
              "      <td>...</td>\n",
              "      <td>...</td>\n",
              "      <td>...</td>\n",
              "      <td>...</td>\n",
              "      <td>...</td>\n",
              "      <td>...</td>\n",
              "      <td>...</td>\n",
              "    </tr>\n",
              "    <tr>\n",
              "      <th>feature_764</th>\n",
              "      <td>-0.040330</td>\n",
              "      <td>0.005612</td>\n",
              "      <td>0.204807</td>\n",
              "      <td>0.103712</td>\n",
              "      <td>-0.087327</td>\n",
              "      <td>-0.174192</td>\n",
              "      <td>0.122454</td>\n",
              "      <td>0.012446</td>\n",
              "      <td>0.199985</td>\n",
              "      <td>0.171440</td>\n",
              "      <td>...</td>\n",
              "      <td>0.075743</td>\n",
              "      <td>0.065512</td>\n",
              "      <td>-0.313912</td>\n",
              "      <td>-0.196618</td>\n",
              "      <td>-0.114188</td>\n",
              "      <td>1.000000</td>\n",
              "      <td>0.208730</td>\n",
              "      <td>0.181622</td>\n",
              "      <td>0.405485</td>\n",
              "      <td>-0.009266</td>\n",
              "    </tr>\n",
              "    <tr>\n",
              "      <th>feature_765</th>\n",
              "      <td>0.132620</td>\n",
              "      <td>-0.068710</td>\n",
              "      <td>0.133835</td>\n",
              "      <td>0.100221</td>\n",
              "      <td>-0.063512</td>\n",
              "      <td>-0.345465</td>\n",
              "      <td>-0.002038</td>\n",
              "      <td>0.005804</td>\n",
              "      <td>0.053829</td>\n",
              "      <td>-0.116723</td>\n",
              "      <td>...</td>\n",
              "      <td>-0.103060</td>\n",
              "      <td>0.180543</td>\n",
              "      <td>-0.010908</td>\n",
              "      <td>-0.076788</td>\n",
              "      <td>0.228983</td>\n",
              "      <td>0.208730</td>\n",
              "      <td>1.000000</td>\n",
              "      <td>-0.204636</td>\n",
              "      <td>0.278358</td>\n",
              "      <td>-0.172730</td>\n",
              "    </tr>\n",
              "    <tr>\n",
              "      <th>feature_766</th>\n",
              "      <td>0.032706</td>\n",
              "      <td>-0.204834</td>\n",
              "      <td>-0.063354</td>\n",
              "      <td>0.006758</td>\n",
              "      <td>0.016875</td>\n",
              "      <td>-0.233690</td>\n",
              "      <td>0.282928</td>\n",
              "      <td>-0.105139</td>\n",
              "      <td>0.097498</td>\n",
              "      <td>0.391228</td>\n",
              "      <td>...</td>\n",
              "      <td>0.096985</td>\n",
              "      <td>0.293527</td>\n",
              "      <td>-0.266795</td>\n",
              "      <td>0.168379</td>\n",
              "      <td>-0.486373</td>\n",
              "      <td>0.181622</td>\n",
              "      <td>-0.204636</td>\n",
              "      <td>1.000000</td>\n",
              "      <td>0.388446</td>\n",
              "      <td>-0.065182</td>\n",
              "    </tr>\n",
              "    <tr>\n",
              "      <th>feature_767</th>\n",
              "      <td>0.035296</td>\n",
              "      <td>-0.350866</td>\n",
              "      <td>0.159975</td>\n",
              "      <td>0.034292</td>\n",
              "      <td>-0.031415</td>\n",
              "      <td>-0.350340</td>\n",
              "      <td>0.185927</td>\n",
              "      <td>0.045446</td>\n",
              "      <td>0.113304</td>\n",
              "      <td>0.265687</td>\n",
              "      <td>...</td>\n",
              "      <td>0.115303</td>\n",
              "      <td>0.274362</td>\n",
              "      <td>-0.343106</td>\n",
              "      <td>0.081103</td>\n",
              "      <td>-0.327079</td>\n",
              "      <td>0.405485</td>\n",
              "      <td>0.278358</td>\n",
              "      <td>0.388446</td>\n",
              "      <td>1.000000</td>\n",
              "      <td>-0.132940</td>\n",
              "    </tr>\n",
              "    <tr>\n",
              "      <th>feature_768</th>\n",
              "      <td>-0.039317</td>\n",
              "      <td>0.162593</td>\n",
              "      <td>0.217143</td>\n",
              "      <td>-0.128138</td>\n",
              "      <td>-0.203071</td>\n",
              "      <td>0.242545</td>\n",
              "      <td>-0.390389</td>\n",
              "      <td>-0.033126</td>\n",
              "      <td>0.020400</td>\n",
              "      <td>-0.093904</td>\n",
              "      <td>...</td>\n",
              "      <td>-0.012714</td>\n",
              "      <td>-0.117084</td>\n",
              "      <td>0.191413</td>\n",
              "      <td>0.091538</td>\n",
              "      <td>0.299900</td>\n",
              "      <td>-0.009266</td>\n",
              "      <td>-0.172730</td>\n",
              "      <td>-0.065182</td>\n",
              "      <td>-0.132940</td>\n",
              "      <td>1.000000</td>\n",
              "    </tr>\n",
              "  </tbody>\n",
              "</table>\n",
              "<p>768 rows × 768 columns</p>\n",
              "</div>"
            ],
            "text/plain": [
              "             feature_1  feature_2  feature_3  feature_4  feature_5  feature_6  \\\n",
              "feature_1     1.000000   0.065348  -0.039416   0.116528   0.108225  -0.163679   \n",
              "feature_2     0.065348   1.000000   0.043611   0.068624  -0.278709   0.052155   \n",
              "feature_3    -0.039416   0.043611   1.000000  -0.185437  -0.313107  -0.103496   \n",
              "feature_4     0.116528   0.068624  -0.185437   1.000000   0.096349  -0.220416   \n",
              "feature_5     0.108225  -0.278709  -0.313107   0.096349   1.000000   0.021056   \n",
              "...                ...        ...        ...        ...        ...        ...   \n",
              "feature_764  -0.040330   0.005612   0.204807   0.103712  -0.087327  -0.174192   \n",
              "feature_765   0.132620  -0.068710   0.133835   0.100221  -0.063512  -0.345465   \n",
              "feature_766   0.032706  -0.204834  -0.063354   0.006758   0.016875  -0.233690   \n",
              "feature_767   0.035296  -0.350866   0.159975   0.034292  -0.031415  -0.350340   \n",
              "feature_768  -0.039317   0.162593   0.217143  -0.128138  -0.203071   0.242545   \n",
              "\n",
              "             feature_7  feature_8  feature_9  feature_10  ...  feature_759  \\\n",
              "feature_1     0.131004  -0.073198  -0.045476   -0.120560  ...    -0.225724   \n",
              "feature_2    -0.267946  -0.214403  -0.235840   -0.056829  ...    -0.150852   \n",
              "feature_3    -0.214606  -0.185952   0.155197    0.011407  ...    -0.248988   \n",
              "feature_4     0.194002   0.027816  -0.144393   -0.148927  ...     0.135598   \n",
              "feature_5     0.325761  -0.000900   0.038333   -0.116997  ...    -0.020572   \n",
              "...                ...        ...        ...         ...  ...          ...   \n",
              "feature_764   0.122454   0.012446   0.199985    0.171440  ...     0.075743   \n",
              "feature_765  -0.002038   0.005804   0.053829   -0.116723  ...    -0.103060   \n",
              "feature_766   0.282928  -0.105139   0.097498    0.391228  ...     0.096985   \n",
              "feature_767   0.185927   0.045446   0.113304    0.265687  ...     0.115303   \n",
              "feature_768  -0.390389  -0.033126   0.020400   -0.093904  ...    -0.012714   \n",
              "\n",
              "             feature_760  feature_761  feature_762  feature_763  feature_764  \\\n",
              "feature_1       0.290177     0.015310     0.144664    -0.110313    -0.040330   \n",
              "feature_2      -0.096604     0.287950    -0.099087     0.269144     0.005612   \n",
              "feature_3      -0.162378    -0.024814     0.162806     0.231606     0.204807   \n",
              "feature_4       0.071113    -0.084978    -0.166751    -0.220446     0.103712   \n",
              "feature_5       0.024932    -0.202849     0.031865    -0.371326    -0.087327   \n",
              "...                  ...          ...          ...          ...          ...   \n",
              "feature_764     0.065512    -0.313912    -0.196618    -0.114188     1.000000   \n",
              "feature_765     0.180543    -0.010908    -0.076788     0.228983     0.208730   \n",
              "feature_766     0.293527    -0.266795     0.168379    -0.486373     0.181622   \n",
              "feature_767     0.274362    -0.343106     0.081103    -0.327079     0.405485   \n",
              "feature_768    -0.117084     0.191413     0.091538     0.299900    -0.009266   \n",
              "\n",
              "             feature_765  feature_766  feature_767  feature_768  \n",
              "feature_1       0.132620     0.032706     0.035296    -0.039317  \n",
              "feature_2      -0.068710    -0.204834    -0.350866     0.162593  \n",
              "feature_3       0.133835    -0.063354     0.159975     0.217143  \n",
              "feature_4       0.100221     0.006758     0.034292    -0.128138  \n",
              "feature_5      -0.063512     0.016875    -0.031415    -0.203071  \n",
              "...                  ...          ...          ...          ...  \n",
              "feature_764     0.208730     0.181622     0.405485    -0.009266  \n",
              "feature_765     1.000000    -0.204636     0.278358    -0.172730  \n",
              "feature_766    -0.204636     1.000000     0.388446    -0.065182  \n",
              "feature_767     0.278358     0.388446     1.000000    -0.132940  \n",
              "feature_768    -0.172730    -0.065182    -0.132940     1.000000  \n",
              "\n",
              "[768 rows x 768 columns]"
            ]
          },
          "execution_count": 95,
          "metadata": {},
          "output_type": "execute_result"
        }
      ],
      "source": [
        "corr_matrix_l3"
      ]
    },
    {
      "cell_type": "code",
      "execution_count": 96,
      "metadata": {},
      "outputs": [],
      "source": [
        "def get_corr_features(corr_matrix, threshold):\n",
        "\n",
        "  correlated_features = []\n",
        "\n",
        "  for i in range(len(corr_matrix.columns)):\n",
        "    for j in range(i+1, len(corr_matrix.columns)):\n",
        "      if (abs(corr_matrix.iloc[i, j]) > threshold):\n",
        "        col_name = corr_matrix.columns[j]\n",
        "        if col_name not in correlated_features:\n",
        "          correlated_features.append(col_name)\n",
        "\n",
        "  return correlated_features"
      ]
    },
    {
      "cell_type": "code",
      "execution_count": 97,
      "metadata": {},
      "outputs": [
        {
          "name": "stdout",
          "output_type": "stream",
          "text": [
            "8\n"
          ]
        }
      ],
      "source": [
        "correlated_features_l3 = get_corr_features(corr_matrix_l3, 0.7)\n",
        "print(len(correlated_features_l3))"
      ]
    },
    {
      "cell_type": "markdown",
      "metadata": {},
      "source": [
        "#### PCA"
      ]
    },
    {
      "cell_type": "code",
      "execution_count": 20,
      "metadata": {},
      "outputs": [],
      "source": [
        "from sklearn.preprocessing import StandardScaler\n",
        "\n",
        "x_test_l3 = x_test.copy()\n",
        "\n",
        "scaler = StandardScaler()\n",
        "x_train[L3] = pd.DataFrame(scaler.fit_transform(x_train[L3]), columns=FEATURES)\n",
        "x_valid[L3] = pd.DataFrame(scaler.transform(x_valid[L3]), columns=FEATURES)\n",
        "x_test_l3 = pd.DataFrame(scaler.transform(x_test_l3), columns=FEATURES)"
      ]
    },
    {
      "cell_type": "code",
      "execution_count": 21,
      "metadata": {},
      "outputs": [
        {
          "name": "stdout",
          "output_type": "stream",
          "text": [
            "Number of features: 350\n"
          ]
        }
      ],
      "source": [
        "from sklearn.decomposition import PCA\n",
        "\n",
        "threshold = 0.96\n",
        "\n",
        "pca = PCA(n_components=threshold, svd_solver='full')\n",
        "x_train_l3_pca = pd.DataFrame(pca.fit_transform(x_train[L3]))\n",
        "x_valid_l3_pca = pd.DataFrame(pca.transform(x_valid[L3]))\n",
        "x_test_l3_pca = pd.DataFrame(pca.transform(x_test_l3))\n",
        "\n",
        "explained_variance = pca.explained_variance_ratio_\n",
        "\n",
        "print(f\"Number of features: {len(explained_variance)}\")"
      ]
    },
    {
      "cell_type": "code",
      "execution_count": 22,
      "metadata": {},
      "outputs": [
        {
          "name": "stdout",
          "output_type": "stream",
          "text": [
            "Accuracy = 0.996\n"
          ]
        }
      ],
      "source": [
        "accuracy_1 = weighted_svm_classifier(x_train_l3_pca, y_train[L3], x_valid_l3_pca, y_valid[L3])\n",
        "print(f\"Accuracy = {accuracy_1}\")"
      ]
    },
    {
      "cell_type": "markdown",
      "metadata": {},
      "source": [
        "#### Hyperparameter Tuning - Random Grid Search"
      ]
    },
    {
      "cell_type": "code",
      "execution_count": 101,
      "metadata": {},
      "outputs": [
        {
          "name": "stdout",
          "output_type": "stream",
          "text": [
            "Fitting 2 folds for each of 5 candidates, totalling 10 fits\n",
            "{'kernel': 'poly', 'gamma': 100.0, 'class_weight': 'balanced', 'C': 0.01}\n",
            "0.9591164095371669\n"
          ]
        }
      ],
      "source": [
        "param_dist = {\n",
        "    'C': np.logspace(-3, 3, 7),\n",
        "    'kernel': ['linear', 'rbf', 'poly'],\n",
        "    'gamma': np.logspace(-3, 3, 7),\n",
        "    'class_weight': ['balanced']\n",
        "}\n",
        "cv = 2\n",
        "n_iter = 5\n",
        "svm = SVC()\n",
        "\n",
        "random_search_l3 = random_grid_search(svm, param_dist, cv, n_iter, x_train_l3_pca, y_train[L3])\n",
        "best_model_l3 = random_search_l3.best_estimator_\n",
        "best_accuracy_l3 = random_search_l3.best_score_\n",
        "best_param = random_search_l3.best_params_\n",
        "\n",
        "print(best_param)\n",
        "print(best_accuracy_l3)\n"
      ]
    },
    {
      "cell_type": "code",
      "execution_count": 102,
      "metadata": {},
      "outputs": [
        {
          "name": "stdout",
          "output_type": "stream",
          "text": [
            "Accuracy after: 0.9973333333333333\n"
          ]
        }
      ],
      "source": [
        "y_pred_l3 = best_model_l3.predict(x_valid_l3_pca)\n",
        "accuracy = accuracy_score(y_valid[L3], y_pred_l3)\n",
        "print(f\"Accuracy after: {accuracy}\")"
      ]
    },
    {
      "cell_type": "markdown",
      "metadata": {},
      "source": [
        "#### Cross Validation"
      ]
    },
    {
      "cell_type": "code",
      "execution_count": 23,
      "metadata": {},
      "outputs": [
        {
          "name": "stdout",
          "output_type": "stream",
          "text": [
            "Cross-Validation Scores: [0.97492987 0.99509116 0.98159187 0.98264376 0.98439691]\n",
            "Mean Score: 0.9837307152875174\n",
            "Standard Deviation: 0.0065224931323021994\n"
          ]
        }
      ],
      "source": [
        "model = SVC(kernel= 'poly', gamma= 100.0, class_weight= 'balanced', C= 0.01)\n",
        "\n",
        "k_fold_cross_validation(model, 5, x_train_l3_pca, y_train[L3])"
      ]
    },
    {
      "cell_type": "markdown",
      "metadata": {},
      "source": [
        "## Label 4"
      ]
    },
    {
      "cell_type": "code",
      "execution_count": 24,
      "metadata": {},
      "outputs": [
        {
          "data": {
            "text/plain": [
              "<AxesSubplot: xlabel='label_4', ylabel='count'>"
            ]
          },
          "execution_count": 24,
          "metadata": {},
          "output_type": "execute_result"
        },
        {
          "data": {
            "image/png": "[encoded data removed]",
            "text/plain": [
              "<Figure size 1800x600 with 1 Axes>"
            ]
          },
          "metadata": {},
          "output_type": "display_data"
        }
      ],
      "source": [
        "import matplotlib.pyplot as plt\n",
        "import seaborn as sn\n",
        "\n",
        "L4 = 'label_4'\n",
        "\n",
        "plt.figure(figsize=(18,6))\n",
        "sn.countplot(data=y_train, x=L4, color='blue')"
      ]
    },
    {
      "cell_type": "markdown",
      "metadata": {},
      "source": [
        "#### Initial Accuracy"
      ]
    },
    {
      "cell_type": "code",
      "execution_count": 104,
      "metadata": {},
      "outputs": [
        {
          "name": "stdout",
          "output_type": "stream",
          "text": [
            "Accuracy = 0.8866666666666667\n"
          ]
        }
      ],
      "source": [
        "accuracy = weighted_svm_classifier(x_train[L4], y_train[L4], x_valid[L4], y_valid[L4])\n",
        "print(f\"Accuracy = {accuracy}\")"
      ]
    },
    {
      "cell_type": "markdown",
      "metadata": {},
      "source": [
        "#### Correlation"
      ]
    },
    {
      "cell_type": "code",
      "execution_count": 105,
      "metadata": {},
      "outputs": [],
      "source": [
        "corr_matrix_l4 = x_train[L4].corr()"
      ]
    },
    {
      "cell_type": "code",
      "execution_count": 106,
      "metadata": {},
      "outputs": [
        {
          "data": {
            "text/html": [
              "<div>\n",
              "<style scoped>\n",
              "    .dataframe tbody tr th:only-of-type {\n",
              "        vertical-align: middle;\n",
              "    }\n",
              "\n",
              "    .dataframe tbody tr th {\n",
              "        vertical-align: top;\n",
              "    }\n",
              "\n",
              "    .dataframe thead th {\n",
              "        text-align: right;\n",
              "    }\n",
              "</style>\n",
              "<table border=\"1\" class=\"dataframe\">\n",
              "  <thead>\n",
              "    <tr style=\"text-align: right;\">\n",
              "      <th></th>\n",
              "      <th>feature_1</th>\n",
              "      <th>feature_2</th>\n",
              "      <th>feature_3</th>\n",
              "      <th>feature_4</th>\n",
              "      <th>feature_5</th>\n",
              "      <th>feature_6</th>\n",
              "      <th>feature_7</th>\n",
              "      <th>feature_8</th>\n",
              "      <th>feature_9</th>\n",
              "      <th>feature_10</th>\n",
              "      <th>...</th>\n",
              "      <th>feature_759</th>\n",
              "      <th>feature_760</th>\n",
              "      <th>feature_761</th>\n",
              "      <th>feature_762</th>\n",
              "      <th>feature_763</th>\n",
              "      <th>feature_764</th>\n",
              "      <th>feature_765</th>\n",
              "      <th>feature_766</th>\n",
              "      <th>feature_767</th>\n",
              "      <th>feature_768</th>\n",
              "    </tr>\n",
              "  </thead>\n",
              "  <tbody>\n",
              "    <tr>\n",
              "      <th>feature_1</th>\n",
              "      <td>1.000000</td>\n",
              "      <td>0.065348</td>\n",
              "      <td>-0.039416</td>\n",
              "      <td>0.116528</td>\n",
              "      <td>0.108225</td>\n",
              "      <td>-0.163679</td>\n",
              "      <td>0.131004</td>\n",
              "      <td>-0.073198</td>\n",
              "      <td>-0.045476</td>\n",
              "      <td>-0.120560</td>\n",
              "      <td>...</td>\n",
              "      <td>-0.225724</td>\n",
              "      <td>0.290177</td>\n",
              "      <td>0.015310</td>\n",
              "      <td>0.144664</td>\n",
              "      <td>-0.110313</td>\n",
              "      <td>-0.040330</td>\n",
              "      <td>0.132620</td>\n",
              "      <td>0.032706</td>\n",
              "      <td>0.035296</td>\n",
              "      <td>-0.039317</td>\n",
              "    </tr>\n",
              "    <tr>\n",
              "      <th>feature_2</th>\n",
              "      <td>0.065348</td>\n",
              "      <td>1.000000</td>\n",
              "      <td>0.043611</td>\n",
              "      <td>0.068624</td>\n",
              "      <td>-0.278709</td>\n",
              "      <td>0.052155</td>\n",
              "      <td>-0.267946</td>\n",
              "      <td>-0.214403</td>\n",
              "      <td>-0.235840</td>\n",
              "      <td>-0.056829</td>\n",
              "      <td>...</td>\n",
              "      <td>-0.150852</td>\n",
              "      <td>-0.096604</td>\n",
              "      <td>0.287950</td>\n",
              "      <td>-0.099087</td>\n",
              "      <td>0.269144</td>\n",
              "      <td>0.005612</td>\n",
              "      <td>-0.068710</td>\n",
              "      <td>-0.204834</td>\n",
              "      <td>-0.350866</td>\n",
              "      <td>0.162593</td>\n",
              "    </tr>\n",
              "    <tr>\n",
              "      <th>feature_3</th>\n",
              "      <td>-0.039416</td>\n",
              "      <td>0.043611</td>\n",
              "      <td>1.000000</td>\n",
              "      <td>-0.185437</td>\n",
              "      <td>-0.313107</td>\n",
              "      <td>-0.103496</td>\n",
              "      <td>-0.214606</td>\n",
              "      <td>-0.185952</td>\n",
              "      <td>0.155197</td>\n",
              "      <td>0.011407</td>\n",
              "      <td>...</td>\n",
              "      <td>-0.248988</td>\n",
              "      <td>-0.162378</td>\n",
              "      <td>-0.024814</td>\n",
              "      <td>0.162806</td>\n",
              "      <td>0.231606</td>\n",
              "      <td>0.204807</td>\n",
              "      <td>0.133835</td>\n",
              "      <td>-0.063354</td>\n",
              "      <td>0.159975</td>\n",
              "      <td>0.217143</td>\n",
              "    </tr>\n",
              "    <tr>\n",
              "      <th>feature_4</th>\n",
              "      <td>0.116528</td>\n",
              "      <td>0.068624</td>\n",
              "      <td>-0.185437</td>\n",
              "      <td>1.000000</td>\n",
              "      <td>0.096349</td>\n",
              "      <td>-0.220416</td>\n",
              "      <td>0.194002</td>\n",
              "      <td>0.027816</td>\n",
              "      <td>-0.144393</td>\n",
              "      <td>-0.148927</td>\n",
              "      <td>...</td>\n",
              "      <td>0.135598</td>\n",
              "      <td>0.071113</td>\n",
              "      <td>-0.084978</td>\n",
              "      <td>-0.166751</td>\n",
              "      <td>-0.220446</td>\n",
              "      <td>0.103712</td>\n",
              "      <td>0.100221</td>\n",
              "      <td>0.006758</td>\n",
              "      <td>0.034292</td>\n",
              "      <td>-0.128138</td>\n",
              "    </tr>\n",
              "    <tr>\n",
              "      <th>feature_5</th>\n",
              "      <td>0.108225</td>\n",
              "      <td>-0.278709</td>\n",
              "      <td>-0.313107</td>\n",
              "      <td>0.096349</td>\n",
              "      <td>1.000000</td>\n",
              "      <td>0.021056</td>\n",
              "      <td>0.325761</td>\n",
              "      <td>-0.000900</td>\n",
              "      <td>0.038333</td>\n",
              "      <td>-0.116997</td>\n",
              "      <td>...</td>\n",
              "      <td>-0.020572</td>\n",
              "      <td>0.024932</td>\n",
              "      <td>-0.202849</td>\n",
              "      <td>0.031865</td>\n",
              "      <td>-0.371326</td>\n",
              "      <td>-0.087327</td>\n",
              "      <td>-0.063512</td>\n",
              "      <td>0.016875</td>\n",
              "      <td>-0.031415</td>\n",
              "      <td>-0.203071</td>\n",
              "    </tr>\n",
              "    <tr>\n",
              "      <th>...</th>\n",
              "      <td>...</td>\n",
              "      <td>...</td>\n",
              "      <td>...</td>\n",
              "      <td>...</td>\n",
              "      <td>...</td>\n",
              "      <td>...</td>\n",
              "      <td>...</td>\n",
              "      <td>...</td>\n",
              "      <td>...</td>\n",
              "      <td>...</td>\n",
              "      <td>...</td>\n",
              "      <td>...</td>\n",
              "      <td>...</td>\n",
              "      <td>...</td>\n",
              "      <td>...</td>\n",
              "      <td>...</td>\n",
              "      <td>...</td>\n",
              "      <td>...</td>\n",
              "      <td>...</td>\n",
              "      <td>...</td>\n",
              "      <td>...</td>\n",
              "    </tr>\n",
              "    <tr>\n",
              "      <th>feature_764</th>\n",
              "      <td>-0.040330</td>\n",
              "      <td>0.005612</td>\n",
              "      <td>0.204807</td>\n",
              "      <td>0.103712</td>\n",
              "      <td>-0.087327</td>\n",
              "      <td>-0.174192</td>\n",
              "      <td>0.122454</td>\n",
              "      <td>0.012446</td>\n",
              "      <td>0.199985</td>\n",
              "      <td>0.171440</td>\n",
              "      <td>...</td>\n",
              "      <td>0.075743</td>\n",
              "      <td>0.065512</td>\n",
              "      <td>-0.313912</td>\n",
              "      <td>-0.196618</td>\n",
              "      <td>-0.114188</td>\n",
              "      <td>1.000000</td>\n",
              "      <td>0.208730</td>\n",
              "      <td>0.181622</td>\n",
              "      <td>0.405485</td>\n",
              "      <td>-0.009266</td>\n",
              "    </tr>\n",
              "    <tr>\n",
              "      <th>feature_765</th>\n",
              "      <td>0.132620</td>\n",
              "      <td>-0.068710</td>\n",
              "      <td>0.133835</td>\n",
              "      <td>0.100221</td>\n",
              "      <td>-0.063512</td>\n",
              "      <td>-0.345465</td>\n",
              "      <td>-0.002038</td>\n",
              "      <td>0.005804</td>\n",
              "      <td>0.053829</td>\n",
              "      <td>-0.116723</td>\n",
              "      <td>...</td>\n",
              "      <td>-0.103060</td>\n",
              "      <td>0.180543</td>\n",
              "      <td>-0.010908</td>\n",
              "      <td>-0.076788</td>\n",
              "      <td>0.228983</td>\n",
              "      <td>0.208730</td>\n",
              "      <td>1.000000</td>\n",
              "      <td>-0.204636</td>\n",
              "      <td>0.278358</td>\n",
              "      <td>-0.172730</td>\n",
              "    </tr>\n",
              "    <tr>\n",
              "      <th>feature_766</th>\n",
              "      <td>0.032706</td>\n",
              "      <td>-0.204834</td>\n",
              "      <td>-0.063354</td>\n",
              "      <td>0.006758</td>\n",
              "      <td>0.016875</td>\n",
              "      <td>-0.233690</td>\n",
              "      <td>0.282928</td>\n",
              "      <td>-0.105139</td>\n",
              "      <td>0.097498</td>\n",
              "      <td>0.391228</td>\n",
              "      <td>...</td>\n",
              "      <td>0.096985</td>\n",
              "      <td>0.293527</td>\n",
              "      <td>-0.266795</td>\n",
              "      <td>0.168379</td>\n",
              "      <td>-0.486373</td>\n",
              "      <td>0.181622</td>\n",
              "      <td>-0.204636</td>\n",
              "      <td>1.000000</td>\n",
              "      <td>0.388446</td>\n",
              "      <td>-0.065182</td>\n",
              "    </tr>\n",
              "    <tr>\n",
              "      <th>feature_767</th>\n",
              "      <td>0.035296</td>\n",
              "      <td>-0.350866</td>\n",
              "      <td>0.159975</td>\n",
              "      <td>0.034292</td>\n",
              "      <td>-0.031415</td>\n",
              "      <td>-0.350340</td>\n",
              "      <td>0.185927</td>\n",
              "      <td>0.045446</td>\n",
              "      <td>0.113304</td>\n",
              "      <td>0.265687</td>\n",
              "      <td>...</td>\n",
              "      <td>0.115303</td>\n",
              "      <td>0.274362</td>\n",
              "      <td>-0.343106</td>\n",
              "      <td>0.081103</td>\n",
              "      <td>-0.327079</td>\n",
              "      <td>0.405485</td>\n",
              "      <td>0.278358</td>\n",
              "      <td>0.388446</td>\n",
              "      <td>1.000000</td>\n",
              "      <td>-0.132940</td>\n",
              "    </tr>\n",
              "    <tr>\n",
              "      <th>feature_768</th>\n",
              "      <td>-0.039317</td>\n",
              "      <td>0.162593</td>\n",
              "      <td>0.217143</td>\n",
              "      <td>-0.128138</td>\n",
              "      <td>-0.203071</td>\n",
              "      <td>0.242545</td>\n",
              "      <td>-0.390389</td>\n",
              "      <td>-0.033126</td>\n",
              "      <td>0.020400</td>\n",
              "      <td>-0.093904</td>\n",
              "      <td>...</td>\n",
              "      <td>-0.012714</td>\n",
              "      <td>-0.117084</td>\n",
              "      <td>0.191413</td>\n",
              "      <td>0.091538</td>\n",
              "      <td>0.299900</td>\n",
              "      <td>-0.009266</td>\n",
              "      <td>-0.172730</td>\n",
              "      <td>-0.065182</td>\n",
              "      <td>-0.132940</td>\n",
              "      <td>1.000000</td>\n",
              "    </tr>\n",
              "  </tbody>\n",
              "</table>\n",
              "<p>768 rows × 768 columns</p>\n",
              "</div>"
            ],
            "text/plain": [
              "             feature_1  feature_2  feature_3  feature_4  feature_5  feature_6  \\\n",
              "feature_1     1.000000   0.065348  -0.039416   0.116528   0.108225  -0.163679   \n",
              "feature_2     0.065348   1.000000   0.043611   0.068624  -0.278709   0.052155   \n",
              "feature_3    -0.039416   0.043611   1.000000  -0.185437  -0.313107  -0.103496   \n",
              "feature_4     0.116528   0.068624  -0.185437   1.000000   0.096349  -0.220416   \n",
              "feature_5     0.108225  -0.278709  -0.313107   0.096349   1.000000   0.021056   \n",
              "...                ...        ...        ...        ...        ...        ...   \n",
              "feature_764  -0.040330   0.005612   0.204807   0.103712  -0.087327  -0.174192   \n",
              "feature_765   0.132620  -0.068710   0.133835   0.100221  -0.063512  -0.345465   \n",
              "feature_766   0.032706  -0.204834  -0.063354   0.006758   0.016875  -0.233690   \n",
              "feature_767   0.035296  -0.350866   0.159975   0.034292  -0.031415  -0.350340   \n",
              "feature_768  -0.039317   0.162593   0.217143  -0.128138  -0.203071   0.242545   \n",
              "\n",
              "             feature_7  feature_8  feature_9  feature_10  ...  feature_759  \\\n",
              "feature_1     0.131004  -0.073198  -0.045476   -0.120560  ...    -0.225724   \n",
              "feature_2    -0.267946  -0.214403  -0.235840   -0.056829  ...    -0.150852   \n",
              "feature_3    -0.214606  -0.185952   0.155197    0.011407  ...    -0.248988   \n",
              "feature_4     0.194002   0.027816  -0.144393   -0.148927  ...     0.135598   \n",
              "feature_5     0.325761  -0.000900   0.038333   -0.116997  ...    -0.020572   \n",
              "...                ...        ...        ...         ...  ...          ...   \n",
              "feature_764   0.122454   0.012446   0.199985    0.171440  ...     0.075743   \n",
              "feature_765  -0.002038   0.005804   0.053829   -0.116723  ...    -0.103060   \n",
              "feature_766   0.282928  -0.105139   0.097498    0.391228  ...     0.096985   \n",
              "feature_767   0.185927   0.045446   0.113304    0.265687  ...     0.115303   \n",
              "feature_768  -0.390389  -0.033126   0.020400   -0.093904  ...    -0.012714   \n",
              "\n",
              "             feature_760  feature_761  feature_762  feature_763  feature_764  \\\n",
              "feature_1       0.290177     0.015310     0.144664    -0.110313    -0.040330   \n",
              "feature_2      -0.096604     0.287950    -0.099087     0.269144     0.005612   \n",
              "feature_3      -0.162378    -0.024814     0.162806     0.231606     0.204807   \n",
              "feature_4       0.071113    -0.084978    -0.166751    -0.220446     0.103712   \n",
              "feature_5       0.024932    -0.202849     0.031865    -0.371326    -0.087327   \n",
              "...                  ...          ...          ...          ...          ...   \n",
              "feature_764     0.065512    -0.313912    -0.196618    -0.114188     1.000000   \n",
              "feature_765     0.180543    -0.010908    -0.076788     0.228983     0.208730   \n",
              "feature_766     0.293527    -0.266795     0.168379    -0.486373     0.181622   \n",
              "feature_767     0.274362    -0.343106     0.081103    -0.327079     0.405485   \n",
              "feature_768    -0.117084     0.191413     0.091538     0.299900    -0.009266   \n",
              "\n",
              "             feature_765  feature_766  feature_767  feature_768  \n",
              "feature_1       0.132620     0.032706     0.035296    -0.039317  \n",
              "feature_2      -0.068710    -0.204834    -0.350866     0.162593  \n",
              "feature_3       0.133835    -0.063354     0.159975     0.217143  \n",
              "feature_4       0.100221     0.006758     0.034292    -0.128138  \n",
              "feature_5      -0.063512     0.016875    -0.031415    -0.203071  \n",
              "...                  ...          ...          ...          ...  \n",
              "feature_764     0.208730     0.181622     0.405485    -0.009266  \n",
              "feature_765     1.000000    -0.204636     0.278358    -0.172730  \n",
              "feature_766    -0.204636     1.000000     0.388446    -0.065182  \n",
              "feature_767     0.278358     0.388446     1.000000    -0.132940  \n",
              "feature_768    -0.172730    -0.065182    -0.132940     1.000000  \n",
              "\n",
              "[768 rows x 768 columns]"
            ]
          },
          "execution_count": 106,
          "metadata": {},
          "output_type": "execute_result"
        }
      ],
      "source": [
        "corr_matrix_l4"
      ]
    },
    {
      "cell_type": "code",
      "execution_count": 107,
      "metadata": {},
      "outputs": [],
      "source": [
        "def get_corr_features(corr_matrix, threshold):\n",
        "\n",
        "  correlated_features = []\n",
        "\n",
        "  for i in range(len(corr_matrix.columns)):\n",
        "    for j in range(i+1, len(corr_matrix.columns)):\n",
        "      if (abs(corr_matrix.iloc[i, j]) > threshold):\n",
        "        col_name = corr_matrix.columns[j]\n",
        "        if col_name not in correlated_features:\n",
        "          correlated_features.append(col_name)\n",
        "\n",
        "  return correlated_features"
      ]
    },
    {
      "cell_type": "code",
      "execution_count": 108,
      "metadata": {},
      "outputs": [
        {
          "name": "stdout",
          "output_type": "stream",
          "text": [
            "8\n"
          ]
        }
      ],
      "source": [
        "correlated_features_l4 = get_corr_features(corr_matrix_l4, 0.7)\n",
        "print(len(correlated_features_l4))"
      ]
    },
    {
      "cell_type": "markdown",
      "metadata": {},
      "source": [
        "#### PCA"
      ]
    },
    {
      "cell_type": "code",
      "execution_count": 25,
      "metadata": {},
      "outputs": [],
      "source": [
        "from sklearn.preprocessing import StandardScaler\n",
        "\n",
        "x_test_l4 = x_test.copy()\n",
        "\n",
        "scaler = StandardScaler()\n",
        "x_train[L4] = pd.DataFrame(scaler.fit_transform(x_train[L4]), columns=FEATURES)\n",
        "x_valid[L4] = pd.DataFrame(scaler.transform(x_valid[L4]), columns=FEATURES)\n",
        "x_test_l4 = pd.DataFrame(scaler.transform(x_test_l4), columns=FEATURES)"
      ]
    },
    {
      "cell_type": "code",
      "execution_count": 26,
      "metadata": {},
      "outputs": [
        {
          "name": "stdout",
          "output_type": "stream",
          "text": [
            "Number of features: 350\n"
          ]
        }
      ],
      "source": [
        "from sklearn.decomposition import PCA\n",
        "\n",
        "threshold = 0.96\n",
        "\n",
        "pca = PCA(n_components=threshold, svd_solver='full')\n",
        "x_train_l4_pca = pd.DataFrame(pca.fit_transform(x_train[L4]))\n",
        "x_valid_l4_pca = pd.DataFrame(pca.transform(x_valid[L4]))\n",
        "x_test_l4_pca = pd.DataFrame(pca.transform(x_test_l4))\n",
        "\n",
        "explained_variance = pca.explained_variance_ratio_\n",
        "\n",
        "print(f\"Number of features: {len(explained_variance)}\")"
      ]
    },
    {
      "cell_type": "code",
      "execution_count": 27,
      "metadata": {},
      "outputs": [
        {
          "name": "stdout",
          "output_type": "stream",
          "text": [
            "Accuracy = 0.8906666666666667\n"
          ]
        }
      ],
      "source": [
        "accuracy_1 = weighted_svm_classifier(x_train_l4_pca, y_train[L4], x_valid_l4_pca, y_valid[L4])\n",
        "print(f\"Accuracy = {accuracy_1}\")"
      ]
    },
    {
      "cell_type": "markdown",
      "metadata": {},
      "source": [
        "#### Hyperparameter Tuning - Random Grid Search"
      ]
    },
    {
      "cell_type": "code",
      "execution_count": 113,
      "metadata": {},
      "outputs": [
        {
          "name": "stdout",
          "output_type": "stream",
          "text": [
            "Fitting 2 folds for each of 5 candidates, totalling 10 fits\n"
          ]
        },
        {
          "name": "stdout",
          "output_type": "stream",
          "text": [
            "{'kernel': 'poly', 'gamma': 1000.0, 'class_weight': 'balanced', 'C': 0.01}\n",
            "0.8159186535764376\n"
          ]
        }
      ],
      "source": [
        "param_dist = {\n",
        "    'C': np.logspace(-3, 3, 7),\n",
        "    'kernel': ['linear', 'rbf', 'poly'],\n",
        "    'gamma': np.logspace(-3, 3, 7),\n",
        "    'class_weight': ['balanced']\n",
        "}\n",
        "cv = 2\n",
        "n_iter = 5\n",
        "svm = SVC()\n",
        "\n",
        "random_search_l4 = random_grid_search(svm, param_dist, cv, n_iter, x_train_l4_pca, y_train[L4])\n",
        "best_model_l4 = random_search_l4.best_estimator_\n",
        "best_accuracy_l4 = random_search_l4.best_score_\n",
        "best_param = random_search_l4.best_params_\n",
        "\n",
        "print(best_param)\n",
        "print(best_accuracy_l4)\n"
      ]
    },
    {
      "cell_type": "code",
      "execution_count": 114,
      "metadata": {},
      "outputs": [
        {
          "name": "stdout",
          "output_type": "stream",
          "text": [
            "Accuracy after: 0.9746666666666667\n"
          ]
        }
      ],
      "source": [
        "y_pred_l4 = best_model_l4.predict(x_valid_l1_pca)\n",
        "accuracy = accuracy_score(y_valid[L4], y_pred_l4)\n",
        "print(f\"Accuracy after: {accuracy}\")"
      ]
    },
    {
      "cell_type": "markdown",
      "metadata": {},
      "source": [
        "#### Cross Validation"
      ]
    },
    {
      "cell_type": "code",
      "execution_count": 28,
      "metadata": {},
      "outputs": [
        {
          "name": "stdout",
          "output_type": "stream",
          "text": [
            "Cross-Validation Scores: [0.94161992 0.92952314 0.9414446  0.94670407 0.92180926]\n",
            "Mean Score: 0.9362201963534362\n",
            "Standard Deviation: 0.009153017446849782\n"
          ]
        }
      ],
      "source": [
        "model = SVC(kernel= 'poly', gamma= 1000.0, class_weight= 'balanced', C= 0.01)\n",
        "\n",
        "k_fold_cross_validation(model, 5, x_train_l4_pca, y_train[L4])"
      ]
    },
    {
      "cell_type": "markdown",
      "metadata": {},
      "source": [
        "## Prediciton"
      ]
    },
    {
      "cell_type": "code",
      "execution_count": 115,
      "metadata": {},
      "outputs": [],
      "source": [
        "# Label 1\n",
        "pred_l1 = best_model_l1.predict(x_test_l1_pca)\n",
        "# Label 2\n",
        "pred_l2 = best_model_l2.predict(x_test_l2_pca)\n",
        "# Label 3\n",
        "pred_l3 = best_model_l3.predict(x_test_l3_pca)\n",
        "# Label 4\n",
        "pred_l4 = best_model_l4.predict(x_test_l4_pca)"
      ]
    },
    {
      "cell_type": "code",
      "execution_count": 124,
      "metadata": {},
      "outputs": [],
      "source": [
        "id_list = test_df['ID']\n",
        "\n",
        "result = {\n",
        "    'ID': id_list,\n",
        "    'label_1': pred_l1,\n",
        "    'label_2': pred_l2,\n",
        "    'label_3': pred_l3,\n",
        "    'label_4': pred_l4\n",
        "}\n",
        "\n",
        "result_df = pd.DataFrame(result)\n",
        "\n",
        "result_df.to_csv('layer_9.csv', index=False)\n"
      ]
    }
  ],
  "metadata": {
    "colab": {
      "provenance": []
    },
    "kernelspec": {
      "display_name": "Python 3",
      "name": "python3"
    },
    "language_info": {
      "codemirror_mode": {
        "name": "ipython",
        "version": 3
      },
      "file_extension": ".py",
      "mimetype": "text/x-python",
      "name": "python",
      "nbconvert_exporter": "python",
      "pygments_lexer": "ipython3",
      "version": "3.10.5"
    }
  },
  "nbformat": 4,
  "nbformat_minor": 0
}
